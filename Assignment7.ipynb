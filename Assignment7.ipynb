{
 "cells": [
  {
   "cell_type": "markdown",
   "id": "5c5a73e2-6ef9-4798-9571-553432138adf",
   "metadata": {},
   "source": [
    "Q1. Create a function which will take a list as an argument and return the product of all the numbers\n",
    "after creating a flat list.\n",
    "Use the below-given list as an argument for your function.\n",
    "list1 = [1,2,3,4, [44,55,66, True], False, (34,56,78,89,34), {1,2,3,3,2,1}, {1:34, \"key2\": [55, 67, 78, 89], 4: (45,\n",
    "22, 61, 34)}, [56, 'data science'], 'Machine Learning']\n",
    "Note: you must extract numeric keys and values of the dictionary also."
   ]
  },
  {
   "cell_type": "code",
   "execution_count": 18,
   "id": "9dcfacef-58c5-451a-9ca7-df9952273f38",
   "metadata": {},
   "outputs": [
    {
     "name": "stdout",
     "output_type": "stream",
     "text": [
      "Original List:  [1, 2, 3, 4, [44, 55, 66, True], False, (34, 56, 78, 89, 34), {1, 2, 3}, {1: 34, 'key2': [55, 67, 78, 89], 4: (45, 22, 61, 34)}, [56, 'data science'], 'Machine Learning']\n",
      "After extracting:  [1, 2, 3, 4, 44, 55, 66, 34, 56, 78, 89, 34, 1, 2, 3, 1, 34, 55, 67, 78, 89, 4, 45, 22, 61, 34, 56]\n",
      "Product:  4134711838987085478833841242112000\n"
     ]
    }
   ],
   "source": [
    "import functools\n",
    "list1 = [1,2,3,4, [44,55,66, True], False, (34,56,78,89,34), {1,2,3,3,2,1}, {1:34, \"key2\": [55, 67, 78, 89], 4: (45,\n",
    "22, 61, 34)}, [56, 'data science'], 'Machine Learning']\n",
    "print(\"Original List: \",list1)\n",
    "\n",
    "l1=[]\n",
    "for item in list1:\n",
    "    if(type(item)==int):\n",
    "        #print(item,end=\" \")\n",
    "        l1.append(item)\n",
    "    elif(type(item)==list or type(item)==tuple or type(item)==set):\n",
    "        for i in item:\n",
    "            if(type(i)==int):\n",
    "                #print(i,end=\" \")\n",
    "                l1.append(i)\n",
    "    elif(type(item)==dict):\n",
    "        for k,v in item.items():\n",
    "            if(type(k)==int and type(v)==int):\n",
    "                #print(str(k)+\" \"+str(v),end=\" \")\n",
    "                l1.append(k)\n",
    "                l1.append(v)\n",
    "            elif(type(k)==int and type(v)==tuple):\n",
    "                #print(k,end=\" \")\n",
    "                l1.append(k)\n",
    "                for j in v:\n",
    "                    if(type(j)==int):\n",
    "                        #print(j,end=\" \")\n",
    "                        l1.append(j)\n",
    "            elif(type(k)==int):\n",
    "                #print(k,end=\" \")\n",
    "                l1.append(k)\n",
    "            elif(type(v)==int):\n",
    "                #print(v,end=\" \")\n",
    "                l1.append(v)\n",
    "            elif(type(v)==list):\n",
    "                for j in v:\n",
    "                    if(type(j)==int):\n",
    "                        #print(j,end=\" \")\n",
    "                        l1.append(j)\n",
    "                        \n",
    "print(\"After extracting: \",l1)\n",
    "\n",
    "print(\"Product: \",functools.reduce(lambda a,b:a*b,l1))"
   ]
  },
  {
   "cell_type": "markdown",
   "id": "c01c7b46-4fa7-42d1-829c-43a699e5b83f",
   "metadata": {},
   "source": [
    "Q2. Write a python program for encrypting a message sent to you by your friend. The logic of encryption\n",
    "should be such that, for a the output should be z. For b, the output should be y. For c, the output should\n",
    "be x respectively. Also, the whitespace should be replaced with a dollar sign. Keep the punctuation\n",
    "marks unchanged.\n",
    "Input Sentence: I want to become a Data Scientist.\n",
    "Encrypt the above input sentence using the program you just created.\n",
    "Note: Convert the given input sentence into lowercase before encrypting. The final output should be\n",
    "lowercase."
   ]
  },
  {
   "cell_type": "code",
   "execution_count": 24,
   "id": "fed34d6e-4601-4b0f-bae8-1606663fdd7e",
   "metadata": {},
   "outputs": [
    {
     "name": "stdin",
     "output_type": "stream",
     "text": [
      "Enter string:  I want to become a Data Scientist.\n"
     ]
    },
    {
     "name": "stdout",
     "output_type": "stream",
     "text": [
      "Encrypted String:  r$dzmg$gl$yvxlnv$z$wzgz$hxrvmgrhg.\n"
     ]
    }
   ],
   "source": [
    "def encrypt(msg):\n",
    "    start_index = ord('a')\n",
    "    end_index = ord('z')\n",
    "    res=\"\"\n",
    "    for m in msg:\n",
    "        if(m==\" \"):\n",
    "            res+=\"$\"\n",
    "        elif(m==\".\"):\n",
    "            res+=\".\"\n",
    "        else:\n",
    "            temp = ord(m)-start_index\n",
    "            res+=chr(end_index-temp)\n",
    "    return res\n",
    "\n",
    "string = input(\"Enter string: \")\n",
    "result = encrypt(string.lower())\n",
    "print(\"Encrypted String: \",result)\n",
    "    \n",
    "\n",
    "        "
   ]
  },
  {
   "cell_type": "code",
   "execution_count": null,
   "id": "a21e3d0c-345a-45e9-888a-b6cc3740ab27",
   "metadata": {},
   "outputs": [],
   "source": []
  }
 ],
 "metadata": {
  "kernelspec": {
   "display_name": "Python 3 (ipykernel)",
   "language": "python",
   "name": "python3"
  },
  "language_info": {
   "codemirror_mode": {
    "name": "ipython",
    "version": 3
   },
   "file_extension": ".py",
   "mimetype": "text/x-python",
   "name": "python",
   "nbconvert_exporter": "python",
   "pygments_lexer": "ipython3",
   "version": "3.10.8"
  }
 },
 "nbformat": 4,
 "nbformat_minor": 5
}
