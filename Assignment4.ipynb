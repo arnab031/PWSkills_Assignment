{
 "cells": [
  {
   "cell_type": "markdown",
   "id": "0fc0ff3e-9027-4768-a6b4-7a0637042e08",
   "metadata": {},
   "source": [
    "Q1. Which keyword is used to create a function? Create a function to return a list of odd numbers in the range of 1 to 25."
   ]
  },
  {
   "cell_type": "markdown",
   "id": "96c08583-d4fc-4fc4-90d9-cfbf453583f5",
   "metadata": {},
   "source": [
    "def keyword is used to create a function. "
   ]
  },
  {
   "cell_type": "code",
   "execution_count": 1,
   "id": "daeb7a40-8da2-43c0-a4a6-8b43b5011065",
   "metadata": {},
   "outputs": [
    {
     "name": "stdout",
     "output_type": "stream",
     "text": [
      "[1, 3, 5, 7, 9, 11, 13, 15, 17, 19, 21, 23, 25]\n"
     ]
    }
   ],
   "source": [
    "def find_odd_in_range(lower, upper):\n",
    "    return [i for i in range(lower,upper+1) if(i%2!=0)]\n",
    "\n",
    "print(find_odd_in_range(1,25))\n",
    "    \n",
    "            "
   ]
  },
  {
   "cell_type": "markdown",
   "id": "cd0304ac-e4fe-410f-8c21-da3a522423be",
   "metadata": {},
   "source": [
    "Q2. Why *args and **kwargs is used in some functions? Create a function each for *args and **kwargs to demonstrate their use."
   ]
  },
  {
   "cell_type": "markdown",
   "id": "5800c289-e294-41da-aa33-cbb7af41c0ad",
   "metadata": {},
   "source": [
    "We use *args and **kwargs as an argument when we are unsure about the number of arguments to pass in the functions."
   ]
  },
  {
   "cell_type": "code",
   "execution_count": 2,
   "id": "6926da8c-3471-4004-b3a4-50aca02d5da4",
   "metadata": {},
   "outputs": [
    {
     "name": "stdout",
     "output_type": "stream",
     "text": [
      "8\n",
      "30\n"
     ]
    }
   ],
   "source": [
    "def add(*args):\n",
    "    s = 0\n",
    "    for item in args:\n",
    "        s+=item\n",
    "    return s\n",
    "print(add(3,5))\n",
    "print(add(8,9,7,6))"
   ]
  },
  {
   "cell_type": "code",
   "execution_count": 3,
   "id": "99e9bbd3-79da-45ac-9964-aa78640de09d",
   "metadata": {},
   "outputs": [
    {
     "name": "stdout",
     "output_type": "stream",
     "text": [
      "FirstName : Arnab\n",
      "LastName : Bhakta\n"
     ]
    }
   ],
   "source": [
    "def describe(**kwargs):\n",
    "    for k,v in kwargs.items():\n",
    "        print(k+\" : \"+v)\n",
    "\n",
    "describe(FirstName='Arnab',LastName='Bhakta')"
   ]
  },
  {
   "cell_type": "markdown",
   "id": "45c927d5-c6bb-466c-aefb-789917981e7f",
   "metadata": {},
   "source": [
    "Q3. What is an iterator in python? Name the method used to initialise the iterator object and the method used for iteration. Use these methods to print the first five elements of the given list [2, 4, 6, 8, 10, 12, 14, 16, 18, 20]."
   ]
  },
  {
   "cell_type": "markdown",
   "id": "31122b39-119f-4ac1-aa41-99d37bc05658",
   "metadata": {},
   "source": [
    "An iterator is an object that can be iterated upon, meaning that you can traverse through all the values.\n",
    "\n",
    "__iter__() is used for initialise the iterator object and __next__() used for iteration."
   ]
  },
  {
   "cell_type": "code",
   "execution_count": 3,
   "id": "27503ba1-7668-421f-af64-fbd4d562062a",
   "metadata": {},
   "outputs": [
    {
     "name": "stdout",
     "output_type": "stream",
     "text": [
      "2\n",
      "4\n",
      "6\n",
      "8\n",
      "10\n"
     ]
    }
   ],
   "source": [
    "l1 = [2, 4, 6, 8, 10, 12, 14, 16, 18, 20]\n",
    "temp = iter(l1)\n",
    "count = 0\n",
    "for i in l1:\n",
    "    if(count==5):\n",
    "        break\n",
    "    count+=1\n",
    "    print(next(temp))"
   ]
  },
  {
   "cell_type": "markdown",
   "id": "98070856-768a-4587-8774-56b5c83da8b7",
   "metadata": {},
   "source": [
    "Q4. What is a generator function in python? Why yield keyword is used? Give an example of a generator function."
   ]
  },
  {
   "cell_type": "markdown",
   "id": "3e8b66eb-8250-4571-8519-2dc7ca118499",
   "metadata": {},
   "source": [
    "A generator is a function that returns an iterator that produces a sequence of values when iterated over.\n",
    "\n",
    "yield keyword is used to create a generator function. A type of function that is memory efficient and can be used like an iterator object.\n"
   ]
  },
  {
   "cell_type": "code",
   "execution_count": 5,
   "id": "c846dd2a-0a54-4066-8ac1-49127bed2330",
   "metadata": {},
   "outputs": [
    {
     "data": {
      "text/plain": [
       "[8, 2, 6]"
      ]
     },
     "execution_count": 5,
     "metadata": {},
     "output_type": "execute_result"
    }
   ],
   "source": [
    "# generator to print even numbers\n",
    "def print_even(test_list):\n",
    "    for i in test_list:\n",
    "        if i % 2 == 0:\n",
    "            yield i\n",
    "\n",
    "l1 = [3,7,8,9,2,6]\n",
    "list(print_even(l1))"
   ]
  },
  {
   "cell_type": "markdown",
   "id": "ebb71737-771c-448f-af53-c3547fa9c3dd",
   "metadata": {},
   "source": [
    "Q5. Create a generator function for prime numbers less than 1000. Use the next() method to print the first 20 prime numbers."
   ]
  },
  {
   "cell_type": "code",
   "execution_count": 20,
   "id": "a967468a-6c05-48c4-a796-54dcf9e74705",
   "metadata": {},
   "outputs": [
    {
     "name": "stdout",
     "output_type": "stream",
     "text": [
      "2 3 5 7 11 13 17 19 23 29 31 37 41 43 47 53 59 61 67 71 "
     ]
    }
   ],
   "source": [
    "def print_prime(limit):\n",
    "    for num in range(2,limit+1):\n",
    "        for j in range(2, num):\n",
    "            if(num%j==0):\n",
    "                break\n",
    "        else:\n",
    "            yield num\n",
    "                \n",
    "item = print_prime(1000)\n",
    "for _ in range(20):\n",
    "    print(next(item),end=' ')"
   ]
  },
  {
   "cell_type": "markdown",
   "id": "37d3470b-0a16-416f-9568-5a6a01e57438",
   "metadata": {},
   "source": [
    "Q6. Write a python program to print the first 10 Fibonacci numbers using a while loop."
   ]
  },
  {
   "cell_type": "code",
   "execution_count": 24,
   "id": "733efbe0-a504-4fc0-aa5e-dcd40bac0fa2",
   "metadata": {},
   "outputs": [
    {
     "name": "stdout",
     "output_type": "stream",
     "text": [
      "0 1 1 2 3 5 8 13 21 34 "
     ]
    }
   ],
   "source": [
    "a,b = 0,1\n",
    "n=0\n",
    "while(n!=10):\n",
    "    print(a, end=' ')\n",
    "    c=a+b\n",
    "    a = b\n",
    "    b = c\n",
    "    n+=1"
   ]
  },
  {
   "cell_type": "markdown",
   "id": "cc9b5b35-7a3d-4769-a621-57fe71145db4",
   "metadata": {},
   "source": [
    "Q7. Write a List Comprehension to iterate through the given string: ‘pwskills’.\n",
    "    Expected output: ['p', 'w', 's', 'k', 'i', 'l', 'l', 's']"
   ]
  },
  {
   "cell_type": "code",
   "execution_count": 25,
   "id": "4525e1b1-6658-45d1-aeaf-d2ec278aa6d7",
   "metadata": {},
   "outputs": [
    {
     "name": "stdout",
     "output_type": "stream",
     "text": [
      "['p', 'w', 's', 'k', 'i', 'l', 'l', 's']\n"
     ]
    }
   ],
   "source": [
    "string = \"pwskills\"\n",
    "print(list(string))"
   ]
  },
  {
   "cell_type": "markdown",
   "id": "0291719d-8b5e-479f-8fbd-035baef9748e",
   "metadata": {},
   "source": [
    "Q8. Write a python program to check whether a given number is Palindrome or not using a while loop."
   ]
  },
  {
   "cell_type": "code",
   "execution_count": 30,
   "id": "6ee85d75-fca7-46c9-9153-29e503cb6d89",
   "metadata": {},
   "outputs": [
    {
     "name": "stdin",
     "output_type": "stream",
     "text": [
      "Enter string:  madam\n"
     ]
    },
    {
     "name": "stdout",
     "output_type": "stream",
     "text": [
      "madam is palindrome\n"
     ]
    }
   ],
   "source": [
    "string = input(\"Enter string: \")\n",
    "result = \"\"\n",
    "for i in range(len(string)-1,-1,-1):\n",
    "    result+=string[i]\n",
    "if(string==result):\n",
    "    print(string+\" is palindrome\")\n",
    "else:\n",
    "    print(string+\" is not palindrome\")"
   ]
  },
  {
   "cell_type": "markdown",
   "id": "1733c10f-1164-49dd-b9eb-13b3e23ac44d",
   "metadata": {},
   "source": [
    "Q9. Write a code to print odd numbers from 1 to 100 using list comprehension."
   ]
  },
  {
   "cell_type": "code",
   "execution_count": 32,
   "id": "c5e59b3a-5d8f-41b8-9e38-da2b8124e154",
   "metadata": {},
   "outputs": [
    {
     "name": "stdout",
     "output_type": "stream",
     "text": [
      "[1, 3, 5, 7, 9, 11, 13, 15, 17, 19, 21, 23, 25, 27, 29, 31, 33, 35, 37, 39, 41, 43, 45, 47, 49, 51, 53, 55, 57, 59, 61, 63, 65, 67, 69, 71, 73, 75, 77, 79, 81, 83, 85, 87, 89, 91, 93, 95, 97, 99]\n"
     ]
    }
   ],
   "source": [
    "print([i for i in range(1,100) if(i%2!=0)])"
   ]
  },
  {
   "cell_type": "code",
   "execution_count": null,
   "id": "136b0897-f660-4abe-bec5-92040fe8dabd",
   "metadata": {},
   "outputs": [],
   "source": []
  }
 ],
 "metadata": {
  "kernelspec": {
   "display_name": "Python 3 (ipykernel)",
   "language": "python",
   "name": "python3"
  },
  "language_info": {
   "codemirror_mode": {
    "name": "ipython",
    "version": 3
   },
   "file_extension": ".py",
   "mimetype": "text/x-python",
   "name": "python",
   "nbconvert_exporter": "python",
   "pygments_lexer": "ipython3",
   "version": "3.10.8"
  }
 },
 "nbformat": 4,
 "nbformat_minor": 5
}
