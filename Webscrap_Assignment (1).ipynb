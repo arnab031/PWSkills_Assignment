{
 "cells": [
  {
   "cell_type": "markdown",
   "id": "0c7a4b26-fa83-4e26-995c-8e85f2b78d10",
   "metadata": {},
   "source": [
    "Go to this given URL and solve the following questions\n",
    "    URL: https://www.youtube.com/@PW-Foundation/videos\n",
    "\n",
    "    Q1. Write a python program to extract the video URL of the first five videos.\n",
    "    Q2. Write a python program to extract the URL of the video thumbnails of the first five videos.\n",
    "    Q3. Write a python program to extract the title of the first five videos.\n",
    "    Q4. Write a python program to extract the number of views of the first five videos.\n",
    "    Q5. Write a python program to extract the time of posting of video for the first five videos.\n",
    "    \n",
    "    Note: Save all the data scraped in the above questions in a CSV file.\n",
    "    \n",
    "    My CSV URL - https://github.com/arnab031/PWSkills_Assignment/blob/main/Channel.csv\n",
    "    \n",
    "    My deployment github link - https://github.com/arnab031/web_scrapping_assignment\n",
    "    \n",
    "    My deployment URL - https://webscrappingarnab.azurewebsites.net"
   ]
  },
  {
   "cell_type": "code",
   "execution_count": 38,
   "id": "0b6d8b98-35ec-4a5a-933c-1f1a021a478d",
   "metadata": {},
   "outputs": [],
   "source": [
    "import requests\n",
    "from bs4 import BeautifulSoup as bs\n",
    "from urllib.request import urlopen\n",
    "import logging\n",
    "import re\n",
    "import json"
   ]
  },
  {
   "cell_type": "code",
   "execution_count": 39,
   "id": "0bafc932-8090-4b36-b4fa-1100c9b78407",
   "metadata": {},
   "outputs": [],
   "source": [
    "youtube_url = \"https://www.youtube.com/@PW-Foundation/videos\""
   ]
  },
  {
   "cell_type": "code",
   "execution_count": 40,
   "id": "541b8dba-a761-42d5-8ee8-dbd0c4e5a267",
   "metadata": {},
   "outputs": [],
   "source": [
    "urlclient = urlopen(youtube_url)"
   ]
  },
  {
   "cell_type": "code",
   "execution_count": 41,
   "id": "4089d0d6-843d-4b22-8fa4-2ddb2557be01",
   "metadata": {},
   "outputs": [],
   "source": [
    "youtube_page = urlclient.read().decode()"
   ]
  },
  {
   "cell_type": "code",
   "execution_count": 42,
   "id": "463661c0-fdb2-4a4f-9d56-6e97b6a454e5",
   "metadata": {},
   "outputs": [
    {
     "data": {
      "text/plain": [
       "re.compile(r'\"videoId\":\"(\\S+)\",\"thumbnail\"', re.UNICODE)"
      ]
     },
     "execution_count": 42,
     "metadata": {},
     "output_type": "execute_result"
    }
   ],
   "source": [
    "re.compile(\"\\\"videoId\\\":\\\"(\\S+)\\\",\\\"thumbnail\\\"\")"
   ]
  },
  {
   "cell_type": "code",
   "execution_count": 47,
   "id": "6a67bac5-a19e-4de8-b759-4bf9e2cf94f0",
   "metadata": {},
   "outputs": [],
   "source": [
    "from datetime import datetime, timedelta\n",
    "\n",
    "def convert_date(n_days_ago):\n",
    "    #print(n_days_ago)\n",
    "    today = datetime.now()    \n",
    "    result = (today - timedelta(days=int(n_days_ago)))\n",
    "    result = result.date()\n",
    "    #print(today, result)\n",
    "    return result\n"
   ]
  },
  {
   "cell_type": "code",
   "execution_count": 49,
   "id": "4fdc664b-b2d0-42e5-9fed-85da3e69deb1",
   "metadata": {},
   "outputs": [],
   "source": [
    "re2 = re.compile(\"\\\"videoId\\\":\\\"(\\S+)\\\",\\\"thumbnail\\\"\")\n",
    "selected_channel_videos_list = []\n",
    "for c in re2.findall(youtube_page):\n",
    "    search_text = \"videoId\\\":\\\"{c}\\\"(.*?)watchEndpoint\\\":(.*?)\\\"videoId\\\":\\\"{c}\\\"\"\n",
    "    #print(search_text.format(c=c))\n",
    "    search_text = search_text.format(c=c)\n",
    "\n",
    "    youtube_video_info = {\n",
    "        \"video_url\": None,\n",
    "        \"thumbnail_url\": None,\n",
    "        \"youtube_title\": None,\n",
    "        \"views_count\": None,\n",
    "        \"posting_time\":None\n",
    "    }\n",
    "\n",
    "    f = re.search(search_text, youtube_page)\n",
    "    if f:\n",
    "        json_text2 = \"{\" + f.group(1)[1:-2] + \"}}\"\n",
    "        json_dict = json.loads(json_text2)\n",
    "        #print(json_dict)\n",
    "        thumbnail_url = json_dict.get(\"thumbnail\").get(\"thumbnails\")[0][\"url\"]\n",
    "        youtube_title = json_dict.get(\"title\").get(\"runs\")[0][\"text\"]\n",
    "        views_count = json_dict.get(\"viewCountText\").get(\"simpleText\")\n",
    "        views_count = re.sub(\"\\D\", \"\", views_count)\n",
    "        video_url = \"https://youtu.be\"+json_dict.get(\"navigationEndpoint\").get(\"commandMetadata\").get(\"webCommandMetadata\").get('url')\n",
    "        posting_time = json_dict.get(\"publishedTimeText\").get(\"simpleText\")\n",
    "        posting_date_time = convert_date(posting_time.split(\" \")[0])\n",
    "        #print(posting_date_time)\n",
    "        selected_channel_videos_list.append({\n",
    "            \"video_url\": video_url,\n",
    "            \"thumbnail_url\": thumbnail_url,\n",
    "            \"youtube_title\": youtube_title,\n",
    "            \"views_count\": views_count,\n",
    "            \"posting_time\": posting_date_time\n",
    "        })\n",
    "#print(selected_channel_videos_list, len(selected_channel_videos_list), sep=\"\\n\")"
   ]
  },
  {
   "cell_type": "code",
   "execution_count": 50,
   "id": "9eba5aba-102e-4224-ab9b-921e3841eefe",
   "metadata": {},
   "outputs": [],
   "source": [
    "import csv\n",
    "csv_columns = ['video_url','thumbnail_url','youtube_title','views_count','posting_time']\n",
    "\n",
    "csv_file = \"Channel.csv\"\n",
    "try:\n",
    "    with open(csv_file, 'w') as csvfile:\n",
    "        writer = csv.DictWriter(csvfile, fieldnames=csv_columns)\n",
    "        writer.writeheader()\n",
    "        for data in selected_channel_videos_list:\n",
    "            writer.writerow(data)\n",
    "except IOError:\n",
    "    print(\"I/O error\")"
   ]
  },
  {
   "cell_type": "code",
   "execution_count": null,
   "id": "93f4a69b-2d9a-434d-bd11-c7c932f5b3d6",
   "metadata": {},
   "outputs": [],
   "source": []
  }
 ],
 "metadata": {
  "kernelspec": {
   "display_name": "Python 3 (ipykernel)",
   "language": "python",
   "name": "python3"
  },
  "language_info": {
   "codemirror_mode": {
    "name": "ipython",
    "version": 3
   },
   "file_extension": ".py",
   "mimetype": "text/x-python",
   "name": "python",
   "nbconvert_exporter": "python",
   "pygments_lexer": "ipython3",
   "version": "3.10.8"
  }
 },
 "nbformat": 4,
 "nbformat_minor": 5
}
