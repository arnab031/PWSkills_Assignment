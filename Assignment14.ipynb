{
 "cells": [
  {
   "cell_type": "markdown",
   "id": "aaebe6fb-2892-4af3-9395-08ea99a22d36",
   "metadata": {},
   "source": [
    "Q1. What is multithreading in python? Why is it used? Name the module used to handle threads in python."
   ]
  },
  {
   "cell_type": "markdown",
   "id": "4db87dd5-dd7b-4e84-b986-1fc13cc694e2",
   "metadata": {},
   "source": [
    "Multithreading is when a program creates multiple threads with execution cycling among them, so one longer-running task doesn't block all the others. This works well for tasks that can be broken down into smaller subtasks, which can then each be given to a thread to be completed."
   ]
  },
  {
   "cell_type": "markdown",
   "id": "b8fd920f-efc3-4447-81b0-5154407e9e8e",
   "metadata": {},
   "source": [
    "Multithreading allows the execution of multiple parts of a program at the same time. These parts are known as threads and are lightweight processes available within the process. So multithreading leads to maximum utilization of the CPU by multitasking."
   ]
  },
  {
   "cell_type": "markdown",
   "id": "b2c1a502-978a-4ee5-a10d-2ccc42e543a9",
   "metadata": {},
   "source": [
    "Threading module is used to handle threads in python."
   ]
  },
  {
   "cell_type": "markdown",
   "id": "5d30273e-3b38-4b27-ad71-9c0039774bcf",
   "metadata": {},
   "source": [
    "Q2. Why threading module used? Write the use of the following functions:\n",
    "    1. activeCount() \n",
    "    2. currentThread()\n",
    "    3. enumerate()"
   ]
  },
  {
   "cell_type": "markdown",
   "id": "1539032b-0afb-48f2-a8c0-8791f7b93ae3",
   "metadata": {},
   "source": [
    "The threading module provided with Python includes a simple-to-implement locking mechanism that allows you to synchronize threads. \n",
    "\n",
    "1. activeCount() - The activeCount() method of thread class is used to return the number of active threads in the current thread's thread group. The value returned is only an estimate because the number of threads may change dynamically while this method traverses internal data structures.\n",
    "\n",
    "2. currentThread() - The currentThread() method of thread class return a reference to the currently executing thread object.\n",
    "\n",
    "3. enumerate() - The enumerate() function takes a collection (e.g. a tuple) and returns it as an enumerate object. The enumerate() function adds a counter as the key of the enumerate object."
   ]
  },
  {
   "cell_type": "markdown",
   "id": "15fc3ac4-4745-4a27-94a8-b0eb018de421",
   "metadata": {},
   "source": [
    "Q3. Explain the following functions:\n",
    "    1. run() \n",
    "    2. start()\n",
    "    3. join()\n",
    "    4. isAlive()"
   ]
  },
  {
   "cell_type": "markdown",
   "id": "6413ee79-829f-43e0-904a-f73203380fb7",
   "metadata": {},
   "source": [
    "1. run() - A run() method is used to define a thread's activity and can be overridden by a class that extends the threads class.\n",
    "2. start() - A start() method is used to initiate the activity of a thread. And it calls only once for each thread so that the execution of the thread can begin.\n",
    "3. join() - A join() method is used to block the execution of another code until the thread terminates.\n",
    "4. isAlive() - The isAlive() method of thread class tests if the thread is alive. A thread is considered alive when the start() method of thread class has been called and the thread is not yet dead. This method returns true if the thread is still running and not finished."
   ]
  },
  {
   "cell_type": "markdown",
   "id": "7077a998-125f-4c0e-8d22-7f1a2fec28ca",
   "metadata": {},
   "source": [
    "Q4. Write a python program to create two threads. Thread one must print the list of squares and thread two must print the list of cubes."
   ]
  },
  {
   "cell_type": "code",
   "execution_count": 4,
   "id": "578231d7-a724-4364-8cc0-1f6418625ec4",
   "metadata": {},
   "outputs": [
    {
     "name": "stdout",
     "output_type": "stream",
     "text": [
      "Calculating Square of a number\n",
      "Calculating Cube of a number\n",
      "Square:  25\n",
      "Cube:  125\n",
      "Square:  49\n",
      "Cube:  343\n",
      "Square:  9\n",
      "Cube:  27\n",
      "Square:  16\n",
      "Cube:  64\n",
      "Square:  81\n",
      "Cube:  729\n",
      "Total time taking by thread:  5.0076751708984375\n"
     ]
    }
   ],
   "source": [
    "import time\n",
    "import threading\n",
    "\n",
    "from threading import *\n",
    "\n",
    "def cal_square(n):\n",
    "    print(\"Calculating Square of a number\")\n",
    "    for i in n:\n",
    "        time.sleep(1)\n",
    "        print(\"Square: \",i*i)\n",
    "        \n",
    "def cal_cube(n):\n",
    "    print(\"Calculating Cube of a number\")\n",
    "    for i in n:\n",
    "        time.sleep(1)\n",
    "        print(\"Cube: \",i**3)\n",
    "        \n",
    "arr = [5,7,3,4,9]\n",
    "t = time.time()\n",
    "thread1 = threading.Thread(target=cal_square, args=(arr,))\n",
    "thread2 = threading.Thread(target=cal_cube, args=(arr,))\n",
    "thread1.start()\n",
    "thread2.start()\n",
    "thread1.join()\n",
    "thread2.join()\n",
    "\n",
    "print(\"Total time taking by thread: \",time.time()-t)"
   ]
  },
  {
   "cell_type": "markdown",
   "id": "20f91084-bbda-4c4d-9909-b0f0bbc2591f",
   "metadata": {},
   "source": [
    "Q5. State advantages and disadvantages of multithreading."
   ]
  },
  {
   "cell_type": "markdown",
   "id": "3d50dfc3-24d6-4814-b2fc-1e955124ec78",
   "metadata": {},
   "source": [
    "Advantages - \n",
    " 1. Enhanced performance by decreased development time.\n",
    " 2. Simultaneous and parallelized occurrence of tasks.\n",
    " 3. Improvised GUI responsiveness\n",
    "    \n",
    "Disadvantages - \n",
    " 1. Complex debugging and testing processes\n",
    " 2. Unpredictable results\n",
    " 3. Increased potential for deadlock occurrence"
   ]
  },
  {
   "cell_type": "markdown",
   "id": "b63458e8-92cd-45b2-aec6-55eb2a030ff2",
   "metadata": {},
   "source": [
    "Q6. Explain deadlocks and race conditions."
   ]
  },
  {
   "cell_type": "markdown",
   "id": "c0f0ef9b-6f1a-424a-a304-3d9e329921ed",
   "metadata": {},
   "source": [
    "Deadlocks - A deadlock is a situation in which two computer programs sharing the same resource are effectively preventing each other from accessing the resource, resulting in both programs ceasing to function.\n",
    "\n",
    "Race conditions - A race condition is an undesirable situation that occurs when a device or system attempts to perform two or more operations at the same time, but because of the nature of the device or system, the operations must be done in the proper sequence to be done correctly."
   ]
  },
  {
   "cell_type": "code",
   "execution_count": null,
   "id": "2b23e231-2c49-41b3-94dd-fd00195cc085",
   "metadata": {},
   "outputs": [],
   "source": []
  }
 ],
 "metadata": {
  "kernelspec": {
   "display_name": "Python 3 (ipykernel)",
   "language": "python",
   "name": "python3"
  },
  "language_info": {
   "codemirror_mode": {
    "name": "ipython",
    "version": 3
   },
   "file_extension": ".py",
   "mimetype": "text/x-python",
   "name": "python",
   "nbconvert_exporter": "python",
   "pygments_lexer": "ipython3",
   "version": "3.10.8"
  }
 },
 "nbformat": 4,
 "nbformat_minor": 5
}
