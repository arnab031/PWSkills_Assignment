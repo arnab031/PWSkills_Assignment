{
 "cells": [
  {
   "cell_type": "markdown",
   "id": "3d99ffd9-efa3-4db4-ac96-59388ca834b3",
   "metadata": {},
   "source": [
    "Q1. You are writing code for a company. The requirement of the company is that you create a python\n",
    "function that will check whether the password entered by the user is correct or not. The function should\n",
    "take the password as input and return the string “Valid Password” if the entered password follows the\n",
    "below-given password guidelines else it should return “Invalid Password”.\n",
    "Note: 1. The Password should contain at least two uppercase letters and at least two lowercase letters.\n",
    "2. The Password should contain at least a number and three special characters.\n",
    "3. The length of the password should be 10 characters long."
   ]
  },
  {
   "cell_type": "code",
   "execution_count": 15,
   "id": "fd798b9f-2e04-448f-b7bf-d2ef76b50716",
   "metadata": {},
   "outputs": [
    {
     "name": "stdin",
     "output_type": "stream",
     "text": [
      "Enter your password:  ABch1@#$ab\n"
     ]
    },
    {
     "name": "stdout",
     "output_type": "stream",
     "text": [
      "No of uppercase: 2, No of lowercase: 4, No of number: 1, No of Special Character: 3\n",
      "Valid Password\n"
     ]
    }
   ],
   "source": [
    "def check_password(password):\n",
    "    isValid = False\n",
    "    uppercase = 0\n",
    "    lowercase = 0\n",
    "    count_number = 0\n",
    "    special_character = [ '@', '_', '!', '#', '$', '%', '^', '&', '*', '(', ')', '<', '>', '?', '/', '\\\\', '|', '{', '}', '~', ':'] \n",
    "    special_character_no=0\n",
    "    if(len(password)==10):\n",
    "        for i in password:\n",
    "            if(i.isupper()):\n",
    "                uppercase+=1\n",
    "            elif(i.islower()):\n",
    "                lowercase+=1\n",
    "            elif(i.isnumeric()):\n",
    "                count_number+=1\n",
    "            elif(i in special_character):\n",
    "                special_character_no+=1\n",
    "        print(\"No of uppercase: \"+str(uppercase)+\", No of lowercase: \"+str(lowercase)+\", No of number: \"+str(count_number)+\", No of Special Character: \"+str(special_character_no))\n",
    "        if(uppercase>=2 and lowercase>=2 and count_number>=1 and special_character_no>=3):\n",
    "            return \"Valid Password\"\n",
    "        else:\n",
    "            return \"Invalid Password\"\n",
    "    else:\n",
    "        return \"Invalid Password\"\n",
    "    \n",
    "password = input(\"Enter your password: \")\n",
    "print(check_password(password))"
   ]
  },
  {
   "cell_type": "markdown",
   "id": "8f8dcc26-e343-4cbc-895c-08ab5f737fba",
   "metadata": {},
   "source": [
    "Q2. Solve the below-given questions using at least one of the following:\n",
    "1. Lambda function\n",
    "2. Filter function\n",
    "3. Map function\n",
    "4. List Comprehension\n",
    "  \n",
    "  * Check if the string starts with a particular letter.\n",
    "  * Check if the string is numeric.\n",
    "  * Sort a list of tuples having fruit names and their quantity. [(\"mango\",99),(\"orange\",80), (\"grapes\", 1000)]\n",
    "  * Find the squares of numbers from 1 to 10.\n",
    "  * Find the cube root of numbers from 1 to 10.\n",
    "  * Check if a given number is even.\n",
    "  * Filter odd numbers from the given list.\n",
    "    [1,2,3,4,5,6,7,8,9,10]\n",
    "  * Sort a list of integers into positive and negative integers lists.\n",
    "    [1,2,3,4,5,6,-1,-2,-3,-4,-5,0]"
   ]
  },
  {
   "cell_type": "markdown",
   "id": "9b16b492-afe6-4429-a457-39bc4eea741e",
   "metadata": {},
   "source": [
    "* Check if the string starts with a particular letter."
   ]
  },
  {
   "cell_type": "code",
   "execution_count": null,
   "id": "27c6f463-3efd-4c6d-971f-9116a245c7cf",
   "metadata": {},
   "outputs": [
    {
     "name": "stdin",
     "output_type": "stream",
     "text": [
      "Enter String:  hello\n"
     ]
    },
    {
     "name": "stdout",
     "output_type": "stream",
     "text": [
      "True\n"
     ]
    }
   ],
   "source": [
    "s = input(\"Enter String: \")\n",
    "res = lambda x: True if(x[0].isalpha()) else False\n",
    "print(res(s))"
   ]
  },
  {
   "cell_type": "markdown",
   "id": "077e6b9d-547e-421e-a0cd-51fcb6b0db99",
   "metadata": {},
   "source": [
    " * Check if the string is numeric."
   ]
  },
  {
   "cell_type": "code",
   "execution_count": 34,
   "id": "96c171a3-ed29-4d52-9c9f-76007b750629",
   "metadata": {},
   "outputs": [
    {
     "name": "stdin",
     "output_type": "stream",
     "text": [
      "Enter String:  he123\n"
     ]
    },
    {
     "name": "stdout",
     "output_type": "stream",
     "text": [
      "False\n"
     ]
    }
   ],
   "source": [
    "s = input(\"Enter String: \")\n",
    "res = lambda x: True if(x[0].isnumeric()) else False\n",
    "print(res(s))"
   ]
  },
  {
   "cell_type": "markdown",
   "id": "b97a476f-667f-42fc-944f-08bb6b01b443",
   "metadata": {},
   "source": [
    "* Sort a list of tuples having fruit names and their quantity. [(\"mango\",99),(\"orange\",80), (\"grapes\", 1000)]"
   ]
  },
  {
   "cell_type": "code",
   "execution_count": 36,
   "id": "baf43100-91b0-4b3c-9200-10f6eb35656a",
   "metadata": {},
   "outputs": [
    {
     "name": "stdout",
     "output_type": "stream",
     "text": [
      "[('orange', 80), ('mango', 99), ('grapes', 1000)]\n"
     ]
    }
   ],
   "source": [
    "l1=[(\"mango\",99),(\"orange\",80), (\"grapes\", 1000)]\n",
    "res = sorted(l1, key=lambda x:x[1])\n",
    "print(res)"
   ]
  },
  {
   "cell_type": "markdown",
   "id": "974c8cb0-86b2-4090-a764-0b0e1dc80b22",
   "metadata": {},
   "source": [
    "* Find the squares of numbers from 1 to 10."
   ]
  },
  {
   "cell_type": "code",
   "execution_count": 44,
   "id": "53402e84-23e2-4fdd-a4b1-cba1c254a210",
   "metadata": {},
   "outputs": [
    {
     "name": "stdout",
     "output_type": "stream",
     "text": [
      "[1, 4, 9, 16, 25, 36, 49, 64, 81, 100]\n"
     ]
    }
   ],
   "source": [
    "l1=list(range(1,11))\n",
    "res = list(map(lambda x:x**2 , l1))\n",
    "print(res)"
   ]
  },
  {
   "cell_type": "markdown",
   "id": "0eac0ba8-a58b-4f9e-824f-a79c71479ec4",
   "metadata": {},
   "source": [
    "* Find the cube root of numbers from 1 to 10."
   ]
  },
  {
   "cell_type": "code",
   "execution_count": 47,
   "id": "3b260516-170c-432e-aa36-3e3e3f0e27f6",
   "metadata": {},
   "outputs": [
    {
     "name": "stdout",
     "output_type": "stream",
     "text": [
      "[1, 8, 27, 64, 125, 216, 343, 512, 729, 1000]\n"
     ]
    }
   ],
   "source": [
    "res = list(map(lambda x:x**3 , list(range(1,11))))\n",
    "print(res)"
   ]
  },
  {
   "cell_type": "markdown",
   "id": "aa12014f-1e5a-478e-8a0e-4c845ae9cced",
   "metadata": {},
   "source": [
    "* Check if a given number is even."
   ]
  },
  {
   "cell_type": "code",
   "execution_count": 50,
   "id": "d39d789e-5e9e-40fb-a4ee-5638533860ea",
   "metadata": {},
   "outputs": [
    {
     "name": "stdin",
     "output_type": "stream",
     "text": [
      "Enter number:  35\n"
     ]
    },
    {
     "name": "stdout",
     "output_type": "stream",
     "text": [
      "Even Number:  False\n"
     ]
    }
   ],
   "source": [
    "n = int(input(\"Enter number: \"))\n",
    "res = lambda x: True if x%2==0 else False\n",
    "print(\"Even Number: \",res(n))"
   ]
  },
  {
   "cell_type": "markdown",
   "id": "0d8501e3-0e74-4559-a2af-459f3b4038b9",
   "metadata": {},
   "source": [
    "* Filter odd numbers from the given list.\n",
    "  [1,2,3,4,5,6,7,8,9,10]"
   ]
  },
  {
   "cell_type": "code",
   "execution_count": 52,
   "id": "4c96a2a1-f3e4-49c1-b784-c0948b9a999c",
   "metadata": {},
   "outputs": [
    {
     "name": "stdout",
     "output_type": "stream",
     "text": [
      "[1, 3, 5, 7, 9]\n"
     ]
    }
   ],
   "source": [
    "l1 = [1,2,3,4,5,6,7,8,9,10]\n",
    "res = filter(lambda x:x%2!=0,l1)\n",
    "print(list(res))"
   ]
  },
  {
   "cell_type": "markdown",
   "id": "450b45a7-15ce-45a1-9922-ad886e4b47af",
   "metadata": {},
   "source": [
    " * Sort a list of integers into positive and negative integers lists. [1,2,3,4,5,6,-1,-2,-3,-4,-5,0]"
   ]
  },
  {
   "cell_type": "code",
   "execution_count": 56,
   "id": "f9c33c7d-7ced-49f3-9b02-b7d975b90404",
   "metadata": {},
   "outputs": [
    {
     "name": "stdout",
     "output_type": "stream",
     "text": [
      "[-5, -4, -3, -2, -1, 0, 1, 2, 3, 4, 5, 6]\n"
     ]
    }
   ],
   "source": [
    "l1 = [1,2,3,4,5,6,-1,-2,-3,-4,-5,0]\n",
    "l1.sort()\n",
    "print(l1)"
   ]
  },
  {
   "cell_type": "code",
   "execution_count": null,
   "id": "74a56668-a469-4324-bda8-13fa4a040d7a",
   "metadata": {},
   "outputs": [],
   "source": []
  }
 ],
 "metadata": {
  "kernelspec": {
   "display_name": "Python 3 (ipykernel)",
   "language": "python",
   "name": "python3"
  },
  "language_info": {
   "codemirror_mode": {
    "name": "ipython",
    "version": 3
   },
   "file_extension": ".py",
   "mimetype": "text/x-python",
   "name": "python",
   "nbconvert_exporter": "python",
   "pygments_lexer": "ipython3",
   "version": "3.10.8"
  }
 },
 "nbformat": 4,
 "nbformat_minor": 5
}
