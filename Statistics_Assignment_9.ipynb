{
 "cells": [
  {
   "cell_type": "markdown",
   "id": "9820f5fa-5807-4163-b3d6-3494c1ca3a2b",
   "metadata": {},
   "source": [
    "Q1. Write a Python function that takes in two arrays of data and calculates the F-value for a variance ratio\n",
    "test. The function should return the F-value and the corresponding p-value for the test."
   ]
  },
  {
   "cell_type": "code",
   "execution_count": 2,
   "id": "69649559-c5ea-4384-ac1c-adebb8462098",
   "metadata": {},
   "outputs": [
    {
     "data": {
      "text/plain": [
       "(1.2615333944000635, 0.41365343726057935)"
      ]
     },
     "execution_count": 2,
     "metadata": {},
     "output_type": "execute_result"
    }
   ],
   "source": [
    "import numpy as np\n",
    "from scipy.stats import f\n",
    "\n",
    "def variance_ratio_test(data1, data2):\n",
    "\n",
    "    var1 = np.var(data1, ddof=1)\n",
    "    var2 = np.var(data2, ddof=1)\n",
    "    if var1 >= var2:\n",
    "        f_ratio = var1 / var2\n",
    "        df1 = len(data1) - 1\n",
    "        df2 = len(data2) - 1\n",
    "    else:\n",
    "        f_ratio = var2 / var1\n",
    "        df1 = len(data2) - 1\n",
    "        df2 = len(data1) - 1\n",
    "    p_value = f.sf(f_ratio, df1, df2)\n",
    "    return f_ratio, p_value\n",
    "\n",
    "variance_ratio_test(np.random.rand(5),np.random.rand(5))"
   ]
  },
  {
   "cell_type": "markdown",
   "id": "fa5add5e-6312-47fc-99b2-427ee1d1c0de",
   "metadata": {},
   "source": [
    "Q2. Given a significance level of 0.05 and the degrees of freedom for the numerator and denominator of an\n",
    "F-distribution, write a Python function that returns the critical F-value for a two-tailed test."
   ]
  },
  {
   "cell_type": "code",
   "execution_count": 3,
   "id": "722ba4db-5854-4567-bd2a-f8faf7959cfe",
   "metadata": {},
   "outputs": [],
   "source": [
    "from scipy.stats import f\n",
    "\n",
    "def critical_f_value(alpha, dfn, dfd):\n",
    "    \n",
    "    return f.ppf(1 - alpha / 2, dfn, dfd)\n"
   ]
  },
  {
   "cell_type": "markdown",
   "id": "a0e917a7-f68d-4b25-9b3e-66ee84b83198",
   "metadata": {},
   "source": [
    "Q3. Write a Python program that generates random samples from two normal distributions with known variances and uses an F-test to determine if the variances are equal. The program should output the F-\n",
    "value, degrees of freedom, and p-value for the test."
   ]
  },
  {
   "cell_type": "code",
   "execution_count": 5,
   "id": "25b01139-3126-47f2-9e3f-faf667fab8ce",
   "metadata": {},
   "outputs": [
    {
     "name": "stdout",
     "output_type": "stream",
     "text": [
      "F-value:  0.8541680738733455\n",
      "Degrees of freedom:  29 39\n",
      "P-value:  0.6671928100142024\n"
     ]
    }
   ],
   "source": [
    "import numpy as np\n",
    "from scipy.stats import f\n",
    "\n",
    "# Set the seed for reproducibility\n",
    "np.random.seed(123)\n",
    "\n",
    "# Generate random samples from two normal distributions with known variances\n",
    "n1 = 30\n",
    "n2 = 40\n",
    "mean1 = 5\n",
    "mean2 = 5\n",
    "var1 = 2\n",
    "var2 = 2.5\n",
    "data1 = np.random.normal(loc=mean1, scale=np.sqrt(var1), size=n1)\n",
    "data2 = np.random.normal(loc=mean2, scale=np.sqrt(var2), size=n2)\n",
    "\n",
    "# Perform an F-test to determine if the variances are equal\n",
    "f_ratio = np.var(data1, ddof=1) / np.var(data2, ddof=1)\n",
    "df1 = n1 - 1\n",
    "df2 = n2 - 1\n",
    "p_value = f.sf(f_ratio, df1, df2)\n",
    "\n",
    "# Output the F-value, degrees of freedom, and p-value for the test\n",
    "print(\"F-value: \",f_ratio)\n",
    "print(\"Degrees of freedom: \",df1, df2)\n",
    "print(\"P-value: \",p_value)\n"
   ]
  },
  {
   "cell_type": "markdown",
   "id": "6fe0e77d-3231-4207-ba24-29215a00c0a6",
   "metadata": {},
   "source": [
    "Q4.The variances of two populations are known to be 10 and 15. A sample of 12 observations is taken from\n",
    "each population. Conduct an F-test at the 5% significance level to determine if the variances are\n",
    "significantly different."
   ]
  },
  {
   "cell_type": "code",
   "execution_count": 8,
   "id": "f9dc2629-2a50-4618-ae3d-ab178b2f9398",
   "metadata": {},
   "outputs": [
    {
     "name": "stdout",
     "output_type": "stream",
     "text": [
      "F critical value:  3.473699051085809\n",
      "F Statistic value:  1.5\n",
      "Fail to reject null hypothesis; variances are not significantly different.\n"
     ]
    }
   ],
   "source": [
    "# The null hypothesis is that the variances of the two populations are equal, \n",
    "# The alternative hypothesis is that they are not equal.\n",
    "import scipy.stats as stats\n",
    "\n",
    "# Set the significance level and degrees of freedom\n",
    "alpha = 0.05\n",
    "dfn = 12-1 # degrees of freedom numerator (n1 - 1)\n",
    "dfd = 12-1 # degrees of freedom denominator (n2 - 1)\n",
    "\n",
    "# Calculate the F-critical value\n",
    "F_crit = stats.f.ppf(q=1-alpha/2, dfn=dfn, dfd=dfd)\n",
    "\n",
    "# Calculate the test statistic\n",
    "F_stat = 15/10 # larger variance divided by the smaller variance\n",
    "\n",
    "print(\"F critical value: \",F_crit)\n",
    "print(\"F Statistic value: \",F_stat)\n",
    "\n",
    "# Determine if the null hypothesis is rejected\n",
    "if F_stat > F_crit or 1/F_stat > F_crit:\n",
    "    print(\"Reject null hypothesis; variances are significantly different.\")\n",
    "else:\n",
    "    print(\"Fail to reject null hypothesis; variances are not significantly different.\")\n"
   ]
  },
  {
   "cell_type": "markdown",
   "id": "ebb80185-d18b-4da9-88de-e26e9df64501",
   "metadata": {},
   "source": [
    "Q5. A manufacturer claims that the variance of the diameter of a certain product is 0.005. A sample of 25\n",
    "products is taken, and the sample variance is found to be 0.006. Conduct an F-test at the 1% significance\n",
    "level to determine if the claim is justified."
   ]
  },
  {
   "cell_type": "code",
   "execution_count": 9,
   "id": "60c9ba8a-957e-4951-a222-01b6b6fb870a",
   "metadata": {},
   "outputs": [
    {
     "name": "stdout",
     "output_type": "stream",
     "text": [
      "1.2\n",
      "Fail to reject null hypothesis; population variance is not greater than 0.005.\n"
     ]
    }
   ],
   "source": [
    "# The null hypothesis is that the population variance is equal to 0.005\n",
    "# The alternative hypothesis is that it is greater than 0.005. \n",
    "\n",
    "## Calaculating Ftest\n",
    "import numpy as np\n",
    "import scipy.stats as stat\n",
    "\n",
    "f_test=0.006/0.005\n",
    "\n",
    "print(f_test)\n",
    "\n",
    "dfn = 24 # degrees of freedom numerator (n - 1)\n",
    "dfd = 0.005 # degrees of freedom denominator (population variance)\n",
    "signifance_value=0.01\n",
    "\n",
    "critical_value=stat.f.ppf(q=1-signifance_value,dfn=dfn,dfd=dfd)\n",
    "\n",
    "# Determine if the null hypothesis is rejected\n",
    "if F_stat > F_crit:\n",
    "    print(\"Reject null hypothesis; population variance is greater than 0.005.\")\n",
    "else:\n",
    "    print(\"Fail to reject null hypothesis; population variance is not greater than 0.005.\")"
   ]
  },
  {
   "cell_type": "markdown",
   "id": "5596e088-e87c-4461-89c9-0a74ffafbe9a",
   "metadata": {},
   "source": [
    "Q6. Write a Python function that takes in the degrees of freedom for the numerator and denominator of an\n",
    "F-distribution and calculates the mean and variance of the distribution. The function should return the\n",
    "mean and variance as a tuple."
   ]
  },
  {
   "cell_type": "code",
   "execution_count": 10,
   "id": "847da62f-ea07-454f-9d65-ac0b7be295df",
   "metadata": {},
   "outputs": [
    {
     "data": {
      "text/plain": [
       "(1.2222222222222223, 0.8536155202821869)"
      ]
     },
     "execution_count": 10,
     "metadata": {},
     "output_type": "execute_result"
    }
   ],
   "source": [
    "def mean_variance(dfn, dfd):\n",
    "    mean = dfd / (dfd - 2)\n",
    "    variance = (2 * (dfd ** 2) * (dfn + dfd - 2)) / ((dfn * (dfd - 2) ** 2 * (dfd - 4)))\n",
    "    return mean, variance\n",
    "\n",
    "mean_variance(9,11)"
   ]
  },
  {
   "cell_type": "markdown",
   "id": "fcfa4dbe-61b8-473d-9384-d04b6d5c827f",
   "metadata": {},
   "source": [
    "Q7. A random sample of 10 measurements is taken from a normal population with unknown variance. The\n",
    "sample variance is found to be 25. Another random sample of 15 measurements is taken from another\n",
    "normal population with unknown variance, and the sample variance is found to be 20. Conduct an F-test\n",
    "at the 10% significance level to determine if the variances are significantly different."
   ]
  },
  {
   "cell_type": "code",
   "execution_count": 14,
   "id": "02e9c7df-223a-4613-a933-60df755aecf7",
   "metadata": {},
   "outputs": [
    {
     "name": "stdout",
     "output_type": "stream",
     "text": [
      "1.25\n",
      "Fail to reject null hypothesis; the variances are not significantly different.\n"
     ]
    }
   ],
   "source": [
    "# The null hypothesis is that the variances are not significantly different.\n",
    "# The alternative hypothesis is that variances are significantly different. \n",
    "\n",
    "## Calaculating Ftest\n",
    "import numpy as np\n",
    "import scipy.stats as stat\n",
    "\n",
    "n1 = 10\n",
    "n2 = 15\n",
    "f_test=25/20\n",
    "\n",
    "print(f_test)\n",
    "\n",
    "dfn = n1-1 # degrees of freedom numerator (n - 1)\n",
    "dfd = n2-1 # degrees of freedom denominator (population variance)\n",
    "signifance_value=0.10/2\n",
    "\n",
    "critical_value=stat.f.ppf(q=1-signifance_value,dfn=dfn,dfd=dfd)\n",
    "\n",
    "# Determine if the null hypothesis is rejected\n",
    "if F_stat > F_crit:\n",
    "    print(\"Reject null hypothesis; the variances are significantly different.\")\n",
    "else:\n",
    "    print(\"Fail to reject null hypothesis; the variances are not significantly different.\")"
   ]
  },
  {
   "cell_type": "markdown",
   "id": "f80e9a08-3573-42c2-9f56-63227fb3f33d",
   "metadata": {},
   "source": [
    "Q8. The following data represent the waiting times in minutes at two different restaurants on a Saturday\n",
    "night: Restaurant A: 24, 25, 28, 23, 22, 20, 27; Restaurant B: 31, 33, 35, 30, 32, 36. Conduct an F-test at the 5%\n",
    "significance level to determine if the variances are significantly different."
   ]
  },
  {
   "cell_type": "code",
   "execution_count": 17,
   "id": "afb32c2f-f4ca-4982-93a9-254a178f12fd",
   "metadata": {},
   "outputs": [
    {
     "name": "stdout",
     "output_type": "stream",
     "text": [
      "F Test:  1.496767651159843\n",
      "Critical Value:  6.977701858535566\n",
      "Fail to reject null hypothesis; the variances are not significantly different.\n"
     ]
    }
   ],
   "source": [
    "# The null hypothesis is that the variances are not significantly different.\n",
    "# The alternative hypothesis is that variances are significantly different. \n",
    "\n",
    "## Calaculating Ftest\n",
    "import numpy as np\n",
    "import scipy.stats as stat\n",
    "\n",
    "arr1 = [24, 25, 28, 23, 22, 20, 27]\n",
    "arr2 = [31, 33, 35, 30, 32, 36]\n",
    "n1 = len(arr1)\n",
    "n2 = len(arr2)\n",
    "f_test=np.var(arr1)/np.var(arr2)\n",
    "\n",
    "print(\"F Test: \",f_test)\n",
    "\n",
    "dfn = n1-1 # degrees of freedom numerator (n - 1)\n",
    "dfd = n2-1 # degrees of freedom denominator (n - 1)\n",
    "signifance_value=0.05/2\n",
    "\n",
    "critical_value=stat.f.ppf(q=1-signifance_value,dfn=dfn,dfd=dfd)\n",
    "\n",
    "print(\"Critical Value: \",critical_value)\n",
    "\n",
    "# Determine if the null hypothesis is rejected\n",
    "if F_stat > F_crit:\n",
    "    print(\"Reject null hypothesis; the variances are significantly different.\")\n",
    "else:\n",
    "    print(\"Fail to reject null hypothesis; the variances are not significantly different.\")"
   ]
  },
  {
   "cell_type": "markdown",
   "id": "bb1160db-6924-4080-bfb0-2952b3d1c4f5",
   "metadata": {},
   "source": [
    "Q9. The following data represent the test scores of two groups of students: Group A: 80, 85, 90, 92, 87, 83;\n",
    "Group B: 75, 78, 82, 79, 81, 84. Conduct an F-test at the 1% significance level to determine if the variances\n",
    "are significantly different."
   ]
  },
  {
   "cell_type": "code",
   "execution_count": 19,
   "id": "3ca0fa0a-5bde-405d-b443-84709959d00e",
   "metadata": {},
   "outputs": [
    {
     "name": "stdout",
     "output_type": "stream",
     "text": [
      "F Test:  1.9442622950819677\n",
      "Critical Value:  14.939605459912224\n",
      "Fail to reject null hypothesis; the variances are not significantly different.\n"
     ]
    }
   ],
   "source": [
    "# The null hypothesis is that the variances are not significantly different.\n",
    "# The alternative hypothesis is that variances are significantly different. \n",
    "\n",
    "## Calaculating Ftest\n",
    "import numpy as np\n",
    "import scipy.stats as stat\n",
    "\n",
    "arr1 = [80, 85, 90, 92, 87, 83]\n",
    "arr2 = [75, 78, 82, 79, 81, 84]\n",
    "n1 = len(arr1)\n",
    "n2 = len(arr2)\n",
    "f_test=np.var(arr1, ddof=1)/np.var(arr2, ddof=1)\n",
    "\n",
    "print(\"F Test: \",f_test)\n",
    "\n",
    "dfn = n1-1 # degrees of freedom numerator (n - 1)\n",
    "dfd = n2-1 # degrees of freedom denominator (n - 1)\n",
    "signifance_value=0.01/2\n",
    "\n",
    "critical_value=stat.f.ppf(q=1-signifance_value,dfn=dfn,dfd=dfd)\n",
    "\n",
    "print(\"Critical Value: \",critical_value)\n",
    "\n",
    "# Determine if the null hypothesis is rejected\n",
    "if F_stat > F_crit:\n",
    "    print(\"Reject null hypothesis; the variances are significantly different.\")\n",
    "else:\n",
    "    print(\"Fail to reject null hypothesis; the variances are not significantly different.\")"
   ]
  },
  {
   "cell_type": "code",
   "execution_count": null,
   "id": "516a3e12-63c0-4e9d-ae18-417d263611ed",
   "metadata": {},
   "outputs": [],
   "source": []
  }
 ],
 "metadata": {
  "kernelspec": {
   "display_name": "Python 3 (ipykernel)",
   "language": "python",
   "name": "python3"
  },
  "language_info": {
   "codemirror_mode": {
    "name": "ipython",
    "version": 3
   },
   "file_extension": ".py",
   "mimetype": "text/x-python",
   "name": "python",
   "nbconvert_exporter": "python",
   "pygments_lexer": "ipython3",
   "version": "3.10.8"
  }
 },
 "nbformat": 4,
 "nbformat_minor": 5
}
