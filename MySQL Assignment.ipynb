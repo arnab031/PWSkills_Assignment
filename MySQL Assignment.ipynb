{
 "cells": [
  {
   "cell_type": "markdown",
   "id": "b14ecec9-ee71-4803-b2a4-3c28533ee0fa",
   "metadata": {},
   "source": [
    "Q1. What is a database? Differentiate between SQL and NoSQL databases."
   ]
  },
  {
   "cell_type": "markdown",
   "id": "ec9cdc49-15aa-46eb-a9bd-51fd2ec684c9",
   "metadata": {},
   "source": [
    "A database is an organized collection of data, so that it can be easily accessed and managed. We can organize data into tables, rows, columns, and index it to make it easier to find relevant information.\n",
    "\n",
    "Difference between SQL and NoSQL databases.\n",
    " 1. Type: - \n",
    "     * SQL databases are called as Relational Databases.\n",
    "     * NoSQL databases are called as non-relational databases.\n",
    " 2. Structure - \n",
    "     * We follow table based structure on SQL databases.\n",
    "     * We follow either key-value pairs, document-based, graph databases in NoSQL databases.\n",
    " 3. Scalability - \n",
    "     * SQL databases are vertically scalable.\n",
    "     * NoSQL databases are horizontally scalable.\n",
    " "
   ]
  },
  {
   "cell_type": "markdown",
   "id": "f07e4c12-45ed-4cf3-ac4d-72c5f54c9d2e",
   "metadata": {},
   "source": [
    "Q2. What is DDL? Explain why CREATE, DROP, ALTER, and TRUNCATE are used with an example."
   ]
  },
  {
   "cell_type": "markdown",
   "id": "535cd9ef-d4a0-418d-9d7c-b9652d40337d",
   "metadata": {},
   "source": [
    "DDL stands for Data Definition Language. It is used to create and modify the structure of database objects in a database.\n",
    "\n",
    "CREATE - This command is used for building a new table with some predifned syntax.\n",
    "         \n",
    "       Example - Create Table Employee (employee_id integer primary key, first_name char(50) null, last_name char(50) not null);\n",
    "         \n",
    "DROP - This command is used to delete a table, index or view. A DROP statement cannot be rolled back.\n",
    "       \n",
    "       Example - DROP TABLE Employee;\n",
    "    \n",
    "ALTER - This command is used for modifying an existing database table. We can add up additional columns, drop existing colummns and even change the data type of columns using this command.\n",
    "       \n",
    "       Example - Alter table Employee add column email_id varchar;\n",
    "       \n",
    "TRUNCATE - Truncate is used to remove all records from a table. It preserves its full structure to be reused later.\n",
    "\n",
    "       Example - TRUNCATE TABLE Employee;"
   ]
  },
  {
   "cell_type": "markdown",
   "id": "623935c0-5b33-4793-99e9-0bc33138405f",
   "metadata": {},
   "source": [
    "Q3. What is DML? Explain INSERT, UPDATE, and DELETE with an example."
   ]
  },
  {
   "cell_type": "markdown",
   "id": "5e6e1c19-8852-4fc7-9f11-01eb520daba6",
   "metadata": {},
   "source": [
    "DML stands for Data Manipulation Language. This is used to manipulate data in Database. This manipulation involves inserting data into database tables, retrieving existing data, deleting data from existing tables and modifying existing data.\n",
    "\n",
    "INSERT - This command adds one or more records to a database table.\n",
    "\n",
    "         Example - Insert into Employee values (1, 'Arnab', 'Bhakta', 'arnab@gmail.com')\n",
    "         \n",
    "UPDATE - This command modifies data of one or more records.\n",
    "    \n",
    "         Example - Update Employee set email='arnab1@gmail.com' where employee_id=1;\n",
    "         \n",
    "DELETE - This command removes one or more records from a table according to specified conditions.\n",
    "\n",
    "         Example - Delete From Employee where employee_id=1;"
   ]
  },
  {
   "cell_type": "markdown",
   "id": "4f9be7b8-8bf0-49dd-9cac-ec5b30c64e28",
   "metadata": {},
   "source": [
    "Q4. What is DQL? Explain SELECT with an example."
   ]
  },
  {
   "cell_type": "markdown",
   "id": "df882574-e640-4046-91df-13656de48c55",
   "metadata": {},
   "source": [
    "DQL stands Data Query Language. It is used to get and organise data from a database.\n",
    "\n",
    "         Example - Select * from Employee where employee_id=1;"
   ]
  },
  {
   "cell_type": "markdown",
   "id": "0f6001b3-8fad-41c7-bf36-5d6c168bba2c",
   "metadata": {},
   "source": [
    "Q5. Explain Primary Key and Foreign Key."
   ]
  },
  {
   "cell_type": "markdown",
   "id": "0fee1d18-2b5f-4432-88c2-8bf2a1c85ec7",
   "metadata": {},
   "source": [
    "A primary key is used to ensure that data in the specific column is unique. Primary key cannot contain null values.\n",
    "\n",
    "A Foreign key is a column or group of columns in a relational database table that provides a link between data in two tables. It is a column (or columns) that references a column (most often the primary key) of another table."
   ]
  },
  {
   "cell_type": "markdown",
   "id": "f6b312d6-a522-4470-897e-af1c747dc38f",
   "metadata": {},
   "source": [
    "Q6. Write a python code to connect MySQL to python. Explain the cursor() and execute() method."
   ]
  },
  {
   "cell_type": "markdown",
   "id": "e263be06-602d-4754-b182-40cbb7d76e85",
   "metadata": {},
   "source": [
    "import mysql.connector\n",
    "mydb = mysql.connector.connect(\n",
    "  host=\"localhost\",\n",
    "  user=\"abc\",\n",
    "  password=\"password\"\n",
    ")\n",
    "\n",
    "mycursor = mydb.cursor()\n",
    "mycursor.execute(\"select * from test.test_table\")\n",
    "\n",
    "Cursors are created by the cursor() method: they are bound to the connection for the entire lifetime and all the commands are executed in the context of the database session wrapped by the connection.\n",
    "\n",
    "execute() Method: This method executes the given database operation (query or command).\n"
   ]
  },
  {
   "cell_type": "markdown",
   "id": "33f1c876-89bd-4cdc-aca4-bb3499ac92a5",
   "metadata": {},
   "source": [
    "Q7. Give the order of execution of SQL clauses in an SQL query."
   ]
  },
  {
   "cell_type": "markdown",
   "id": "70289521-42ec-49b0-a980-0059b5054873",
   "metadata": {},
   "source": [
    "The order of execution of SQL clauses in an SQL query - \n",
    "\n",
    "    1. Getting Data (From, Join)\n",
    "    2. Row Filter (Where)\n",
    "    3. Grouping (Group by)\n",
    "    4. Group Filter(Having)\n",
    "    5. Return Expressions (Select)\n",
    "    6. Order & Paging (Order by & Limit / Offset)"
   ]
  },
  {
   "cell_type": "code",
   "execution_count": null,
   "id": "1cb0fd1a-d081-4a1c-b062-a2bfa551d278",
   "metadata": {},
   "outputs": [],
   "source": []
  }
 ],
 "metadata": {
  "kernelspec": {
   "display_name": "Python 3 (ipykernel)",
   "language": "python",
   "name": "python3"
  },
  "language_info": {
   "codemirror_mode": {
    "name": "ipython",
    "version": 3
   },
   "file_extension": ".py",
   "mimetype": "text/x-python",
   "name": "python",
   "nbconvert_exporter": "python",
   "pygments_lexer": "ipython3",
   "version": "3.10.8"
  }
 },
 "nbformat": 4,
 "nbformat_minor": 5
}
