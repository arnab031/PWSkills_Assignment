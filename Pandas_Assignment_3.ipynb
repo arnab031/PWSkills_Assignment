{
 "cells": [
  {
   "cell_type": "code",
   "execution_count": 1,
   "id": "3f7b15d6-6ee8-41de-99aa-9b72b49c137a",
   "metadata": {},
   "outputs": [],
   "source": [
    "import pandas as pd\n",
    "course_name = ['Data Science', 'Machine Learning', 'Big Data', 'Data Engineer']\n",
    "duration = [2,3,6,4]\n",
    "df = pd.DataFrame(data = {'course_name' : course_name, 'duration' : duration})"
   ]
  },
  {
   "cell_type": "code",
   "execution_count": 3,
   "id": "ac81a714-4b29-4ab4-b678-cf76643e09f9",
   "metadata": {},
   "outputs": [
    {
     "data": {
      "text/html": [
       "<div>\n",
       "<style scoped>\n",
       "    .dataframe tbody tr th:only-of-type {\n",
       "        vertical-align: middle;\n",
       "    }\n",
       "\n",
       "    .dataframe tbody tr th {\n",
       "        vertical-align: top;\n",
       "    }\n",
       "\n",
       "    .dataframe thead th {\n",
       "        text-align: right;\n",
       "    }\n",
       "</style>\n",
       "<table border=\"1\" class=\"dataframe\">\n",
       "  <thead>\n",
       "    <tr style=\"text-align: right;\">\n",
       "      <th></th>\n",
       "      <th>course_name</th>\n",
       "      <th>duration</th>\n",
       "    </tr>\n",
       "  </thead>\n",
       "  <tbody>\n",
       "    <tr>\n",
       "      <th>0</th>\n",
       "      <td>Data Science</td>\n",
       "      <td>2</td>\n",
       "    </tr>\n",
       "    <tr>\n",
       "      <th>1</th>\n",
       "      <td>Machine Learning</td>\n",
       "      <td>3</td>\n",
       "    </tr>\n",
       "    <tr>\n",
       "      <th>2</th>\n",
       "      <td>Big Data</td>\n",
       "      <td>6</td>\n",
       "    </tr>\n",
       "    <tr>\n",
       "      <th>3</th>\n",
       "      <td>Data Engineer</td>\n",
       "      <td>4</td>\n",
       "    </tr>\n",
       "  </tbody>\n",
       "</table>\n",
       "</div>"
      ],
      "text/plain": [
       "        course_name  duration\n",
       "0      Data Science         2\n",
       "1  Machine Learning         3\n",
       "2          Big Data         6\n",
       "3     Data Engineer         4"
      ]
     },
     "execution_count": 3,
     "metadata": {},
     "output_type": "execute_result"
    }
   ],
   "source": [
    "df"
   ]
  },
  {
   "cell_type": "markdown",
   "id": "daa8d9f0-7b0b-4f09-9377-20764873016c",
   "metadata": {},
   "source": [
    "Q1. Write a code to print the data present in the second row of the dataframe, df."
   ]
  },
  {
   "cell_type": "code",
   "execution_count": 9,
   "id": "29e5d9c4-31e8-4c47-b5a4-1882e6ccb8fb",
   "metadata": {},
   "outputs": [
    {
     "data": {
      "text/plain": [
       "course_name    Machine Learning\n",
       "duration                      3\n",
       "Name: 1, dtype: object"
      ]
     },
     "execution_count": 9,
     "metadata": {},
     "output_type": "execute_result"
    }
   ],
   "source": [
    "df.loc[1]"
   ]
  },
  {
   "cell_type": "markdown",
   "id": "ab3ebd47-1dc8-42b5-9e09-6344940cce00",
   "metadata": {},
   "source": [
    "Q2. What is the difference between the functions loc and iloc in pandas.DataFrame?"
   ]
  },
  {
   "cell_type": "markdown",
   "id": "fed5532f-ef7a-4b4a-9aec-83c9226aaaf1",
   "metadata": {},
   "source": [
    "The main difference between pandas loc[] vs iloc[] is loc gets DataFrame rows & columns by labels/names and iloc[] gets by integer Index/position. For loc[], if the label is not present it gives a key error. For iloc[], if the position is not present it gives an index error."
   ]
  },
  {
   "cell_type": "markdown",
   "id": "3b8a4512-561e-4287-888e-d0f5ebeb6666",
   "metadata": {},
   "source": [
    "Q3. Reindex the given dataframe using a variable, reindex = [3,0,1,2] and store it in the variable, new_df\n",
    "then find the output for both new_df.loc[2] and new_df.iloc[2]."
   ]
  },
  {
   "cell_type": "code",
   "execution_count": 12,
   "id": "0f00d32c-8ec9-49ec-bb0c-13aa5591a693",
   "metadata": {},
   "outputs": [],
   "source": [
    "reindex = [3,0,1,2]\n",
    "new_df = df.reindex(reindex)"
   ]
  },
  {
   "cell_type": "code",
   "execution_count": 15,
   "id": "5123d93a-320a-45a0-9b96-b96e4cc8d6c6",
   "metadata": {},
   "outputs": [
    {
     "name": "stdout",
     "output_type": "stream",
     "text": [
      "        course_name  duration\n",
      "3     Data Engineer         4\n",
      "0      Data Science         2\n",
      "1  Machine Learning         3\n",
      "2          Big Data         6\n"
     ]
    }
   ],
   "source": [
    "print(new_df)"
   ]
  },
  {
   "cell_type": "code",
   "execution_count": 13,
   "id": "e0895fbe-f547-4e69-a85a-1aab99783b29",
   "metadata": {},
   "outputs": [
    {
     "name": "stdout",
     "output_type": "stream",
     "text": [
      "course_name    Big Data\n",
      "duration              6\n",
      "Name: 2, dtype: object\n"
     ]
    }
   ],
   "source": [
    "print(new_df.loc[2])"
   ]
  },
  {
   "cell_type": "code",
   "execution_count": 14,
   "id": "1274fbf8-3263-4f10-aaf1-593056f45405",
   "metadata": {},
   "outputs": [
    {
     "name": "stdout",
     "output_type": "stream",
     "text": [
      "course_name    Machine Learning\n",
      "duration                      3\n",
      "Name: 1, dtype: object\n"
     ]
    }
   ],
   "source": [
    "print(new_df.iloc[2])"
   ]
  },
  {
   "cell_type": "markdown",
   "id": "5d635b03-b055-46be-babc-57cef7c2a2f2",
   "metadata": {},
   "source": [
    "Did you observe any difference in both the outputs? If so then explain it.\n",
    "Consider the below code to answer further questions:"
   ]
  },
  {
   "cell_type": "code",
   "execution_count": 2,
   "id": "6d3a020a-906f-439f-b0f2-8cfe64c5a26e",
   "metadata": {},
   "outputs": [],
   "source": [
    "import pandas as pd\n",
    "import numpy as np\n",
    "columns = ['column_1', 'column_2', 'column_3', 'column_4', 'column_5', 'column_6']\n",
    "indices = [1,2,3,4,5,6]\n",
    "#Creating a dataframe:\n",
    "df1 = pd.DataFrame(np.random.rand(6,6), columns = columns, index = indices)"
   ]
  },
  {
   "cell_type": "markdown",
   "id": "d0f5e8f7-7302-415a-89f0-728eb015d5ac",
   "metadata": {},
   "source": [
    "Q4. Write a code to find the following statistical measurements for the above dataframe df1:\n",
    "(i) mean of each and every column present in the dataframe.\n",
    "(ii) standard deviation of column, ‘column_2’"
   ]
  },
  {
   "cell_type": "code",
   "execution_count": 3,
   "id": "4a668742-168e-4a5e-8a22-b2a2eb7b6722",
   "metadata": {},
   "outputs": [
    {
     "data": {
      "text/html": [
       "<div>\n",
       "<style scoped>\n",
       "    .dataframe tbody tr th:only-of-type {\n",
       "        vertical-align: middle;\n",
       "    }\n",
       "\n",
       "    .dataframe tbody tr th {\n",
       "        vertical-align: top;\n",
       "    }\n",
       "\n",
       "    .dataframe thead th {\n",
       "        text-align: right;\n",
       "    }\n",
       "</style>\n",
       "<table border=\"1\" class=\"dataframe\">\n",
       "  <thead>\n",
       "    <tr style=\"text-align: right;\">\n",
       "      <th></th>\n",
       "      <th>column_1</th>\n",
       "      <th>column_2</th>\n",
       "      <th>column_3</th>\n",
       "      <th>column_4</th>\n",
       "      <th>column_5</th>\n",
       "      <th>column_6</th>\n",
       "    </tr>\n",
       "  </thead>\n",
       "  <tbody>\n",
       "    <tr>\n",
       "      <th>1</th>\n",
       "      <td>0.894801</td>\n",
       "      <td>0.289064</td>\n",
       "      <td>0.131836</td>\n",
       "      <td>0.368013</td>\n",
       "      <td>0.618044</td>\n",
       "      <td>0.391636</td>\n",
       "    </tr>\n",
       "    <tr>\n",
       "      <th>2</th>\n",
       "      <td>0.339982</td>\n",
       "      <td>0.175093</td>\n",
       "      <td>0.513025</td>\n",
       "      <td>0.584449</td>\n",
       "      <td>0.801440</td>\n",
       "      <td>0.609339</td>\n",
       "    </tr>\n",
       "    <tr>\n",
       "      <th>3</th>\n",
       "      <td>0.530873</td>\n",
       "      <td>0.405453</td>\n",
       "      <td>0.453610</td>\n",
       "      <td>0.467012</td>\n",
       "      <td>0.717304</td>\n",
       "      <td>0.226040</td>\n",
       "    </tr>\n",
       "    <tr>\n",
       "      <th>4</th>\n",
       "      <td>0.566702</td>\n",
       "      <td>0.622706</td>\n",
       "      <td>0.531901</td>\n",
       "      <td>0.412595</td>\n",
       "      <td>0.342444</td>\n",
       "      <td>0.325275</td>\n",
       "    </tr>\n",
       "    <tr>\n",
       "      <th>5</th>\n",
       "      <td>0.443923</td>\n",
       "      <td>0.670023</td>\n",
       "      <td>0.375552</td>\n",
       "      <td>0.262630</td>\n",
       "      <td>0.584883</td>\n",
       "      <td>0.691412</td>\n",
       "    </tr>\n",
       "    <tr>\n",
       "      <th>6</th>\n",
       "      <td>0.536847</td>\n",
       "      <td>0.336910</td>\n",
       "      <td>0.714990</td>\n",
       "      <td>0.416032</td>\n",
       "      <td>0.418888</td>\n",
       "      <td>0.157630</td>\n",
       "    </tr>\n",
       "  </tbody>\n",
       "</table>\n",
       "</div>"
      ],
      "text/plain": [
       "   column_1  column_2  column_3  column_4  column_5  column_6\n",
       "1  0.894801  0.289064  0.131836  0.368013  0.618044  0.391636\n",
       "2  0.339982  0.175093  0.513025  0.584449  0.801440  0.609339\n",
       "3  0.530873  0.405453  0.453610  0.467012  0.717304  0.226040\n",
       "4  0.566702  0.622706  0.531901  0.412595  0.342444  0.325275\n",
       "5  0.443923  0.670023  0.375552  0.262630  0.584883  0.691412\n",
       "6  0.536847  0.336910  0.714990  0.416032  0.418888  0.157630"
      ]
     },
     "execution_count": 3,
     "metadata": {},
     "output_type": "execute_result"
    }
   ],
   "source": [
    "df1"
   ]
  },
  {
   "cell_type": "code",
   "execution_count": 33,
   "id": "2b5e201b-f9e6-4cfb-b21f-7fca5a0ea1a5",
   "metadata": {},
   "outputs": [
    {
     "data": {
      "text/plain": [
       "column_1    0.479927\n",
       "column_2    0.565760\n",
       "column_3    0.394052\n",
       "column_4    0.561699\n",
       "column_5    0.505764\n",
       "column_6    0.463724\n",
       "dtype: float64"
      ]
     },
     "execution_count": 33,
     "metadata": {},
     "output_type": "execute_result"
    }
   ],
   "source": [
    "df1.mean()"
   ]
  },
  {
   "cell_type": "code",
   "execution_count": 45,
   "id": "1d3e0f9a-6baf-4cb0-86cd-b8cb56499f47",
   "metadata": {},
   "outputs": [
    {
     "data": {
      "text/plain": [
       "column_2    0.248745\n",
       "dtype: float64"
      ]
     },
     "execution_count": 45,
     "metadata": {},
     "output_type": "execute_result"
    }
   ],
   "source": [
    "df1[['column_2']].std()"
   ]
  },
  {
   "cell_type": "markdown",
   "id": "9011cebd-71db-4b96-9a79-4d7709d72538",
   "metadata": {},
   "source": [
    "Q5. Replace the data present in the second row of column, ‘column_2’ by a string variable then find the\n",
    "mean of column, column_2.\n",
    "If you are getting errors in executing it then explain why.\n",
    "[Hint: To replace the data use df1.loc[] and equate this to string data of your choice.]"
   ]
  },
  {
   "cell_type": "code",
   "execution_count": 4,
   "id": "78cbf1b0-9a66-45df-90fe-88186d59c6fb",
   "metadata": {},
   "outputs": [],
   "source": [
    "df1.loc[2,'column_2'] = 'test'"
   ]
  },
  {
   "cell_type": "code",
   "execution_count": 5,
   "id": "2affa052-adaa-4e45-9a6a-4641ed4f7b0a",
   "metadata": {},
   "outputs": [
    {
     "data": {
      "text/html": [
       "<div>\n",
       "<style scoped>\n",
       "    .dataframe tbody tr th:only-of-type {\n",
       "        vertical-align: middle;\n",
       "    }\n",
       "\n",
       "    .dataframe tbody tr th {\n",
       "        vertical-align: top;\n",
       "    }\n",
       "\n",
       "    .dataframe thead th {\n",
       "        text-align: right;\n",
       "    }\n",
       "</style>\n",
       "<table border=\"1\" class=\"dataframe\">\n",
       "  <thead>\n",
       "    <tr style=\"text-align: right;\">\n",
       "      <th></th>\n",
       "      <th>column_1</th>\n",
       "      <th>column_2</th>\n",
       "      <th>column_3</th>\n",
       "      <th>column_4</th>\n",
       "      <th>column_5</th>\n",
       "      <th>column_6</th>\n",
       "    </tr>\n",
       "  </thead>\n",
       "  <tbody>\n",
       "    <tr>\n",
       "      <th>1</th>\n",
       "      <td>0.894801</td>\n",
       "      <td>0.289064</td>\n",
       "      <td>0.131836</td>\n",
       "      <td>0.368013</td>\n",
       "      <td>0.618044</td>\n",
       "      <td>0.391636</td>\n",
       "    </tr>\n",
       "    <tr>\n",
       "      <th>2</th>\n",
       "      <td>0.339982</td>\n",
       "      <td>test</td>\n",
       "      <td>0.513025</td>\n",
       "      <td>0.584449</td>\n",
       "      <td>0.801440</td>\n",
       "      <td>0.609339</td>\n",
       "    </tr>\n",
       "    <tr>\n",
       "      <th>3</th>\n",
       "      <td>0.530873</td>\n",
       "      <td>0.405453</td>\n",
       "      <td>0.453610</td>\n",
       "      <td>0.467012</td>\n",
       "      <td>0.717304</td>\n",
       "      <td>0.226040</td>\n",
       "    </tr>\n",
       "    <tr>\n",
       "      <th>4</th>\n",
       "      <td>0.566702</td>\n",
       "      <td>0.622706</td>\n",
       "      <td>0.531901</td>\n",
       "      <td>0.412595</td>\n",
       "      <td>0.342444</td>\n",
       "      <td>0.325275</td>\n",
       "    </tr>\n",
       "    <tr>\n",
       "      <th>5</th>\n",
       "      <td>0.443923</td>\n",
       "      <td>0.670023</td>\n",
       "      <td>0.375552</td>\n",
       "      <td>0.262630</td>\n",
       "      <td>0.584883</td>\n",
       "      <td>0.691412</td>\n",
       "    </tr>\n",
       "    <tr>\n",
       "      <th>6</th>\n",
       "      <td>0.536847</td>\n",
       "      <td>0.33691</td>\n",
       "      <td>0.714990</td>\n",
       "      <td>0.416032</td>\n",
       "      <td>0.418888</td>\n",
       "      <td>0.157630</td>\n",
       "    </tr>\n",
       "  </tbody>\n",
       "</table>\n",
       "</div>"
      ],
      "text/plain": [
       "   column_1  column_2  column_3  column_4  column_5  column_6\n",
       "1  0.894801  0.289064  0.131836  0.368013  0.618044  0.391636\n",
       "2  0.339982      test  0.513025  0.584449  0.801440  0.609339\n",
       "3  0.530873  0.405453  0.453610  0.467012  0.717304  0.226040\n",
       "4  0.566702  0.622706  0.531901  0.412595  0.342444  0.325275\n",
       "5  0.443923  0.670023  0.375552  0.262630  0.584883  0.691412\n",
       "6  0.536847   0.33691  0.714990  0.416032  0.418888  0.157630"
      ]
     },
     "execution_count": 5,
     "metadata": {},
     "output_type": "execute_result"
    }
   ],
   "source": [
    "df1"
   ]
  },
  {
   "cell_type": "code",
   "execution_count": 6,
   "id": "8ced7502-1a45-48a2-87cd-7bb7a3f9bee8",
   "metadata": {},
   "outputs": [
    {
     "name": "stderr",
     "output_type": "stream",
     "text": [
      "/tmp/ipykernel_70/509273087.py:1: FutureWarning: The default value of numeric_only in DataFrame.mean is deprecated. In a future version, it will default to False. In addition, specifying 'numeric_only=None' is deprecated. Select only valid columns or specify the value of numeric_only to silence this warning.\n",
      "  df1[['column_2']].mean()\n"
     ]
    },
    {
     "data": {
      "text/plain": [
       "Series([], dtype: float64)"
      ]
     },
     "execution_count": 6,
     "metadata": {},
     "output_type": "execute_result"
    }
   ],
   "source": [
    "df1[['column_2']].mean()"
   ]
  },
  {
   "cell_type": "markdown",
   "id": "55e95eb9-6117-4997-a0e4-b0a9bbbf5253",
   "metadata": {},
   "source": [
    "We can't get mean value because in column_2 second row there is one string value. When we do sum with with string then we get NaN, so we don't get any value for mean."
   ]
  },
  {
   "cell_type": "markdown",
   "id": "f2fe318e-f373-44d1-9efb-dfecff794ac9",
   "metadata": {},
   "source": [
    "Q6. What do you understand about the windows function in pandas and list the types of windows\n",
    "functions?"
   ]
  },
  {
   "cell_type": "markdown",
   "id": "f0e0c5a5-9331-4d92-b38c-8cfb75ae2be4",
   "metadata": {},
   "source": [
    "Pandas Window functions are functions where the input values are taken from a “window” of one or more rows in a series or a table and calculation is performed over them. The word window means the number of rows between the two boundaries by which we perform calculations including the boundary rows."
   ]
  },
  {
   "cell_type": "markdown",
   "id": "3e064776-1a73-4ffd-8132-84ca654ffd8c",
   "metadata": {},
   "source": [
    "Pandas only give functions for 4 types of windowing operations.\n",
    "\n",
    "    1. Rolling window operations\n",
    "    2. Weighted window operations\n",
    "    3. Expanding window operations\n",
    "    4. Exponentially Weighted window"
   ]
  },
  {
   "cell_type": "markdown",
   "id": "0f3b31b4-5423-47a8-9a0b-16bfb58e78fd",
   "metadata": {},
   "source": [
    "Q7. Write a code to print only the current month and year at the time of answering this question.\n",
    "[Hint: Use pandas.datetime function]"
   ]
  },
  {
   "cell_type": "code",
   "execution_count": 7,
   "id": "e02bf061-2cc3-440e-932a-5e354020ce51",
   "metadata": {},
   "outputs": [
    {
     "name": "stdout",
     "output_type": "stream",
     "text": [
      "Current Month:  2\n",
      "Current Year:  2023\n"
     ]
    }
   ],
   "source": [
    "from datetime import datetime\n",
    "\n",
    "currentMonth = datetime.now().month\n",
    "currentYear = datetime.now().year\n",
    "\n",
    "print(\"Current Month: \",currentMonth)\n",
    "print(\"Current Year: \",currentYear)"
   ]
  },
  {
   "cell_type": "markdown",
   "id": "d28858ce-63e5-4636-9a17-3caf688c8776",
   "metadata": {},
   "source": [
    "Q8. Write a Python program that takes in two dates as input (in the format YYYY-MM-DD) and\n",
    "calculates the difference between them in days, hours, and minutes using Pandas time delta. The\n",
    "program should prompt the user to enter the dates and display the result."
   ]
  },
  {
   "cell_type": "code",
   "execution_count": 12,
   "id": "5ac10b2b-e2e7-4ebf-bfd6-ea52f1da067b",
   "metadata": {},
   "outputs": [
    {
     "name": "stdin",
     "output_type": "stream",
     "text": [
      "Enter first date:  2023-02-01 22:32:00\n",
      "Enter second date:  2023-02-20 10:15:00\n"
     ]
    },
    {
     "name": "stdout",
     "output_type": "stream",
     "text": [
      "18 days 11:43:00\n"
     ]
    }
   ],
   "source": [
    "#'2023-02-01 22:32:00'\n",
    "#'2023-02-20 10:15:00'\n",
    "first_date = pd.to_datetime(input(\"Enter first date: \"))\n",
    "second_date = pd.to_datetime(input(\"Enter second date: \"))\n",
    "\n",
    "diff = pd.Timedelta(second_date-first_date)\n",
    "print(diff)"
   ]
  },
  {
   "cell_type": "markdown",
   "id": "83438187-0d06-42eb-8df0-79d8d25dc250",
   "metadata": {},
   "source": [
    "Q9. Write a Python program that reads a CSV file containing categorical data and converts a specified\n",
    "column to a categorical data type. The program should prompt the user to enter the file path, column\n",
    "name, and category order, and then display the sorted data."
   ]
  },
  {
   "cell_type": "code",
   "execution_count": 40,
   "id": "7dfab4e4-6953-4815-998a-65d9ae4938b6",
   "metadata": {},
   "outputs": [
    {
     "name": "stdin",
     "output_type": "stream",
     "text": [
      "Enter file path:  https://raw.githubusercontent.com/datasciencedojo/datasets/master/titanic.csv\n",
      "Enter column name:  Sex\n",
      "Enter category order:  male female\n"
     ]
    },
    {
     "name": "stdout",
     "output_type": "stream",
     "text": [
      "['male', 'female']\n"
     ]
    }
   ],
   "source": [
    "#file_path = \"https://raw.githubusercontent.com/datasciencedojo/datasets/master/titanic.csv\"\n",
    "file_path = input(\"Enter file path: \")\n",
    "column_name = input(\"Enter column name: \")\n",
    "category_order = input(\"Enter category order: \")\n",
    "category_order = list(map(str,category_order.split()))\n",
    "print(category_order)\n",
    "df2 = pd.read_csv(file_path)\n",
    "df2[column_name] = df2[column_name].astype(\"category\")\n",
    "df2[column_name] = df2[column_name].cat.set_categories(category_order,ordered=True)\n",
    "#set_categories([\"M\",\"F\"])"
   ]
  },
  {
   "cell_type": "code",
   "execution_count": 42,
   "id": "74955194-4a3f-4bea-8ec8-1a2fecb9b19f",
   "metadata": {},
   "outputs": [
    {
     "name": "stdout",
     "output_type": "stream",
     "text": [
      "0        male\n",
      "1      female\n",
      "2      female\n",
      "3      female\n",
      "4        male\n",
      "        ...  \n",
      "886      male\n",
      "887    female\n",
      "888    female\n",
      "889      male\n",
      "890      male\n",
      "Name: Sex, Length: 891, dtype: category\n",
      "Categories (2, object): ['male' < 'female']\n"
     ]
    }
   ],
   "source": [
    "print(df2[column_name])"
   ]
  },
  {
   "cell_type": "markdown",
   "id": "c32d1db4-a90e-4519-ad23-4b5abefca760",
   "metadata": {},
   "source": [
    "Q10. Write a Python program that reads a CSV file containing sales data for different products and\n",
    "visualizes the data using a stacked bar chart to show the sales of each product category over time. The\n",
    "program should prompt the user to enter the file path and display the chart."
   ]
  },
  {
   "cell_type": "code",
   "execution_count": 71,
   "id": "867480f6-4467-404e-a535-9dbe933fbae2",
   "metadata": {},
   "outputs": [
    {
     "name": "stdin",
     "output_type": "stream",
     "text": [
      "Enter file path:  https://www.data.qld.gov.au/dataset/1ce456ee-1e8c-4da4-a44b-341ce34923b6/resource/8920affa-4b49-4684-9a8a-621c2de82684/download/ibis-product-group-sales-report.csv\n"
     ]
    },
    {
     "name": "stdout",
     "output_type": "stream",
     "text": [
      "   Year/Month  Cigarettes - Packets   Grocery Soft Drinks Sugar Free    Fuel  \\\n",
      "0     2013-10                 302520                          217987  160195   \n",
      "1     2013-09                 318920                          222281  167767   \n",
      "2     2013-08                 340023                          232801  147264   \n",
      "3     2013-07                 321810                          229747  146792   \n",
      "4     2013-06                 292765                          202463  141535   \n",
      "5     2013-05                 316130                          228277  167146   \n",
      "6     2013-04                 299088                          231705  141325   \n",
      "7     2013-03                 278981                          195965  139745   \n",
      "8     2013-02                 256482                          198961  185252   \n",
      "9     2013-01                 290473                          215054  142359   \n",
      "10    2012-12                 292446                          243025  232994   \n",
      "11    2012-11                 276191                          212026  172230   \n",
      "\n",
      "    Confectionery  Vegetables - Fresh  Fruit - Fresh  Snack Foods  \\\n",
      "0          102615               94189         107256        93654   \n",
      "1          121949               95059         102224        99034   \n",
      "2          133976              119002         113335       109712   \n",
      "3          142475              117459         124317       113254   \n",
      "4          117123              125406         117393        92277   \n",
      "5          118315              142285         124644        96207   \n",
      "6          102775              114726         103087        90990   \n",
      "7           91349              110917          93183        86782   \n",
      "8           91071               91789          87549        80773   \n",
      "9           98813               84763          86174        84505   \n",
      "10          89216               83564          91516        80748   \n",
      "11          85038               91149          90595        83852   \n",
      "\n",
      "    Frozen Poultry  Rice, Pasta & Noodles  ...  Juices - Non Refrigerated  \\\n",
      "0            84791                  75180  ...                      43265   \n",
      "1            84533                  69258  ...                      41754   \n",
      "2            94126                  81209  ...                      46202   \n",
      "3            98173                  79104  ...                      44995   \n",
      "4            91530                  75924  ...                      36869   \n",
      "5            91870                  85163  ...                      46437   \n",
      "6            89052                  77435  ...                      37773   \n",
      "7            91094                  78899  ...                      37824   \n",
      "8            77338                  67169  ...                      40451   \n",
      "9            83966                  80672  ...                      33790   \n",
      "10           86113                  82688  ...                      33151   \n",
      "11           78862                  73603  ...                      36423   \n",
      "\n",
      "     Eggs  Cheese  Breakfast Foods  Beverages - Coffee/Tea/Milo  Flour  \\\n",
      "0   40038   36454            37178                        33814  34879   \n",
      "1   38451   38080            33878                        34113  36247   \n",
      "2   44473   44811            40480                        39939  34530   \n",
      "3   45723   44946            42583                        40371  34961   \n",
      "4   42408   38728            35983                        38682  32658   \n",
      "5   42602   38505            37807                        38811  37251   \n",
      "6   38483   34907            35094                        34639  31856   \n",
      "7   39094   34756            35224                        35163  34912   \n",
      "8   34097   32579            31836                        29035  29750   \n",
      "9   36820   30453            34385                        33379  33323   \n",
      "10  34905   29825            29901                        31190  38999   \n",
      "11  34121   34391            31791                        31024  33158   \n",
      "\n",
      "    Frozen meals,pizza,pies  Slow Goods Warehouse  \\\n",
      "0                     36523                 33924   \n",
      "1                     36611                 36161   \n",
      "2                     37800                 41169   \n",
      "3                     39809                 42075   \n",
      "4                     35812                 33200   \n",
      "5                     38654                 34985   \n",
      "6                     33944                 32207   \n",
      "7                     32355                 32266   \n",
      "8                     27573                 28293   \n",
      "9                     30242                 31128   \n",
      "10                    28525                 30726   \n",
      "11                    28152                 28251   \n",
      "\n",
      "    Ice Cream sticks- single serve  Toilet Paper  \n",
      "0                            33153         28670  \n",
      "1                            35208         29194  \n",
      "2                            37903         32534  \n",
      "3                            38915         31909  \n",
      "4                            31910         31334  \n",
      "5                            35325         31663  \n",
      "6                            30771         29340  \n",
      "7                            23372         30697  \n",
      "8                            24367         25751  \n",
      "9                            24034         30484  \n",
      "10                           28178         28577  \n",
      "11                           28854         27033  \n",
      "\n",
      "[12 rows x 31 columns]\n"
     ]
    }
   ],
   "source": [
    "#https://www.data.qld.gov.au/dataset/1ce456ee-1e8c-4da4-a44b-341ce34923b6/resource/8920affa-4b49-4684-9a8a-621c2de82684/download/ibis-product-group-sales-report.csv\n",
    "file_path = input(\"Enter file path: \")\n",
    "df3 = pd.read_csv(file_path)\n",
    "print(df3)"
   ]
  },
  {
   "cell_type": "code",
   "execution_count": 64,
   "id": "54ac73bc-e3ce-4aff-b00a-416e9790239e",
   "metadata": {},
   "outputs": [],
   "source": [
    "# df3.columns = df3.columns.str.replace('-',' ')\n",
    "# df3.columns = df3.columns.str.replace(' ','_')"
   ]
  },
  {
   "cell_type": "code",
   "execution_count": 70,
   "id": "295e6249-1f2f-4722-843f-1eeccc4bf718",
   "metadata": {},
   "outputs": [],
   "source": [
    "# print(df3)"
   ]
  },
  {
   "cell_type": "code",
   "execution_count": 72,
   "id": "bb6ba315-6cbb-4f00-b739-277500b9292c",
   "metadata": {},
   "outputs": [
    {
     "data": {
      "text/plain": [
       "<AxesSubplot: xlabel='Year/Month'>"
      ]
     },
     "execution_count": 72,
     "metadata": {},
     "output_type": "execute_result"
    },
    {
     "data": {
      "image/png": "[encoded data removed]",
      "text/plain": [
       "<Figure size 640x480 with 1 Axes>"
      ]
     },
     "metadata": {},
     "output_type": "display_data"
    }
   ],
   "source": [
    "df3.plot.bar(x='Year/Month')"
   ]
  },
  {
   "cell_type": "markdown",
   "id": "057568b9-4cca-48f8-b725-b433e921fe93",
   "metadata": {},
   "source": [
    "Q11. You are given a CSV file containing student data that includes the student ID and their test score. Write\n",
    "a Python program that reads the CSV file, calculates the mean, median, and mode of the test scores, and\n",
    "displays the results in a table."
   ]
  },
  {
   "cell_type": "code",
   "execution_count": 73,
   "id": "86c82da3-5b2f-4b6c-8917-c31278a08fd7",
   "metadata": {},
   "outputs": [],
   "source": [
    "df4 = pd.read_csv('student_data.csv')"
   ]
  },
  {
   "cell_type": "code",
   "execution_count": 74,
   "id": "b920eebb-4dc7-49d8-b010-cdf3e735fe46",
   "metadata": {},
   "outputs": [
    {
     "name": "stdout",
     "output_type": "stream",
     "text": [
      "   Student ID  Test Score\n",
      "0           1          85\n",
      "1           2          90\n",
      "2           3          80\n",
      "3           4          75\n",
      "4           5          85\n",
      "5           6          82\n",
      "6           7          78\n",
      "7           8          85\n",
      "8           9          90\n",
      "9          10          85\n"
     ]
    }
   ],
   "source": [
    "print(df4)"
   ]
  },
  {
   "cell_type": "code",
   "execution_count": 94,
   "id": "8f452932-3556-4d5d-a9ca-c85022b1cfc6",
   "metadata": {},
   "outputs": [],
   "source": [
    "column=['Statistic','Value']\n",
    "data=[[\"Mean\",df4['Test Score'].mean()],[\"Median\",df4['Test Score'].median()],[\"Mode\",df4['Test Score'].mode()[0]]]\n",
    "df5 = pd.DataFrame(data,columns=column)\n",
    "            "
   ]
  },
  {
   "cell_type": "code",
   "execution_count": 95,
   "id": "f7836826-5773-4cd4-a3d1-bf822401b251",
   "metadata": {},
   "outputs": [
    {
     "name": "stdout",
     "output_type": "stream",
     "text": [
      "  Statistic  Value\n",
      "0      Mean   83.5\n",
      "1    Median   85.0\n",
      "2      Mode   85.0\n"
     ]
    }
   ],
   "source": [
    "print(df5)"
   ]
  },
  {
   "cell_type": "code",
   "execution_count": null,
   "id": "d0ed6bf2-f6c6-4fa7-bf9f-3d23f447951f",
   "metadata": {},
   "outputs": [],
   "source": []
  }
 ],
 "metadata": {
  "kernelspec": {
   "display_name": "Python 3 (ipykernel)",
   "language": "python",
   "name": "python3"
  },
  "language_info": {
   "codemirror_mode": {
    "name": "ipython",
    "version": 3
   },
   "file_extension": ".py",
   "mimetype": "text/x-python",
   "name": "python",
   "nbconvert_exporter": "python",
   "pygments_lexer": "ipython3",
   "version": "3.10.8"
  }
 },
 "nbformat": 4,
 "nbformat_minor": 5
}
