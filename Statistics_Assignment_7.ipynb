{
 "cells": [
  {
   "cell_type": "markdown",
   "id": "a5767527-6e76-42b9-85b7-1a213f85707b",
   "metadata": {},
   "source": [
    "Q1. Calculate the 95% confidence interval for a sample of data with a mean of 50 and a standard deviation\n",
    "of 5 using Python. Interpret the results."
   ]
  },
  {
   "cell_type": "code",
   "execution_count": 5,
   "id": "72f16a28-f922-4374-ab50-8b4e71865bfe",
   "metadata": {},
   "outputs": [
    {
     "name": "stdout",
     "output_type": "stream",
     "text": [
      "1.9842169515086827 0.025\n",
      "The 95% confidence interval is (49.00789152424566 , 50.99210847575434)\n"
     ]
    }
   ],
   "source": [
    "import scipy.stats as stat\n",
    "import numpy as np\n",
    "\n",
    "sample_mean = 50\n",
    "sample_std = 5\n",
    "n = 100 # assuming a sample size of 100\n",
    "\n",
    "# Calculate the standard error\n",
    "se = sample_std / (n ** 0.5)\n",
    "\n",
    "# Calculate the t-value for a 95% confidence level with (n-1) degrees of freedom and this is two tailed test.\n",
    "significane_value=0.05/2\n",
    "dof=n-1\n",
    "t_value=stat.t.ppf(1-significane_value,dof)\n",
    "print(t_value, significane_value)\n",
    "\n",
    "# Calculate the margin of error\n",
    "me = t_value * se\n",
    "\n",
    "# Calculate the lower and upper bounds of the confidence interval\n",
    "lower = sample_mean - me\n",
    "upper = sample_mean + me\n",
    "\n",
    "print(\"The 95% confidence interval is (\"+str(lower)+\" , \"+ str(upper)+\")\")"
   ]
  },
  {
   "cell_type": "markdown",
   "id": "5b7406b0-785a-44f0-a64c-1f8b3fccaf4f",
   "metadata": {},
   "source": [
    "Q2. Conduct a chi-square goodness of fit test to determine if the distribution of colors of M&Ms in a bag\n",
    "matches the expected distribution of 20% blue, 20% orange, 20% green, 10% yellow, 10% red, and 20%\n",
    "brown. Use Python to perform the test with a significance level of 0.05."
   ]
  },
  {
   "cell_type": "code",
   "execution_count": 9,
   "id": "858b5e98-5db3-44b3-a65e-694100568d51",
   "metadata": {},
   "outputs": [
    {
     "name": "stdout",
     "output_type": "stream",
     "text": [
      "16.25 0.006165401934830838\n",
      "5\n",
      "Critical value:  11.070497693516351\n",
      "Reject the null hypothesis\n"
     ]
    }
   ],
   "source": [
    "import scipy.stats as stat\n",
    "import numpy as np\n",
    "\n",
    "observed_freq = [20, 15, 25, 5, 20, 15]\n",
    "expected_freq = [0.2*sum(observed_freq),0.2*sum(observed_freq),0.2*sum(observed_freq),0.1*sum(observed_freq),0.1*sum(observed_freq),0.2*sum(observed_freq)]\n",
    "\n",
    "## Chi-Square Goodness Of Fit Test\n",
    "chisquare_test_statistic,p_value=stat.chisquare(observed_freq,expected_freq)\n",
    "\n",
    "print(chisquare_test_statistic,p_value)\n",
    "\n",
    "## find the critical value\n",
    "significane_value=0.05\n",
    "dof=len(expected_freq)-1\n",
    "print(dof)\n",
    "critical_value=stat.chi2.ppf(1-significane_value,dof)\n",
    "print(\"Critical value: \",critical_value)\n",
    "\n",
    "if chisquare_test_statistic > critical_value:\n",
    "    print(\"Reject the null hypothesis\")\n",
    "else:\n",
    "    print(\"Accept the null hypothesis\")"
   ]
  },
  {
   "attachments": {
    "064f5278-1bcc-4616-9abe-82bc880e0055.png": {
     "image/png": "[encoded data removed]"
    }
   },
   "cell_type": "markdown",
   "id": "0c99510b-c6a2-4096-a271-b54e7e4e92f5",
   "metadata": {},
   "source": [
    "Q3. Use Python to calculate the chi-square statistic and p-value for a contingency table with the following\n",
    "data:\n",
    "\n",
    "![image.png](attachment:064f5278-1bcc-4616-9abe-82bc880e0055.png)\n",
    "\n",
    "Interpret the results of the test."
   ]
  },
  {
   "cell_type": "code",
   "execution_count": 11,
   "id": "2e01de8a-e677-40c7-ad23-0352930ef4dd",
   "metadata": {},
   "outputs": [
    {
     "name": "stdout",
     "output_type": "stream",
     "text": [
      "Chi-square satistic:  5.833333333333334\n",
      "P-value:  0.05411376622282158\n",
      "dof:  2\n",
      "expected:  [[15. 20.]\n",
      " [15. 20.]\n",
      " [15. 20.]]\n"
     ]
    }
   ],
   "source": [
    "# chi-squared test with similar proportions\n",
    "from scipy.stats import chi2_contingency\n",
    "from scipy.stats import chi2\n",
    "# contingency table\n",
    "table = [[20,15],[10,25],[15,20]]\n",
    "stat, p, dof,expected = chi2_contingency(table)\n",
    "\n",
    "print(\"Chi-square satistic: \",stat)\n",
    "print(\"P-value: \",p)\n",
    "print(\"dof: \",dof)\n",
    "print(\"expected: \",expected)"
   ]
  },
  {
   "cell_type": "markdown",
   "id": "e9195930-53e7-4143-b493-8b66c14cb83a",
   "metadata": {},
   "source": [
    "Q4. A study of the prevalence of smoking in a population of 500 individuals found that 60 individuals\n",
    "smoked. Use Python to calculate the 95% confidence interval for the true proportion of individuals in the\n",
    "population who smoke."
   ]
  },
  {
   "cell_type": "code",
   "execution_count": 12,
   "id": "d6d2e98e-fda3-4573-bbe5-928423f35919",
   "metadata": {},
   "outputs": [
    {
     "name": "stdout",
     "output_type": "stream",
     "text": [
      "95% Confidence Interval: (0.09151638887130707, 0.1484836111286929)\n"
     ]
    }
   ],
   "source": [
    "# CI = (p - z*sqrt(p*(1-p)/n), p + z*sqrt(p*(1-p)/n))\n",
    "# p is the sample proportion\n",
    "# n is the sample size\n",
    "# z is the z-score corresponding to the desired confidence level (0.95 for 95% confidence)\n",
    "\n",
    "import math\n",
    "from scipy.stats import norm\n",
    "\n",
    "n = 500\n",
    "p = 60/500\n",
    "z = norm.ppf(0.975)\n",
    "\n",
    "lower = p - z * math.sqrt(p*(1-p)/n)\n",
    "upper = p + z * math.sqrt(p*(1-p)/n)\n",
    "\n",
    "print(\"95% Confidence Interval:\", (lower, upper))\n"
   ]
  },
  {
   "cell_type": "markdown",
   "id": "8b273f31-4920-4923-bbf0-7a8242fa7aab",
   "metadata": {},
   "source": [
    "Q5. Calculate the 90% confidence interval for a sample of data with a mean of 75 and a standard deviation\n",
    "of 12 using Python. Interpret the results."
   ]
  },
  {
   "cell_type": "code",
   "execution_count": 13,
   "id": "f990a94e-6bae-49c2-8a7c-f53b5feb6bda",
   "metadata": {},
   "outputs": [
    {
     "name": "stdout",
     "output_type": "stream",
     "text": [
      "1.6603911559963895 0.05\n",
      "The 95% confidence interval is (73.00753061280433 , 76.99246938719567)\n"
     ]
    }
   ],
   "source": [
    "import scipy.stats as stat\n",
    "import numpy as np\n",
    "\n",
    "sample_mean = 75\n",
    "sample_std = 12\n",
    "n = 100 # assuming a sample size of 100\n",
    "\n",
    "# Calculate the standard error\n",
    "se = sample_std / (n ** 0.5)\n",
    "\n",
    "# Calculate the t-value for a 90% confidence level with (n-1) degrees of freedom and this is two tailed test.\n",
    "significane_value=0.10/2\n",
    "dof=n-1\n",
    "t_value=stat.t.ppf(1-significane_value,dof)\n",
    "print(t_value, significane_value)\n",
    "\n",
    "# Calculate the margin of error\n",
    "me = t_value * se\n",
    "\n",
    "# Calculate the lower and upper bounds of the confidence interval\n",
    "lower = sample_mean - me\n",
    "upper = sample_mean + me\n",
    "\n",
    "print(\"The 95% confidence interval is (\"+str(lower)+\" , \"+ str(upper)+\")\")"
   ]
  },
  {
   "cell_type": "markdown",
   "id": "6942c8b6-5d93-4bb4-a35b-97b5c9734105",
   "metadata": {},
   "source": [
    "Q6. Use Python to plot the chi-square distribution with 10 degrees of freedom. Label the axes and shade the\n",
    "area corresponding to a chi-square statistic of 15."
   ]
  },
  {
   "cell_type": "code",
   "execution_count": 14,
   "id": "5bffd06a-06d6-48cc-95e4-00ad3784c4d1",
   "metadata": {},
   "outputs": [
    {
     "data": {
      "image/png": "[encoded data removed]",
      "text/plain": [
       "<Figure size 640x480 with 1 Axes>"
      ]
     },
     "metadata": {},
     "output_type": "display_data"
    }
   ],
   "source": [
    "import numpy as np\n",
    "import matplotlib.pyplot as plt\n",
    "import scipy.stats as stats\n",
    "\n",
    "# Define the degrees of freedom\n",
    "df = 10\n",
    "\n",
    "# Define the x-axis range\n",
    "x = np.linspace(0, 30, 500)\n",
    "\n",
    "# Calculate the chi-square values for the range of x\n",
    "y = stats.chi2.pdf(x, df)\n",
    "\n",
    "# Plot the chi-square distribution\n",
    "plt.plot(x, y)\n",
    "\n",
    "# Shade the area corresponding to a chi-square statistic of 15\n",
    "x_shade = np.linspace(15, 30, 100)\n",
    "y_shade = stats.chi2.pdf(x_shade, df)\n",
    "plt.fill_between(x_shade, y_shade, color='blue', alpha=0.3)\n",
    "\n",
    "# Label the axes\n",
    "plt.xlabel('Chi-square statistic')\n",
    "plt.ylabel('Probability density')\n",
    "plt.title('Chi-square distribution with 10 degrees of freedom')\n",
    "\n",
    "# Show the plot\n",
    "plt.show()"
   ]
  },
  {
   "cell_type": "markdown",
   "id": "04453681-6b93-4ba4-beb1-8fa5ce11c63a",
   "metadata": {},
   "source": [
    "Q7. A random sample of 1000 people was asked if they preferred Coke or Pepsi. Of the sample, 520\n",
    "preferred Coke. Calculate a 99% confidence interval for the true proportion of people in the population who\n",
    "prefer Coke."
   ]
  },
  {
   "cell_type": "code",
   "execution_count": 16,
   "id": "37f6d1bc-ea60-4e84-aee1-51e96a0fef63",
   "metadata": {},
   "outputs": [
    {
     "name": "stdout",
     "output_type": "stream",
     "text": [
      "z value:  2.5758293035489004\n",
      "99% Confidence Interval: (0.4793051576779699, 0.5606948423220302)\n"
     ]
    }
   ],
   "source": [
    "# CI = (p - z*sqrt(p*(1-p)/n), p + z*sqrt(p*(1-p)/n))\n",
    "# p is the sample proportion\n",
    "# n is the sample size\n",
    "# z is the z-score corresponding to the desired confidence level (0.99 for 99% confidence)\n",
    "\n",
    "import math\n",
    "from scipy.stats import norm\n",
    "\n",
    "n = 1000\n",
    "p = 520/1000\n",
    "z = norm.ppf(0.99+(0.01/2))\n",
    "\n",
    "print(\"z value: \",z)\n",
    "\n",
    "lower = p - z * math.sqrt(p*(1-p)/n)\n",
    "upper = p + z * math.sqrt(p*(1-p)/n)\n",
    "\n",
    "print(\"99% Confidence Interval:\", (lower, upper))"
   ]
  },
  {
   "cell_type": "markdown",
   "id": "7f1d4eb6-ce66-4b78-bc81-487022f5e7af",
   "metadata": {},
   "source": [
    "Q8. A researcher hypothesizes that a coin is biased towards tails. They flip the coin 100 times and observe\n",
    "45 tails. Conduct a chi-square goodness of fit test to determine if the observed frequencies match the\n",
    "expected frequencies of a fair coin. Use a significance level of 0.05."
   ]
  },
  {
   "cell_type": "code",
   "execution_count": 19,
   "id": "60ee4987-44b4-4bc3-9a63-d67df6cc16d7",
   "metadata": {},
   "outputs": [
    {
     "name": "stdout",
     "output_type": "stream",
     "text": [
      "1.0 0.31731050786291115\n",
      "1\n",
      "Critical value:  3.841458820694124\n",
      "Accept the null hypothesis, The coin is based to tail.\n"
     ]
    }
   ],
   "source": [
    "#The null hypothesis is that the coin is fair.\n",
    "#The alternative hypothesis is that the coin is biased towards tails.\n",
    "import scipy.stats as stat\n",
    "import numpy as np\n",
    "\n",
    "observed_freq = [45,55]\n",
    "expected_freq = [50,50]\n",
    "\n",
    "## Chi-Square Goodness Of Fit Test\n",
    "chisquare_test_statistic,p_value=stat.chisquare(observed_freq,expected_freq)\n",
    "\n",
    "print(chisquare_test_statistic,p_value)\n",
    "\n",
    "## find the critical value\n",
    "significane_value=0.05\n",
    "dof=len(expected_freq)-1\n",
    "print(dof)\n",
    "critical_value=stat.chi2.ppf(1-significane_value,dof)\n",
    "print(\"Critical value: \",critical_value)\n",
    "\n",
    "if chisquare_test_statistic > critical_value:\n",
    "    print(\"Reject the null hypothesis, The coin is fair.\")\n",
    "else:\n",
    "    print(\"Accept the null hypothesis, The coin is based to tail.\")"
   ]
  },
  {
   "attachments": {
    "7a255aaf-3f77-4a84-bd0e-819d2177b14e.png": {
     "image/png": "[encoded data removed]"
    }
   },
   "cell_type": "markdown",
   "id": "130780a8-2c3b-4582-bc59-1329b430d6b0",
   "metadata": {},
   "source": [
    "Q9. A study was conducted to determine if there is an association between smoking status (smoker or\n",
    "non-smoker) and lung cancer diagnosis (yes or no). The results are shown in the contingency table below.\n",
    "Conduct a chi-square test for independence to determine if there is a significant association between\n",
    "smoking status and lung cancer diagnosis.\n",
    "\n",
    "![image.png](attachment:7a255aaf-3f77-4a84-bd0e-819d2177b14e.png)\n",
    "\n",
    "Use a significance level of 0.05."
   ]
  },
  {
   "cell_type": "code",
   "execution_count": 21,
   "id": "26d3ade0-bf09-455e-96bb-81e2aae6ed6f",
   "metadata": {},
   "outputs": [
    {
     "name": "stdout",
     "output_type": "stream",
     "text": [
      "35.294117647058826 2.834869930488155e-09\n",
      "1\n",
      "Critical value:  3.841458820694124\n",
      "Reject the null hypothesis.\n"
     ]
    }
   ],
   "source": [
    "# Null hypothesis: There is no significant association between smoking status and lung cancer diagnosis.\n",
    "# Alternate hypothesis: There is a significant association between smoking status and lung cancer diagnosis.\n",
    "import scipy.stats as stat\n",
    "import numpy as np\n",
    "\n",
    "#Two Category, Smoker and Non-smoker\n",
    "observed_freq = [60,140]\n",
    "expected_freq = [30,170]\n",
    "\n",
    "## Chi-Square Goodness Of Fit Test\n",
    "chisquare_test_statistic,p_value=stat.chisquare(observed_freq,expected_freq)\n",
    "\n",
    "print(chisquare_test_statistic,p_value)\n",
    "\n",
    "## find the critical value\n",
    "significane_value=0.05\n",
    "dof=len(expected_freq)-1\n",
    "print(dof)\n",
    "critical_value=stat.chi2.ppf(1-significane_value,dof)\n",
    "print(\"Critical value: \",critical_value)\n",
    "\n",
    "if chisquare_test_statistic > critical_value:\n",
    "    print(\"Reject the null hypothesis.\")\n",
    "else:\n",
    "    print(\"Accept the null hypothesis.\")"
   ]
  },
  {
   "attachments": {
    "8a069d75-7bcc-448f-b62f-d216215f1446.png": {
     "image/png": "[encoded data removed]"
    }
   },
   "cell_type": "markdown",
   "id": "98f359b2-2fac-4950-9607-e59940de1d4c",
   "metadata": {},
   "source": [
    "Q10. A study was conducted to determine if the proportion of people who prefer milk chocolate, dark\n",
    "chocolate, or white chocolate is different in the U.S. versus the U.K. A random sample of 500 people from\n",
    "the U.S. and a random sample of 500 people from the U.K. were surveyed. The results are shown in the\n",
    "contingency table below. Conduct a chi-square test for independence to determine if there is a significant\n",
    "association between chocolate preference and country of origin.\n",
    "\n",
    "![image.png](attachment:8a069d75-7bcc-448f-b62f-d216215f1446.png)\n",
    "\n",
    "Use a significance level of 0.01."
   ]
  },
  {
   "cell_type": "code",
   "execution_count": null,
   "id": "80e50c5a-2ee3-43f9-ba35-eaf4fb0c43e5",
   "metadata": {},
   "outputs": [
    {
     "name": "stdout",
     "output_type": "stream",
     "text": [
      "31.349206349206348 1.5581394922806692e-07\n",
      "2\n",
      "Critical value:  9.21034037197618\n",
      "Reject the null hypothesis.\n"
     ]
    }
   ],
   "source": [
    "# Null hypothesis: There is no significant association between chocolate preference and country of origin.\n",
    "# Alternate hypothesis: There is a significant association between chocolate preference and country of origin.\n",
    "\n",
    "import scipy.stats as stat\n",
    "import numpy as np\n",
    "\n",
    "#Three Category, Milk chocolate, Dark chocolate and White chocolate\n",
    "observed_freq = [200,150,150]\n",
    "expected_freq = [225,175,100]\n",
    "\n",
    "## Chi-Square Goodness Of Fit Test\n",
    "chisquare_test_statistic,p_value=stat.chisquare(observed_freq,expected_freq)\n",
    "\n",
    "print(chisquare_test_statistic,p_value)\n",
    "\n",
    "## find the critical value\n",
    "significane_value=0.01\n",
    "dof=len(expected_freq)-1\n",
    "print(dof)\n",
    "critical_value=stat.chi2.ppf(1-significane_value,dof)\n",
    "print(\"Critical value: \",critical_value)\n",
    "\n",
    "if chisquare_test_statistic > critical_value:\n",
    "    print(\"Reject the null hypothesis.\")\n",
    "else:\n",
    "    print(\"Accept the null hypothesis.\")"
   ]
  },
  {
   "cell_type": "markdown",
   "id": "7c143bde-eed6-4a45-b38e-ac9d5fdf414c",
   "metadata": {},
   "source": [
    "Q11. A random sample of 30 people was selected from a population with an unknown mean and standard\n",
    "deviation. The sample mean was found to be 72 and the sample standard deviation was found to be 10.\n",
    "Conduct a hypothesis test to determine if the population mean is significantly different from 70. Use a\n",
    "significance level of 0.05."
   ]
  },
  {
   "cell_type": "code",
   "execution_count": 34,
   "id": "96c5b9f9-e50f-430a-97c1-24f6f5f04997",
   "metadata": {},
   "outputs": [
    {
     "name": "stdout",
     "output_type": "stream",
     "text": [
      "t-value 1.0954451150103321\n",
      "2.045229642132703 0.025\n",
      "Accept the null hypothesis.\n"
     ]
    }
   ],
   "source": [
    "# We will use a t-test since the population standard deviation is unknown and the sample size is less than 30.\n",
    "\n",
    "# Null hypothesis: The population mean is equal to 70\n",
    "# Alternative hypothesis: The population mean is not equal to 70\n",
    "\n",
    "# t = (x̄ - µ) / (s / √n)\n",
    "# where x̄ is the sample mean, \n",
    "# µ is the hypothesized population mean under the null hypothesis, \n",
    "# s is the sample standard deviation, and n is the sample size.\n",
    "import scipy.stats as stat\n",
    "import numpy as np\n",
    "\n",
    "\n",
    "n=30\n",
    "population_mean = 70\n",
    "sample_mean = 72\n",
    "sample_std = 10\n",
    "t=(sample_mean-population_mean)/(sample_std/(n**0.5))\n",
    "print(\"t-value\",t)\n",
    "\n",
    "# Calculate the t-value for a 0.05 significance level with (n-1) degrees of freedom and this is two tailed test.\n",
    "significane_value=0.05/2\n",
    "dof=n-1\n",
    "t_value=stat.t.ppf(1-significane_value,dof)\n",
    "print(t_value, significane_value)\n",
    "\n",
    "if(t>t_value):\n",
    "    print(\"Reject the null hypothesis.\")\n",
    "else:\n",
    "    print(\"Accept the null hypothesis.\")"
   ]
  },
  {
   "cell_type": "code",
   "execution_count": null,
   "id": "37987f42-9581-4cb9-9391-4448aad58ac5",
   "metadata": {},
   "outputs": [],
   "source": []
  },
  {
   "cell_type": "code",
   "execution_count": null,
   "id": "0d9560d9-123e-4e11-9c4c-da54ad2b6e3e",
   "metadata": {},
   "outputs": [],
   "source": []
  }
 ],
 "metadata": {
  "kernelspec": {
   "display_name": "Python 3 (ipykernel)",
   "language": "python",
   "name": "python3"
  },
  "language_info": {
   "codemirror_mode": {
    "name": "ipython",
    "version": 3
   },
   "file_extension": ".py",
   "mimetype": "text/x-python",
   "name": "python",
   "nbconvert_exporter": "python",
   "pygments_lexer": "ipython3",
   "version": "3.10.8"
  }
 },
 "nbformat": 4,
 "nbformat_minor": 5
}
