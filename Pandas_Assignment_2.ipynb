{
 "cells": [
  {
   "cell_type": "markdown",
   "id": "3a13f3b8-046b-4060-b045-9b2926ffb1a1",
   "metadata": {},
   "source": [
    "Q1. List any five functions of the pandas library with execution."
   ]
  },
  {
   "cell_type": "markdown",
   "id": "d28cc798-bc99-4ae2-9508-16b02edee575",
   "metadata": {},
   "source": [
    "read_csv() function helps read a comma-separated values (csv) file into a Pandas DataFrame.\n",
    "\n",
    "head(n) is used to return the first n rows of a dataset. By default, df.head() will return the first 5 rows of the DataFrame. If we want more/less number of rows, we can specify n as an integer.\n",
    "\n",
    "describe() is used to generate descriptive statistics of the data in a Pandas DataFrame or Series. It summarizes central tendency and dispersion of the dataset. describe() helps in getting a quick overview of the dataset.\n",
    "\n",
    "groupby() is used to group a Pandas DataFrame by 1 or more columns, and perform some mathematical operation on it. groupby() can be used to summarize data in a simple manner.\n",
    "\n",
    "loc[:] helps to access a group of rows and columns in a dataset, a slice of the dataset, as per our requirement. For instance, if we only want the last 2 rows and the first 3 columns of a dataset, we can access them with the help of loc[:]. We can also access rows and columns based on labels instead of row and column number."
   ]
  },
  {
   "cell_type": "code",
   "execution_count": 24,
   "id": "c810a19b-db77-4d2d-97bf-fd7fd42874f7",
   "metadata": {},
   "outputs": [],
   "source": [
    "import pandas as pd\n",
    "\n",
    "df = pd.read_csv(\"https://raw.githubusercontent.com/datasciencedojo/datasets/master/titanic.csv\")"
   ]
  },
  {
   "cell_type": "code",
   "execution_count": 11,
   "id": "4e18d459-d3b2-49bf-bc23-55def83fc642",
   "metadata": {},
   "outputs": [
    {
     "data": {
      "text/html": [
       "<div>\n",
       "<style scoped>\n",
       "    .dataframe tbody tr th:only-of-type {\n",
       "        vertical-align: middle;\n",
       "    }\n",
       "\n",
       "    .dataframe tbody tr th {\n",
       "        vertical-align: top;\n",
       "    }\n",
       "\n",
       "    .dataframe thead th {\n",
       "        text-align: right;\n",
       "    }\n",
       "</style>\n",
       "<table border=\"1\" class=\"dataframe\">\n",
       "  <thead>\n",
       "    <tr style=\"text-align: right;\">\n",
       "      <th></th>\n",
       "      <th>PassengerId</th>\n",
       "      <th>Survived</th>\n",
       "      <th>Pclass</th>\n",
       "      <th>Name</th>\n",
       "      <th>Sex</th>\n",
       "      <th>Age</th>\n",
       "      <th>SibSp</th>\n",
       "      <th>Parch</th>\n",
       "      <th>Ticket</th>\n",
       "      <th>Fare</th>\n",
       "      <th>Cabin</th>\n",
       "      <th>Embarked</th>\n",
       "    </tr>\n",
       "  </thead>\n",
       "  <tbody>\n",
       "    <tr>\n",
       "      <th>0</th>\n",
       "      <td>1</td>\n",
       "      <td>0</td>\n",
       "      <td>3</td>\n",
       "      <td>Braund, Mr. Owen Harris</td>\n",
       "      <td>male</td>\n",
       "      <td>22.0</td>\n",
       "      <td>1</td>\n",
       "      <td>0</td>\n",
       "      <td>A/5 21171</td>\n",
       "      <td>7.2500</td>\n",
       "      <td>NaN</td>\n",
       "      <td>S</td>\n",
       "    </tr>\n",
       "    <tr>\n",
       "      <th>1</th>\n",
       "      <td>2</td>\n",
       "      <td>1</td>\n",
       "      <td>1</td>\n",
       "      <td>Cumings, Mrs. John Bradley (Florence Briggs Th...</td>\n",
       "      <td>female</td>\n",
       "      <td>38.0</td>\n",
       "      <td>1</td>\n",
       "      <td>0</td>\n",
       "      <td>PC 17599</td>\n",
       "      <td>71.2833</td>\n",
       "      <td>C85</td>\n",
       "      <td>C</td>\n",
       "    </tr>\n",
       "    <tr>\n",
       "      <th>2</th>\n",
       "      <td>3</td>\n",
       "      <td>1</td>\n",
       "      <td>3</td>\n",
       "      <td>Heikkinen, Miss. Laina</td>\n",
       "      <td>female</td>\n",
       "      <td>26.0</td>\n",
       "      <td>0</td>\n",
       "      <td>0</td>\n",
       "      <td>STON/O2. 3101282</td>\n",
       "      <td>7.9250</td>\n",
       "      <td>NaN</td>\n",
       "      <td>S</td>\n",
       "    </tr>\n",
       "  </tbody>\n",
       "</table>\n",
       "</div>"
      ],
      "text/plain": [
       "   PassengerId  Survived  Pclass  \\\n",
       "0            1         0       3   \n",
       "1            2         1       1   \n",
       "2            3         1       3   \n",
       "\n",
       "                                                Name     Sex   Age  SibSp  \\\n",
       "0                            Braund, Mr. Owen Harris    male  22.0      1   \n",
       "1  Cumings, Mrs. John Bradley (Florence Briggs Th...  female  38.0      1   \n",
       "2                             Heikkinen, Miss. Laina  female  26.0      0   \n",
       "\n",
       "   Parch            Ticket     Fare Cabin Embarked  \n",
       "0      0         A/5 21171   7.2500   NaN        S  \n",
       "1      0          PC 17599  71.2833   C85        C  \n",
       "2      0  STON/O2. 3101282   7.9250   NaN        S  "
      ]
     },
     "execution_count": 11,
     "metadata": {},
     "output_type": "execute_result"
    }
   ],
   "source": [
    "#Example of head()\n",
    "df.head(3)"
   ]
  },
  {
   "cell_type": "code",
   "execution_count": 12,
   "id": "b4030551-18ce-44d0-81fc-5453e53a13f5",
   "metadata": {},
   "outputs": [
    {
     "data": {
      "text/html": [
       "<div>\n",
       "<style scoped>\n",
       "    .dataframe tbody tr th:only-of-type {\n",
       "        vertical-align: middle;\n",
       "    }\n",
       "\n",
       "    .dataframe tbody tr th {\n",
       "        vertical-align: top;\n",
       "    }\n",
       "\n",
       "    .dataframe thead th {\n",
       "        text-align: right;\n",
       "    }\n",
       "</style>\n",
       "<table border=\"1\" class=\"dataframe\">\n",
       "  <thead>\n",
       "    <tr style=\"text-align: right;\">\n",
       "      <th></th>\n",
       "      <th>PassengerId</th>\n",
       "      <th>Survived</th>\n",
       "      <th>Pclass</th>\n",
       "      <th>Age</th>\n",
       "      <th>SibSp</th>\n",
       "      <th>Parch</th>\n",
       "      <th>Fare</th>\n",
       "    </tr>\n",
       "  </thead>\n",
       "  <tbody>\n",
       "    <tr>\n",
       "      <th>count</th>\n",
       "      <td>891.000000</td>\n",
       "      <td>891.000000</td>\n",
       "      <td>891.000000</td>\n",
       "      <td>714.000000</td>\n",
       "      <td>891.000000</td>\n",
       "      <td>891.000000</td>\n",
       "      <td>891.000000</td>\n",
       "    </tr>\n",
       "    <tr>\n",
       "      <th>mean</th>\n",
       "      <td>446.000000</td>\n",
       "      <td>0.383838</td>\n",
       "      <td>2.308642</td>\n",
       "      <td>29.699118</td>\n",
       "      <td>0.523008</td>\n",
       "      <td>0.381594</td>\n",
       "      <td>32.204208</td>\n",
       "    </tr>\n",
       "    <tr>\n",
       "      <th>std</th>\n",
       "      <td>257.353842</td>\n",
       "      <td>0.486592</td>\n",
       "      <td>0.836071</td>\n",
       "      <td>14.526497</td>\n",
       "      <td>1.102743</td>\n",
       "      <td>0.806057</td>\n",
       "      <td>49.693429</td>\n",
       "    </tr>\n",
       "    <tr>\n",
       "      <th>min</th>\n",
       "      <td>1.000000</td>\n",
       "      <td>0.000000</td>\n",
       "      <td>1.000000</td>\n",
       "      <td>0.420000</td>\n",
       "      <td>0.000000</td>\n",
       "      <td>0.000000</td>\n",
       "      <td>0.000000</td>\n",
       "    </tr>\n",
       "    <tr>\n",
       "      <th>25%</th>\n",
       "      <td>223.500000</td>\n",
       "      <td>0.000000</td>\n",
       "      <td>2.000000</td>\n",
       "      <td>20.125000</td>\n",
       "      <td>0.000000</td>\n",
       "      <td>0.000000</td>\n",
       "      <td>7.910400</td>\n",
       "    </tr>\n",
       "    <tr>\n",
       "      <th>50%</th>\n",
       "      <td>446.000000</td>\n",
       "      <td>0.000000</td>\n",
       "      <td>3.000000</td>\n",
       "      <td>28.000000</td>\n",
       "      <td>0.000000</td>\n",
       "      <td>0.000000</td>\n",
       "      <td>14.454200</td>\n",
       "    </tr>\n",
       "    <tr>\n",
       "      <th>75%</th>\n",
       "      <td>668.500000</td>\n",
       "      <td>1.000000</td>\n",
       "      <td>3.000000</td>\n",
       "      <td>38.000000</td>\n",
       "      <td>1.000000</td>\n",
       "      <td>0.000000</td>\n",
       "      <td>31.000000</td>\n",
       "    </tr>\n",
       "    <tr>\n",
       "      <th>max</th>\n",
       "      <td>891.000000</td>\n",
       "      <td>1.000000</td>\n",
       "      <td>3.000000</td>\n",
       "      <td>80.000000</td>\n",
       "      <td>8.000000</td>\n",
       "      <td>6.000000</td>\n",
       "      <td>512.329200</td>\n",
       "    </tr>\n",
       "  </tbody>\n",
       "</table>\n",
       "</div>"
      ],
      "text/plain": [
       "       PassengerId    Survived      Pclass         Age       SibSp  \\\n",
       "count   891.000000  891.000000  891.000000  714.000000  891.000000   \n",
       "mean    446.000000    0.383838    2.308642   29.699118    0.523008   \n",
       "std     257.353842    0.486592    0.836071   14.526497    1.102743   \n",
       "min       1.000000    0.000000    1.000000    0.420000    0.000000   \n",
       "25%     223.500000    0.000000    2.000000   20.125000    0.000000   \n",
       "50%     446.000000    0.000000    3.000000   28.000000    0.000000   \n",
       "75%     668.500000    1.000000    3.000000   38.000000    1.000000   \n",
       "max     891.000000    1.000000    3.000000   80.000000    8.000000   \n",
       "\n",
       "            Parch        Fare  \n",
       "count  891.000000  891.000000  \n",
       "mean     0.381594   32.204208  \n",
       "std      0.806057   49.693429  \n",
       "min      0.000000    0.000000  \n",
       "25%      0.000000    7.910400  \n",
       "50%      0.000000   14.454200  \n",
       "75%      0.000000   31.000000  \n",
       "max      6.000000  512.329200  "
      ]
     },
     "execution_count": 12,
     "metadata": {},
     "output_type": "execute_result"
    }
   ],
   "source": [
    "#Example of describe\n",
    "df.describe()"
   ]
  },
  {
   "cell_type": "code",
   "execution_count": 13,
   "id": "4241f550-328d-4516-86c4-96f404307144",
   "metadata": {},
   "outputs": [
    {
     "data": {
      "text/plain": [
       "Pclass\n",
       "1    84.154687\n",
       "2    20.662183\n",
       "3    13.675550\n",
       "Name: Fare, dtype: float64"
      ]
     },
     "execution_count": 13,
     "metadata": {},
     "output_type": "execute_result"
    }
   ],
   "source": [
    "#Example of groupby\n",
    "df.groupby(by='Pclass').Fare.mean()"
   ]
  },
  {
   "cell_type": "code",
   "execution_count": 14,
   "id": "c984f108-d493-47c3-8bb2-455f448b3914",
   "metadata": {},
   "outputs": [
    {
     "data": {
      "text/html": [
       "<div>\n",
       "<style scoped>\n",
       "    .dataframe tbody tr th:only-of-type {\n",
       "        vertical-align: middle;\n",
       "    }\n",
       "\n",
       "    .dataframe tbody tr th {\n",
       "        vertical-align: top;\n",
       "    }\n",
       "\n",
       "    .dataframe thead th {\n",
       "        text-align: right;\n",
       "    }\n",
       "</style>\n",
       "<table border=\"1\" class=\"dataframe\">\n",
       "  <thead>\n",
       "    <tr style=\"text-align: right;\">\n",
       "      <th></th>\n",
       "      <th>Name</th>\n",
       "      <th>Sex</th>\n",
       "      <th>Age</th>\n",
       "      <th>Fare</th>\n",
       "    </tr>\n",
       "  </thead>\n",
       "  <tbody>\n",
       "    <tr>\n",
       "      <th>0</th>\n",
       "      <td>Braund, Mr. Owen Harris</td>\n",
       "      <td>male</td>\n",
       "      <td>22.0</td>\n",
       "      <td>7.2500</td>\n",
       "    </tr>\n",
       "    <tr>\n",
       "      <th>1</th>\n",
       "      <td>Cumings, Mrs. John Bradley (Florence Briggs Th...</td>\n",
       "      <td>female</td>\n",
       "      <td>38.0</td>\n",
       "      <td>71.2833</td>\n",
       "    </tr>\n",
       "    <tr>\n",
       "      <th>2</th>\n",
       "      <td>Heikkinen, Miss. Laina</td>\n",
       "      <td>female</td>\n",
       "      <td>26.0</td>\n",
       "      <td>7.9250</td>\n",
       "    </tr>\n",
       "    <tr>\n",
       "      <th>3</th>\n",
       "      <td>Futrelle, Mrs. Jacques Heath (Lily May Peel)</td>\n",
       "      <td>female</td>\n",
       "      <td>35.0</td>\n",
       "      <td>53.1000</td>\n",
       "    </tr>\n",
       "  </tbody>\n",
       "</table>\n",
       "</div>"
      ],
      "text/plain": [
       "                                                Name     Sex   Age     Fare\n",
       "0                            Braund, Mr. Owen Harris    male  22.0   7.2500\n",
       "1  Cumings, Mrs. John Bradley (Florence Briggs Th...  female  38.0  71.2833\n",
       "2                             Heikkinen, Miss. Laina  female  26.0   7.9250\n",
       "3       Futrelle, Mrs. Jacques Heath (Lily May Peel)  female  35.0  53.1000"
      ]
     },
     "execution_count": 14,
     "metadata": {},
     "output_type": "execute_result"
    }
   ],
   "source": [
    "#loc[:]\n",
    "df.loc[0:3,['Name','Sex','Age','Fare']]"
   ]
  },
  {
   "cell_type": "markdown",
   "id": "1abc8813-adf0-4650-b0d7-6b5ef5e95a21",
   "metadata": {},
   "source": [
    "Q2. Given a Pandas DataFrame df with columns 'A', 'B', and 'C', write a Python function to re-index the\n",
    "DataFrame with a new index that starts from 1 and increments by 2 for each row."
   ]
  },
  {
   "cell_type": "code",
   "execution_count": 16,
   "id": "1b763639-4d86-4440-b543-5697caa6126f",
   "metadata": {},
   "outputs": [
    {
     "name": "stdout",
     "output_type": "stream",
     "text": [
      "          A         B         C\n",
      "0  0.674553  0.072179  0.726142\n",
      "1  0.639179  0.458667  0.536277\n",
      "2  0.874159  0.195654  0.947903\n"
     ]
    }
   ],
   "source": [
    "import numpy as np\n",
    "column = ['A','B','C']\n",
    "\n",
    "#create a dataframe of random values of array\n",
    "df = pd.DataFrame(np.random.rand(3,3),columns=column)\n",
    "print(df)"
   ]
  },
  {
   "cell_type": "code",
   "execution_count": 21,
   "id": "7852d5c7-aae6-4b4c-9217-5a8b8327d63d",
   "metadata": {},
   "outputs": [
    {
     "name": "stdout",
     "output_type": "stream",
     "text": [
      "          A         B         C\n",
      "1  0.674553  0.072179  0.726142\n",
      "3  0.639179  0.458667  0.536277\n",
      "5  0.874159  0.195654  0.947903\n"
     ]
    }
   ],
   "source": [
    "#Create new-index for dataframe\n",
    "df.index = pd.RangeIndex(start=1,stop=1+2*len(df),step=2)\n",
    "print(df)"
   ]
  },
  {
   "cell_type": "markdown",
   "id": "8903bb88-5aa1-410b-9482-94afeef4f5d9",
   "metadata": {},
   "source": [
    "Q3. You have a Pandas DataFrame df with a column named 'Values'. Write a Python function that\n",
    "iterates over the DataFrame and calculates the sum of the first three values in the 'Values' column. The\n",
    "function should print the sum to the console."
   ]
  },
  {
   "cell_type": "code",
   "execution_count": 27,
   "id": "f0415dcf-f8af-464f-837a-c39ce60dc37f",
   "metadata": {},
   "outputs": [
    {
     "name": "stdout",
     "output_type": "stream",
     "text": [
      "   Values\n",
      "0      10\n",
      "1      20\n",
      "2      30\n",
      "3      40\n",
      "4      50\n"
     ]
    }
   ],
   "source": [
    "column = ['Values']\n",
    "data = [10, 20, 30, 40, 50]\n",
    "#create a dataframe of random values of array\n",
    "df = pd.DataFrame(data,columns=column)\n",
    "print(df)"
   ]
  },
  {
   "cell_type": "code",
   "execution_count": 37,
   "id": "d13eeb3a-ee10-492f-b1ef-4920cb905197",
   "metadata": {},
   "outputs": [
    {
     "name": "stdout",
     "output_type": "stream",
     "text": [
      "Sum:  60\n"
     ]
    }
   ],
   "source": [
    "result = 0\n",
    "for index, row in df.iterrows():\n",
    "    #print(index,row[\"Values\"])\n",
    "    if(index<3):\n",
    "        result+=row[\"Values\"]\n",
    "print(\"Sum: \",result)"
   ]
  },
  {
   "cell_type": "markdown",
   "id": "09099940-0b3c-49cd-a411-16087c68bcf1",
   "metadata": {},
   "source": [
    "Q4. Given a Pandas DataFrame df with a column 'Text', write a Python function to create a new column\n",
    "'Word_Count' that contains the number of words in each row of the 'Text' column."
   ]
  },
  {
   "cell_type": "code",
   "execution_count": 2,
   "id": "c5c24e80-0a6c-458a-9be8-23b66a91656a",
   "metadata": {},
   "outputs": [
    {
     "name": "stdout",
     "output_type": "stream",
     "text": [
      "      Text\n",
      "0    Hello\n",
      "1       Hi\n",
      "2  Morning\n",
      "3     Test\n"
     ]
    }
   ],
   "source": [
    "column = ['Text']\n",
    "data = ['Hello','Hi','Morning','Test']\n",
    "df = pd.DataFrame(data,columns = column)\n",
    "print(df)"
   ]
  },
  {
   "cell_type": "code",
   "execution_count": 3,
   "id": "e0885443-6011-42d9-8e01-385014936321",
   "metadata": {},
   "outputs": [
    {
     "name": "stdout",
     "output_type": "stream",
     "text": [
      "      Text  Word_Count\n",
      "0    Hello           5\n",
      "1       Hi           2\n",
      "2  Morning           7\n",
      "3     Test           4\n"
     ]
    }
   ],
   "source": [
    "df['Word_Count']=df.Text.apply(lambda x:len(x))\n",
    "print(df)"
   ]
  },
  {
   "cell_type": "markdown",
   "id": "4f0e9c25-e342-4d19-8f7c-c9b66f33478b",
   "metadata": {},
   "source": [
    "Q5. How are DataFrame.size() and DataFrame.shape() different?"
   ]
  },
  {
   "cell_type": "markdown",
   "id": "a029faf6-25e3-49b8-bf63-3f748c973e1b",
   "metadata": {},
   "source": [
    "Size of a dataframe is the number of fields in the dataframe which is nothing but number of rows * number of columns. Shape of a dataframe gets the number of rows and number of columns of the dataframe."
   ]
  },
  {
   "cell_type": "markdown",
   "id": "c044b0d2-fb0d-4ae1-bf40-b9bc80e517f4",
   "metadata": {},
   "source": [
    "Q6. Which function of pandas do we use to read an excel file?"
   ]
  },
  {
   "cell_type": "markdown",
   "id": "84805a3c-83b6-450e-892e-2883ffa068a3",
   "metadata": {},
   "source": [
    "We use read_excel() to read an excel file."
   ]
  },
  {
   "cell_type": "markdown",
   "id": "51951143-a646-4830-b746-01ac1155f119",
   "metadata": {},
   "source": [
    "Q7. You have a Pandas DataFrame df that contains a column named 'Email' that contains email addresses in the format 'username@domain.com'. Write a Python function that creates a new column 'Username' in df that contains only the username part of each email address."
   ]
  },
  {
   "cell_type": "code",
   "execution_count": 6,
   "id": "10b32340-cb06-49f2-bf14-f2477caab699",
   "metadata": {},
   "outputs": [
    {
     "name": "stdout",
     "output_type": "stream",
     "text": [
      "                   Email\n",
      "0  arnabbhakta@gmail.com\n",
      "1          zee@gmail.com\n",
      "2       test67@gmail.com\n",
      "3   john.doe@example.com\n"
     ]
    }
   ],
   "source": [
    "column = ['Email']\n",
    "data = ['arnabbhakta@gmail.com','zee@gmail.com','test67@gmail.com','john.doe@example.com']\n",
    "df = pd.DataFrame(data,columns=column)\n",
    "print(df)"
   ]
  },
  {
   "cell_type": "code",
   "execution_count": 7,
   "id": "20779eb1-e603-4c0a-bf0b-e9a37723b42f",
   "metadata": {},
   "outputs": [
    {
     "name": "stdout",
     "output_type": "stream",
     "text": [
      "                   Email     Username\n",
      "0  arnabbhakta@gmail.com  arnabbhakta\n",
      "1          zee@gmail.com          zee\n",
      "2       test67@gmail.com       test67\n",
      "3   john.doe@example.com     john.doe\n"
     ]
    }
   ],
   "source": [
    "df['Username']=df.Email.apply(lambda x:x.split(\"@\")[0])\n",
    "print(df)"
   ]
  },
  {
   "cell_type": "markdown",
   "id": "05595484-a06d-4394-b9ee-c6f406307ce5",
   "metadata": {},
   "source": [
    "Q8. You have a Pandas DataFrame df with columns 'A', 'B', and 'C'. Write a Python function that selects\n",
    "all rows where the value in column 'A' is greater than 5 and the value in column 'B' is less than 10. The\n",
    "function should return a new DataFrame that contains only the selected rows.\n",
    "For example, if df contains the following values:\n",
    "    A B C\n",
    "    0 3 5 1\n",
    "    1 8 2 7\n",
    "    2 6 9 4\n",
    "    3 2 3 5\n",
    "    4 9 1 2\n",
    "    Your function should select the following rows: A B C\n",
    "    1 8 2 7\n",
    "    4 9 1 2\n",
    "The function should return a new DataFrame that contains only the selected rows."
   ]
  },
  {
   "cell_type": "code",
   "execution_count": 9,
   "id": "8017840c-d4f6-49ff-b41d-fceb19481385",
   "metadata": {},
   "outputs": [
    {
     "name": "stdout",
     "output_type": "stream",
     "text": [
      "   A  B  C\n",
      "0  3  5  1\n",
      "1  8  2  7\n",
      "2  6  9  4\n",
      "3  2  3  5\n",
      "4  9  1  2\n"
     ]
    }
   ],
   "source": [
    "column=['A','B','C']\n",
    "data = [[3,5,1],[8,2,7],[6,9,4],[2,3,5],[9,1,2]]\n",
    "df = pd.DataFrame(data,columns=column)\n",
    "print(df)"
   ]
  },
  {
   "cell_type": "code",
   "execution_count": 14,
   "id": "96aacdc7-2c25-471e-816a-3bcaecc34f51",
   "metadata": {},
   "outputs": [
    {
     "name": "stdout",
     "output_type": "stream",
     "text": [
      "   A  B  C\n",
      "1  8  2  7\n",
      "2  6  9  4\n",
      "4  9  1  2\n"
     ]
    }
   ],
   "source": [
    "df_new = df[(df['A']>5) & (df['B']<10)]\n",
    "print(df_new)"
   ]
  },
  {
   "cell_type": "markdown",
   "id": "1a04d679-afc0-4cd5-86c0-37fbd59378c7",
   "metadata": {},
   "source": [
    "Q9. Given a Pandas DataFrame df with a column 'Values', write a Python function to calculate the mean,\n",
    "median, and standard deviation of the values in the 'Values' column."
   ]
  },
  {
   "cell_type": "code",
   "execution_count": 15,
   "id": "913f1cd6-20cb-4ccb-915f-06dc939a7267",
   "metadata": {},
   "outputs": [
    {
     "name": "stdout",
     "output_type": "stream",
     "text": [
      "       ID   Product  Color  Discount\n",
      "0     114     shirt  White        10\n",
      "1     345  trousers  Black        10\n",
      "2  157788       tie    Red        10\n",
      "3    5626      belt  Brown        10\n"
     ]
    }
   ],
   "source": [
    "# creating a dataframe \n",
    "df = pd.DataFrame({'ID':[114, 345, 157788, 5626],\n",
    "                   'Product':['shirt', 'trousers', 'tie', 'belt'],\n",
    "                   'Color':['White', 'Black', 'Red', 'Brown'],\n",
    "                   'Discount':[10, 10, 10, 10]})\n",
    "print(df)"
   ]
  },
  {
   "cell_type": "code",
   "execution_count": 18,
   "id": "9f1fe649-83e4-4721-a54f-5d35e1007007",
   "metadata": {},
   "outputs": [
    {
     "name": "stdout",
     "output_type": "stream",
     "text": [
      "ID          40968.25\n",
      "Discount       10.00\n",
      "dtype: float64\n"
     ]
    },
    {
     "name": "stderr",
     "output_type": "stream",
     "text": [
      "/tmp/ipykernel_91/2807316344.py:1: FutureWarning: The default value of numeric_only in DataFrame.mean is deprecated. In a future version, it will default to False. In addition, specifying 'numeric_only=None' is deprecated. Select only valid columns or specify the value of numeric_only to silence this warning.\n",
      "  print(df.mean())\n"
     ]
    }
   ],
   "source": [
    "print(df.mean())"
   ]
  },
  {
   "cell_type": "code",
   "execution_count": 19,
   "id": "9a59d6cd-8148-42f6-b332-9d9a53d4584b",
   "metadata": {},
   "outputs": [
    {
     "name": "stdout",
     "output_type": "stream",
     "text": [
      "ID          2985.5\n",
      "Discount      10.0\n",
      "dtype: float64\n"
     ]
    },
    {
     "name": "stderr",
     "output_type": "stream",
     "text": [
      "/tmp/ipykernel_91/4259369830.py:1: FutureWarning: The default value of numeric_only in DataFrame.median is deprecated. In a future version, it will default to False. In addition, specifying 'numeric_only=None' is deprecated. Select only valid columns or specify the value of numeric_only to silence this warning.\n",
      "  print(df.median())\n"
     ]
    }
   ],
   "source": [
    "print(df.median())"
   ]
  },
  {
   "cell_type": "code",
   "execution_count": 20,
   "id": "c2011db4-4afe-4fe2-98d2-ccff7247e3fa",
   "metadata": {},
   "outputs": [
    {
     "name": "stdout",
     "output_type": "stream",
     "text": [
      "ID          77921.427966\n",
      "Discount        0.000000\n",
      "dtype: float64\n"
     ]
    },
    {
     "name": "stderr",
     "output_type": "stream",
     "text": [
      "/tmp/ipykernel_91/2597523637.py:1: FutureWarning: The default value of numeric_only in DataFrame.std is deprecated. In a future version, it will default to False. In addition, specifying 'numeric_only=None' is deprecated. Select only valid columns or specify the value of numeric_only to silence this warning.\n",
      "  print(df.std())\n"
     ]
    }
   ],
   "source": [
    "print(df.std())"
   ]
  },
  {
   "cell_type": "markdown",
   "id": "c57bab3e-c113-4503-832b-41a4f41b888e",
   "metadata": {},
   "source": [
    "Q10. Given a Pandas DataFrame df with a column 'Sales' and a column 'Date', write a Python function to\n",
    "create a new column 'MovingAverage' that contains the moving average of the sales for the past 7 days\n",
    "for each row in the DataFrame. The moving average should be calculated using a window of size 7 and\n",
    "should include the current day."
   ]
  },
  {
   "cell_type": "code",
   "execution_count": 33,
   "id": "40d440ba-e9dd-4dc0-8583-0ed79a75a134",
   "metadata": {},
   "outputs": [
    {
     "name": "stdout",
     "output_type": "stream",
     "text": [
      "                 ORDERNUMBER  QUANTITYORDERED  PRICEEACH  ORDERLINENUMBER  \\\n",
      "ORDERDATE                                                                   \n",
      "2/24/2003 0:00         10107               30      95.70                2   \n",
      "5/7/2003 0:00          10121               34      81.35                5   \n",
      "7/1/2003 0:00          10134               41      94.74                2   \n",
      "8/25/2003 0:00         10145               45      83.26                6   \n",
      "10/10/2003 0:00        10159               49     100.00               14   \n",
      "\n",
      "                   SALES   STATUS  QTR_ID  MONTH_ID  YEAR_ID  PRODUCTLINE  \\\n",
      "ORDERDATE                                                                   \n",
      "2/24/2003 0:00   2871.00  Shipped       1         2     2003  Motorcycles   \n",
      "5/7/2003 0:00    2765.90  Shipped       2         5     2003  Motorcycles   \n",
      "7/1/2003 0:00    3884.34  Shipped       3         7     2003  Motorcycles   \n",
      "8/25/2003 0:00   3746.70  Shipped       3         8     2003  Motorcycles   \n",
      "10/10/2003 0:00  5205.27  Shipped       4        10     2003  Motorcycles   \n",
      "\n",
      "                 ...                   ADDRESSLINE1 ADDRESSLINE2  \\\n",
      "ORDERDATE        ...                                               \n",
      "2/24/2003 0:00   ...        897 Long Airport Avenue          NaN   \n",
      "5/7/2003 0:00    ...             59 rue de l'Abbaye          NaN   \n",
      "7/1/2003 0:00    ...  27 rue du Colonel Pierre Avia          NaN   \n",
      "8/25/2003 0:00   ...             78934 Hillside Dr.          NaN   \n",
      "10/10/2003 0:00  ...                7734 Strong St.          NaN   \n",
      "\n",
      "                          CITY STATE POSTALCODE COUNTRY TERRITORY  \\\n",
      "ORDERDATE                                                           \n",
      "2/24/2003 0:00             NYC    NY      10022     USA       NaN   \n",
      "5/7/2003 0:00            Reims   NaN      51100  France      EMEA   \n",
      "7/1/2003 0:00            Paris   NaN      75508  France      EMEA   \n",
      "8/25/2003 0:00        Pasadena    CA      90003     USA       NaN   \n",
      "10/10/2003 0:00  San Francisco    CA        NaN     USA       NaN   \n",
      "\n",
      "                CONTACTLASTNAME CONTACTFIRSTNAME DEALSIZE  \n",
      "ORDERDATE                                                  \n",
      "2/24/2003 0:00               Yu             Kwai    Small  \n",
      "5/7/2003 0:00           Henriot             Paul    Small  \n",
      "7/1/2003 0:00          Da Cunha           Daniel   Medium  \n",
      "8/25/2003 0:00            Young            Julie   Medium  \n",
      "10/10/2003 0:00           Brown            Julie   Medium  \n",
      "\n",
      "[5 rows x 24 columns]\n"
     ]
    }
   ],
   "source": [
    "reliance = pd.read_csv('sales_data_sample.csv',encoding='latin1')\n",
    "reliance = reliance.set_index('ORDERDATE')\n",
    "print(reliance.head())"
   ]
  },
  {
   "cell_type": "code",
   "execution_count": 35,
   "id": "2435d5e0-c8a1-4537-a979-17716d8ccdfb",
   "metadata": {},
   "outputs": [
    {
     "data": {
      "text/html": [
       "<div>\n",
       "<style scoped>\n",
       "    .dataframe tbody tr th:only-of-type {\n",
       "        vertical-align: middle;\n",
       "    }\n",
       "\n",
       "    .dataframe tbody tr th {\n",
       "        vertical-align: top;\n",
       "    }\n",
       "\n",
       "    .dataframe thead th {\n",
       "        text-align: right;\n",
       "    }\n",
       "</style>\n",
       "<table border=\"1\" class=\"dataframe\">\n",
       "  <thead>\n",
       "    <tr style=\"text-align: right;\">\n",
       "      <th></th>\n",
       "      <th>SALES</th>\n",
       "      <th>SMA30</th>\n",
       "    </tr>\n",
       "    <tr>\n",
       "      <th>ORDERDATE</th>\n",
       "      <th></th>\n",
       "      <th></th>\n",
       "    </tr>\n",
       "  </thead>\n",
       "  <tbody>\n",
       "    <tr>\n",
       "      <th>12/5/2003 0:00</th>\n",
       "      <td>9064.89</td>\n",
       "      <td>7567.211429</td>\n",
       "    </tr>\n",
       "    <tr>\n",
       "      <th>1/29/2004 0:00</th>\n",
       "      <td>6075.30</td>\n",
       "      <td>7381.668571</td>\n",
       "    </tr>\n",
       "    <tr>\n",
       "      <th>3/10/2004 0:00</th>\n",
       "      <td>6463.23</td>\n",
       "      <td>6734.487143</td>\n",
       "    </tr>\n",
       "    <tr>\n",
       "      <th>5/4/2004 0:00</th>\n",
       "      <td>6120.34</td>\n",
       "      <td>6914.501429</td>\n",
       "    </tr>\n",
       "    <tr>\n",
       "      <th>6/15/2004 0:00</th>\n",
       "      <td>7680.64</td>\n",
       "      <td>6866.761429</td>\n",
       "    </tr>\n",
       "    <tr>\n",
       "      <th>...</th>\n",
       "      <td>...</td>\n",
       "      <td>...</td>\n",
       "    </tr>\n",
       "    <tr>\n",
       "      <th>12/2/2004 0:00</th>\n",
       "      <td>2244.40</td>\n",
       "      <td>2494.347143</td>\n",
       "    </tr>\n",
       "    <tr>\n",
       "      <th>1/31/2005 0:00</th>\n",
       "      <td>3978.51</td>\n",
       "      <td>2820.768571</td>\n",
       "    </tr>\n",
       "    <tr>\n",
       "      <th>3/1/2005 0:00</th>\n",
       "      <td>5417.57</td>\n",
       "      <td>3320.147143</td>\n",
       "    </tr>\n",
       "    <tr>\n",
       "      <th>3/28/2005 0:00</th>\n",
       "      <td>2116.16</td>\n",
       "      <td>3324.905714</td>\n",
       "    </tr>\n",
       "    <tr>\n",
       "      <th>5/6/2005 0:00</th>\n",
       "      <td>3079.44</td>\n",
       "      <td>3446.597143</td>\n",
       "    </tr>\n",
       "  </tbody>\n",
       "</table>\n",
       "<p>2788 rows × 2 columns</p>\n",
       "</div>"
      ],
      "text/plain": [
       "                  SALES        SMA30\n",
       "ORDERDATE                           \n",
       "12/5/2003 0:00  9064.89  7567.211429\n",
       "1/29/2004 0:00  6075.30  7381.668571\n",
       "3/10/2004 0:00  6463.23  6734.487143\n",
       "5/4/2004 0:00   6120.34  6914.501429\n",
       "6/15/2004 0:00  7680.64  6866.761429\n",
       "...                 ...          ...\n",
       "12/2/2004 0:00  2244.40  2494.347143\n",
       "1/31/2005 0:00  3978.51  2820.768571\n",
       "3/1/2005 0:00   5417.57  3320.147143\n",
       "3/28/2005 0:00  2116.16  3324.905714\n",
       "5/6/2005 0:00   3079.44  3446.597143\n",
       "\n",
       "[2788 rows x 2 columns]"
      ]
     },
     "execution_count": 35,
     "metadata": {},
     "output_type": "execute_result"
    }
   ],
   "source": [
    "# updating our dataFrame to have only\n",
    "# one column 'Close' as rest all columns\n",
    "# are of no use for us at the moment\n",
    "# using .to_frame() to convert pandas series\n",
    "# into dataframe.\n",
    "reliance = reliance['SALES'].to_frame()\n",
    " \n",
    "# calculating simple moving average\n",
    "# using .rolling(window).mean() ,\n",
    "# with window size = 30\n",
    "reliance['SMA30'] = reliance['SALES'].rolling(7).mean()\n",
    " \n",
    "# removing all the NULL values using\n",
    "# dropna() method\n",
    "reliance.dropna(inplace=True)\n",
    " \n",
    "# printing Dataframe\n",
    "reliance"
   ]
  },
  {
   "attachments": {
    "1437444b-13b4-4abc-aac3-b38c1e70d157.png": {
     "image/png": "[encoded data removed]"
    },
    "aba40287-13a9-4954-ac84-3a5b8642cd21.png": {
     "image/png": "[encoded data removed]"
    }
   },
   "cell_type": "markdown",
   "id": "8fb8f18c-b6f1-4330-a52f-e102a1e9b09a",
   "metadata": {},
   "source": [
    "Q11. You have a Pandas DataFrame df with a column 'Date'. Write a Python function that creates a new\n",
    "column 'Weekday' in the DataFrame. The 'Weekday' column should contain the weekday name (e.g.\n",
    "Monday, Tuesday) corresponding to each date in the 'Date' column.\n",
    "For example, if df contains the following values:\n",
    "\n",
    "![image.png](attachment:1437444b-13b4-4abc-aac3-b38c1e70d157.png)\n",
    "\n",
    "Your function should create the following DataFrame:\n",
    "\n",
    "![image.png](attachment:aba40287-13a9-4954-ac84-3a5b8642cd21.png)\n",
    "\n",
    "The function should return the modified DataFrame."
   ]
  },
  {
   "cell_type": "code",
   "execution_count": 6,
   "id": "38929c91-748e-4a3a-8c7d-5d862b9f3b5e",
   "metadata": {},
   "outputs": [
    {
     "name": "stdout",
     "output_type": "stream",
     "text": [
      "         Date\n",
      "0  2023-01-01\n",
      "1  2023-01-02\n",
      "2  2023-01-03\n",
      "3  2023-01-04\n",
      "4  2023-01-05\n"
     ]
    }
   ],
   "source": [
    "import pandas as pd\n",
    "data = ['2023-01-01','2023-01-02','2023-01-03','2023-01-04','2023-01-05']\n",
    "df=pd.DataFrame(data, columns = ['Date'])\n",
    "print(df)"
   ]
  },
  {
   "cell_type": "code",
   "execution_count": 7,
   "id": "94edc3e6-ae22-459f-b7ae-e5dd1e6946f1",
   "metadata": {},
   "outputs": [
    {
     "name": "stdout",
     "output_type": "stream",
     "text": [
      "         Date    Weekday\n",
      "0  2023-01-01     Sunday\n",
      "1  2023-01-02     Monday\n",
      "2  2023-01-03    Tuesday\n",
      "3  2023-01-04  Wednesday\n",
      "4  2023-01-05   Thursday\n"
     ]
    }
   ],
   "source": [
    "df['Weekday']=pd.to_datetime(df['Date']).dt.day_name()\n",
    "print(df)"
   ]
  },
  {
   "cell_type": "markdown",
   "id": "bbc32756-3686-4de0-91b6-8e7c2925f843",
   "metadata": {},
   "source": [
    "Q12. Given a Pandas DataFrame df with a column 'Date' that contains timestamps, write a Python\n",
    "function to select all rows where the date is between '2023-01-01' and '2023-01-31'."
   ]
  },
  {
   "cell_type": "code",
   "execution_count": 17,
   "id": "fd3f7e32-f599-41f0-b7a2-2be5129ca762",
   "metadata": {},
   "outputs": [
    {
     "name": "stdout",
     "output_type": "stream",
     "text": [
      "            Date\n",
      "0  1658861360599\n",
      "1  1656321743211\n",
      "2  1659817890370\n",
      "3  1677077684997\n",
      "4  1673826662000\n",
      "5  1673567462000\n"
     ]
    }
   ],
   "source": [
    "data = [1658861360599,1656321743211,1659817890370,1677077684997,1673826662000,1673567462000]\n",
    "df = pd.DataFrame(data,columns=['Date'])\n",
    "print(df)"
   ]
  },
  {
   "cell_type": "code",
   "execution_count": 18,
   "id": "1d4a8c6f-3d78-4c40-a163-72b74e208544",
   "metadata": {},
   "outputs": [
    {
     "name": "stdout",
     "output_type": "stream",
     "text": [
      "            Date                DateTime\n",
      "0  1658861360599 2022-07-26 18:49:20.599\n",
      "1  1656321743211 2022-06-27 09:22:23.211\n",
      "2  1659817890370 2022-08-06 20:31:30.370\n",
      "3  1677077684997 2023-02-22 14:54:44.997\n",
      "4  1673826662000 2023-01-15 23:51:02.000\n",
      "5  1673567462000 2023-01-12 23:51:02.000\n"
     ]
    }
   ],
   "source": [
    "df['DateTime'] = pd.to_datetime(df['Date'],unit='ms')\n",
    "print(df)"
   ]
  },
  {
   "cell_type": "code",
   "execution_count": 22,
   "id": "04f2e455-7826-422c-b196-4d3e3e6d6d68",
   "metadata": {},
   "outputs": [
    {
     "name": "stdout",
     "output_type": "stream",
     "text": [
      "0    False\n",
      "1    False\n",
      "2    False\n",
      "3    False\n",
      "4     True\n",
      "5     True\n",
      "Name: DateTime, dtype: bool\n"
     ]
    }
   ],
   "source": [
    "mask = (df['DateTime']>'2023-01-01') & (df['DateTime']<'2023-01-31')\n",
    "print(mask)"
   ]
  },
  {
   "cell_type": "code",
   "execution_count": 23,
   "id": "cf09c99f-1e83-4465-a197-1d499627bc3e",
   "metadata": {},
   "outputs": [
    {
     "name": "stdout",
     "output_type": "stream",
     "text": [
      "            Date            DateTime\n",
      "4  1673826662000 2023-01-15 23:51:02\n",
      "5  1673567462000 2023-01-12 23:51:02\n"
     ]
    }
   ],
   "source": [
    "df = df[mask]\n",
    "print(df)"
   ]
  },
  {
   "cell_type": "markdown",
   "id": "cda231a9-2e5b-40ac-8e28-ffca6432d49a",
   "metadata": {},
   "source": [
    "Q13. To use the basic functions of pandas, what is the first and foremost necessary library that needs to\n",
    "be imported?"
   ]
  },
  {
   "cell_type": "markdown",
   "id": "79700dc6-4254-483e-8b97-683f9c80f361",
   "metadata": {},
   "source": [
    "We need to pandas library to use the basic functions of pandas.\n",
    "import pandas as pd"
   ]
  },
  {
   "cell_type": "code",
   "execution_count": null,
   "id": "bf1c29c5-0171-436b-ad0f-0aa0018e0bdb",
   "metadata": {},
   "outputs": [],
   "source": []
  }
 ],
 "metadata": {
  "kernelspec": {
   "display_name": "Python 3 (ipykernel)",
   "language": "python",
   "name": "python3"
  },
  "language_info": {
   "codemirror_mode": {
    "name": "ipython",
    "version": 3
   },
   "file_extension": ".py",
   "mimetype": "text/x-python",
   "name": "python",
   "nbconvert_exporter": "python",
   "pygments_lexer": "ipython3",
   "version": "3.10.8"
  }
 },
 "nbformat": 4,
 "nbformat_minor": 5
}
