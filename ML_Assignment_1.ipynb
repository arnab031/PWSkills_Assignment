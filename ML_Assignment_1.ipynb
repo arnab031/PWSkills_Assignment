{
 "cells": [
  {
   "cell_type": "markdown",
   "id": "5d70c7ee-224f-488d-a4bb-84f849788a3b",
   "metadata": {},
   "source": [
    "Q1. Explain the following with an example:\n",
    "1) Artificial Intelligence\n",
    "2) Machine Learning\n",
    "3) Deep Learning"
   ]
  },
  {
   "cell_type": "markdown",
   "id": "e5c88fcf-2b0f-457e-bf94-a2fc10441515",
   "metadata": {},
   "source": [
    "1. Artificial Intelligence: Artificial intelligence is the process of imparting data, information, and human intelligence to machines. The main goal of Artificial Intelligence is to develop self-reliant machines that can think and act like humans. These machines can mimic human behavior and perform tasks by learning and problem-solving.\n",
    "    Example: Self driving car.\n",
    "2. Machine Learning: Machine learning (ML) is a subset of AI that uses statistical techniques to enable machines to learn from data and improve their performance on a task. ML algorithms can be supervised, unsupervised, or semi-supervised, and they can be used for tasks such as classification, regression, clustering, and anomaly detection. \n",
    "    Example: A spam filter that learns to identify and block unwanted emails is an example of supervised ML.\n",
    "3. Deep Learning: Deep learning is a subset of machine learning that deals with algorithms inspired by the structure and function of the human brain. Deep learning algorithms can work with an enormous amount of both structured and unstructured data. Deep learning’s core concept lies in artificial neural networks, which enable machines to make decisions.\n",
    "    Example: Image Recognition.\n"
   ]
  },
  {
   "cell_type": "markdown",
   "id": "f650a09c-22bd-4500-9671-bc90dfe2d097",
   "metadata": {},
   "source": [
    "Q2: What is supervised learning? List some examples of supervised learning."
   ]
  },
  {
   "cell_type": "markdown",
   "id": "ee8ff933-efdc-47c7-b7c7-45f9cf8d86d7",
   "metadata": {},
   "source": [
    "Supervised Learning: Supervised learning is the types of machine learning in which machines are trained using well \"labelled\" training data, and on basis of that data, machines predict the output. The labelled data means some input data is already tagged with the correct output.\n",
    "\n",
    "    Example: Fraud Detection, Spam filtering."
   ]
  },
  {
   "cell_type": "markdown",
   "id": "4cf9a094-e54a-4d21-9364-c4d8164c5744",
   "metadata": {},
   "source": [
    "Q3: What is unsupervised learning? List some examples of unsupervised learning."
   ]
  },
  {
   "cell_type": "markdown",
   "id": "d3e0e9ab-8df5-4a0d-8149-137870ffa13f",
   "metadata": {},
   "source": [
    "Unsupervised learning: It is a machine learning technique in which models are not supervised using training dataset. Instead, models itself find the hidden patterns and insights from the given data. It can be compared to learning which takes place in the human brain while learning new things.\n",
    "\n",
    "    Example: Image Classification, Spam Filtering."
   ]
  },
  {
   "cell_type": "markdown",
   "id": "0cbd3a02-bc72-45f1-ac6c-a33fbaecb850",
   "metadata": {},
   "source": [
    "Q4: What is the difference between AI, ML, DL, and DS?"
   ]
  },
  {
   "cell_type": "markdown",
   "id": "6bb43876-879d-4191-aaa7-cefe463e2793",
   "metadata": {},
   "source": [
    "1. Artificial Intelligence (AI) enables machines to think by understanding, learning from the data, and taking decisions based on patterns hidden in the data or make inferences that would otherwise be very difficult for humans to make manually. The end goal of using ML or DL is to create an AI application or machine as smart as humans.\n",
    "\n",
    "2. Machine Learning (ML) is a subset of AI. it provides us statistical tools/techniques like Supervised, Unsupervised, and Reinforcement learning to explore and analyze the data.\n",
    "\n",
    "3. Deep Learning (DL) is further a subset of ML, and the main idea behind it is to make machines learn by mimicking the human brain. Here, we create a multi neural network architecture with the help of different techniques like ANN, CNN, and RNN.\n",
    "\n",
    "4. Data Science (DS) is basically drawing insights from structured and unstructured data either by using ML or DL or without these techniques. We can even use different visualization tools, statistics, and probability to gain these insights."
   ]
  },
  {
   "cell_type": "markdown",
   "id": "286a157f-98c1-4e09-b1d2-e160c07a9ca6",
   "metadata": {},
   "source": [
    "Q5: What are the main differences between supervised, unsupervised, and semi-supervised learning?"
   ]
  },
  {
   "cell_type": "markdown",
   "id": "161206df-9a16-4d25-b3ae-0c6a14a79601",
   "metadata": {},
   "source": [
    "Supervised learning, unsupervised learning, and semi-supervised learning are three types of machine learning techniques used to analyze and interpret data. The main differences between these three approaches are:\n",
    "\n",
    "1. Supervised learning: In supervised learning, the algorithm is trained on labeled data, which means the input data has a known target variable or response variable. The algorithm tries to learn the relationship between the input variables and the target variable by mapping the input variables to the output variable using an appropriate model. The algorithm uses this model to predict the target variable of new input data.\n",
    "\n",
    "2. Unsupervised learning: In unsupervised learning, the algorithm is trained on unlabeled data, which means the input data has no known target variable. The algorithm tries to identify patterns or relationships in the input data by grouping similar data points together based on their properties or attributes. Unsupervised learning is often used for exploratory data analysis to gain insights into the data.\n",
    "\n",
    "3. Semi-supervised learning: Semi-supervised learning is a combination of supervised and unsupervised learning. It uses both labeled and unlabeled data to train the algorithm. The algorithm uses the labeled data to learn the relationship between the input variables and the target variable, and then uses the unlabeled data to further refine the model."
   ]
  },
  {
   "cell_type": "markdown",
   "id": "efebba56-dcfd-44ae-bf86-3a22cb32ad19",
   "metadata": {},
   "source": [
    "Q6: What is train, test and validation split? Explain the importance of each term."
   ]
  },
  {
   "cell_type": "markdown",
   "id": "97b411ff-1706-4a7e-a37a-6c541c0c10f4",
   "metadata": {},
   "source": [
    "We split a database in three parts, those are train, test and validation split.\n",
    "\n",
    "    Training data is the set of the data on which the actual training takes place. \n",
    "    \n",
    "    Validation split helps to improve the model performance by fine-tuning the model after each epoch. \n",
    "    \n",
    "    The test set informs us about the final accuracy of the model after completing the training phase."
   ]
  },
  {
   "cell_type": "markdown",
   "id": "2e2dbade-699c-4b4f-b4df-307cb0d796d3",
   "metadata": {},
   "source": [
    "Q7: How can unsupervised learning be used in anomaly detection?"
   ]
  },
  {
   "cell_type": "markdown",
   "id": "06a68b1a-575c-4891-aefd-620cec9bee49",
   "metadata": {},
   "source": [
    "In unsupervised learning, the algorithm is given a dataset without any pre-defined labels or categories. The algorithm then identifies patterns in the data and clusters the data points into groups based on their similarity. Anomalies are detected by identifying data points that do not fit well into any of the clusters or have significantly different characteristics from the majority of the data.\n",
    "\n",
    "One popular unsupervised learning algorithm for anomaly detection is the k-means clustering algorithm."
   ]
  },
  {
   "cell_type": "markdown",
   "id": "9315381e-ccdf-4409-8331-78c79f6e4edd",
   "metadata": {},
   "source": [
    "Q8: List down some commonly used supervised learning algorithms and unsupervised learning algorithms."
   ]
  },
  {
   "cell_type": "markdown",
   "id": "73ff3884-4ca6-4b76-913e-ddea5b32f87b",
   "metadata": {},
   "source": [
    "    The most commonly used Supervised Learning algorithms are decision tree, logistic regression, linear regression and support vector machine. \n",
    "\n",
    "    The most commonly used Unsupervised Learning algorithms are k-means clustering, hierarchical clustering and apriori algorithm."
   ]
  },
  {
   "cell_type": "code",
   "execution_count": null,
   "id": "e40e0486-9483-4575-ba25-7e217c9fff3e",
   "metadata": {},
   "outputs": [],
   "source": []
  }
 ],
 "metadata": {
  "kernelspec": {
   "display_name": "Python 3 (ipykernel)",
   "language": "python",
   "name": "python3"
  },
  "language_info": {
   "codemirror_mode": {
    "name": "ipython",
    "version": 3
   },
   "file_extension": ".py",
   "mimetype": "text/x-python",
   "name": "python",
   "nbconvert_exporter": "python",
   "pygments_lexer": "ipython3",
   "version": "3.10.8"
  }
 },
 "nbformat": 4,
 "nbformat_minor": 5
}
