{
 "cells": [
  {
   "cell_type": "markdown",
   "id": "b1ecf028-855c-4ad3-a02c-dd1f424ea610",
   "metadata": {},
   "source": [
    "Q1. Which function is used to open a file? What are the different modes of opening a file? Explain each mode\n",
    "of file opening."
   ]
  },
  {
   "cell_type": "markdown",
   "id": "4e6f09eb-e762-43e1-a91a-381b45ddf401",
   "metadata": {},
   "source": [
    "Answer - open() function is used to open a file.\n",
    "\n",
    "Different modes of opening a file - Read Only, Read and Write, Write Only, Write and Read, Append Only, Append and Read.\n",
    "\n",
    "* Read Only (‘r’) : Open text file for reading. The handle is positioned at the beginning of the file. If the file does not exists, raises the I/O error. This is also the default mode in which a file is opened.\n",
    "\n",
    "* Read and Write (‘r+’): Open the file for reading and writing. The handle is positioned at the beginning of the file. Raises I/O error if the file does not exist.\n",
    "\n",
    "* Write Only (‘w’) : Open the file for writing. For the existing files, the data is truncated and over-written. The handle is positioned at the beginning of the file. Creates the file if the file does not exist.\n",
    "\n",
    "* Write and Read (‘w+’) : Open the file for reading and writing. For an existing file, data is truncated and over-written. The handle is positioned at the beginning of the file.\n",
    "\n",
    "* Append Only (‘a’): Open the file for writing. The file is created if it does not exist. The handle is positioned at the end of the file. The data being written will be inserted at the end, after the existing data.\n",
    "\n",
    "* Append and Read (‘a+’) : Open the file for reading and writing. The file is created if it does not exist. The handle is positioned at the end of the file. The data being written will be inserted at the end, after the existing data."
   ]
  },
  {
   "cell_type": "markdown",
   "id": "e2ecd105-bfb3-484c-8d02-e46c416b6910",
   "metadata": {},
   "source": [
    "Q2. Why close() function is used? Why is it important to close a file?"
   ]
  },
  {
   "cell_type": "markdown",
   "id": "f63105c8-2c92-4348-a4bd-c94dcee31d0d",
   "metadata": {},
   "source": [
    "close() function closes the file and frees the memory space acquired by that file. \n",
    "\n",
    "It is used at the time when the file is no longer needed or if it is to be opened in a different file mode. File_object.close() "
   ]
  },
  {
   "cell_type": "markdown",
   "id": "f7c88c62-7864-4a81-97c1-2b4b3ceb8bf9",
   "metadata": {},
   "source": [
    "Q3. Write a python program to create a text file. Write ‘I want to become a Data Scientist’ in that file. Then\n",
    "close the file. Open this file and read the content of the file."
   ]
  },
  {
   "cell_type": "code",
   "execution_count": 6,
   "id": "08198a10-be2d-4232-980e-aa1478177a32",
   "metadata": {},
   "outputs": [
    {
     "name": "stdout",
     "output_type": "stream",
     "text": [
      "['I want to become a Data Scientist']\n"
     ]
    }
   ],
   "source": [
    "file=open(\"text_file\",\"w\")\n",
    "file.write(\"I want to become a Data Scientist\")\n",
    "file.close()\n",
    "\n",
    "file=open(\"text_file\",\"r\")\n",
    "print(file.readlines())\n",
    "file.close()"
   ]
  },
  {
   "cell_type": "markdown",
   "id": "e9cdd139-3fdc-4ed5-8e4c-71a0bf014437",
   "metadata": {},
   "source": [
    "Q4. Explain the following with python code: read(), readline() and readlines()."
   ]
  },
  {
   "cell_type": "markdown",
   "id": "7dae181d-fe6d-4041-b42c-3e2298560d95",
   "metadata": {},
   "source": [
    "read() : Returns the read bytes in form of a string. Reads n bytes, if no n specified, reads the entire file.\n",
    "\n",
    "readline() : Reads a line of the file and returns in form of a string. For specified n, reads at most n bytes. However, does not reads more than one line, even if n exceeds the length of the line.\n",
    "\n",
    "readlines() : Reads all the lines and return them as each line a string element in a list."
   ]
  },
  {
   "cell_type": "markdown",
   "id": "01d297ef-8c24-4ddc-9c10-16d17e21a28f",
   "metadata": {},
   "source": [
    "Q5. Explain why with statement is used with open(). What is the advantage of using with statement and\n",
    "open() together?"
   ]
  },
  {
   "cell_type": "markdown",
   "id": "26968dbd-b37b-4c20-b001-3a0c1efa1712",
   "metadata": {},
   "source": [
    "“with statement” creates an execution block and object created in the with statement will be destroyed or gracefully closed when this execution block ends.\n",
    "\n",
    "No need to explicitly close the opened file, “with statement” takes care of that. When with the block ends, it will automatically close the file. So, it reduces the number of lines of code and reduces the chances of bug."
   ]
  },
  {
   "cell_type": "markdown",
   "id": "4872b6f4-3813-4fa0-8451-a31955698861",
   "metadata": {},
   "source": [
    "Q6. Explain the write() and writelines() functions. Give a suitable example."
   ]
  },
  {
   "cell_type": "markdown",
   "id": "1d875809-2cf7-42e2-a4fc-0b497347dd57",
   "metadata": {},
   "source": [
    "write() : Inserts the string str1 in a single line in the text file.\n",
    "\n",
    "writelines() : For a list of string elements, each string is inserted in the text file.Used to insert multiple strings at a single time."
   ]
  },
  {
   "cell_type": "code",
   "execution_count": 3,
   "id": "0a5f05bc-0c78-4869-9788-4fb3ed933b33",
   "metadata": {},
   "outputs": [
    {
     "name": "stdout",
     "output_type": "stream",
     "text": [
      "['Hello \\n', 'How are you? \\n', \"I'm fine \\n\", 'What about you? \\n']\n"
     ]
    }
   ],
   "source": [
    "file1 = open(\"myfile.txt\",\"w\") \n",
    "  \n",
    "# \\n is placed to indicate EOL (End of Line)\n",
    "file1.write(\"Hello \\n\")\n",
    "file1.writelines([\"How are you? \\n\",\"I'm fine \\n\",\"What about you? \\n\"])\n",
    "file1.close() #to change file access modes\n",
    "\n",
    "file1 = open(\"myfile.txt\",\"r\")\n",
    "print(file1.readlines())"
   ]
  },
  {
   "cell_type": "code",
   "execution_count": null,
   "id": "1eedc62f-a861-4343-b265-58530005a8c1",
   "metadata": {},
   "outputs": [],
   "source": []
  }
 ],
 "metadata": {
  "kernelspec": {
   "display_name": "Python 3 (ipykernel)",
   "language": "python",
   "name": "python3"
  },
  "language_info": {
   "codemirror_mode": {
    "name": "ipython",
    "version": 3
   },
   "file_extension": ".py",
   "mimetype": "text/x-python",
   "name": "python",
   "nbconvert_exporter": "python",
   "pygments_lexer": "ipython3",
   "version": "3.10.8"
  }
 },
 "nbformat": 4,
 "nbformat_minor": 5
}
