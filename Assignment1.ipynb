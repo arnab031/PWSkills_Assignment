{
 "cells": [
  {
   "cell_type": "code",
   "execution_count": 1,
   "id": "d115397d-25e5-404a-9365-c1a535abba78",
   "metadata": {},
   "outputs": [],
   "source": [
    "# 1. Who developed Python Programming Language?\n",
    "# Answer - Guido van Rossum"
   ]
  },
  {
   "cell_type": "code",
   "execution_count": 2,
   "id": "4f0afffa-5b13-4576-9af9-130de78055a0",
   "metadata": {},
   "outputs": [],
   "source": [
    "# 2. Which type of Programming does Python support?\n",
    "# Answer - Object Oriented Programming and Structure Oriented Programming"
   ]
  },
  {
   "cell_type": "code",
   "execution_count": 3,
   "id": "3a67e03b-8dee-4512-9dc9-8ce4c315df49",
   "metadata": {},
   "outputs": [],
   "source": [
    "# 3. Is Python case sensitive when dealing with identifiers?\n",
    "# Answer - Yes"
   ]
  },
  {
   "cell_type": "code",
   "execution_count": 4,
   "id": "1c4e715e-e5e1-4bd7-9485-2b51780d6a5b",
   "metadata": {},
   "outputs": [],
   "source": [
    "# 4. What is the correct extension of the Python file?\n",
    "# Answer - .py"
   ]
  },
  {
   "cell_type": "code",
   "execution_count": 5,
   "id": "aaf208cb-44ee-41cc-9fb5-32f5a008dc13",
   "metadata": {},
   "outputs": [],
   "source": [
    "# 5. Is Python code compiled or interpreted?\n",
    "# Answer - Interpreted"
   ]
  },
  {
   "cell_type": "code",
   "execution_count": 6,
   "id": "7dfc39e4-8c76-4932-a108-310b458ee3a1",
   "metadata": {},
   "outputs": [],
   "source": [
    "# 6. Name a few blocks of code used to define in Python language?\n",
    "# Answer - Braces {}"
   ]
  },
  {
   "cell_type": "code",
   "execution_count": 7,
   "id": "6c2b01af-8145-47d2-9d07-82c1600c1d68",
   "metadata": {},
   "outputs": [],
   "source": [
    "# 7. State a character used to give single-line comments in Python?\n",
    "# Answer - #"
   ]
  },
  {
   "cell_type": "code",
   "execution_count": 8,
   "id": "34eea729-9184-410c-a469-5302830b1077",
   "metadata": {},
   "outputs": [],
   "source": [
    "# 8. Mention functions which can help us to find the version of python that we are currently working on?\n",
    "# Answer - sys.version"
   ]
  },
  {
   "cell_type": "code",
   "execution_count": 9,
   "id": "e2c8632b-3e8e-4930-8ae9-a48ae01254bc",
   "metadata": {},
   "outputs": [],
   "source": [
    "# 9. Python supports the creation of anonymous functions at runtime, using a construct called\n",
    "# Answer - lambda"
   ]
  },
  {
   "cell_type": "code",
   "execution_count": 10,
   "id": "46a5652c-a488-4890-a6ee-346fad428b8d",
   "metadata": {},
   "outputs": [],
   "source": [
    "# 10. What does pip stand for python?\n",
    "# Answer - Preferred Installer Program"
   ]
  },
  {
   "cell_type": "code",
   "execution_count": 11,
   "id": "b8cc62f3-fc4f-4d11-b812-43d7c8b31dff",
   "metadata": {},
   "outputs": [],
   "source": [
    "# 11. Mention a few built-in functions in python?\n",
    "# Answer - sort(), len(), range()"
   ]
  },
  {
   "cell_type": "code",
   "execution_count": 12,
   "id": "4d070265-2746-437d-b870-6618e8443340",
   "metadata": {},
   "outputs": [],
   "source": [
    "# 12. What is the maximum possible length of an identifier in Python?\n",
    "# Answer - 79 Characters"
   ]
  },
  {
   "cell_type": "code",
   "execution_count": 13,
   "id": "62ba0d72-6bab-4d4a-ab76-8ac4bd4763b9",
   "metadata": {},
   "outputs": [],
   "source": [
    "# 13. What are the benefits of using Python?\n",
    "# Answer - i)Easy to Read, Learn and Write ii)Dynamically Typed iii) Interpreted Language iv)Free and Open Source"
   ]
  },
  {
   "cell_type": "code",
   "execution_count": 14,
   "id": "ff501a0d-3b0f-4758-a8c8-c1d04a88b7a6",
   "metadata": {},
   "outputs": [],
   "source": [
    "# 14. How is memory managed in Python?\n",
    "# Answer - Memory Management in Python involves a private heap containing all Python objects and data structures"
   ]
  },
  {
   "cell_type": "code",
   "execution_count": 15,
   "id": "ab25ced3-816a-4623-a3d3-9ae9598c5f04",
   "metadata": {},
   "outputs": [],
   "source": [
    "# 15. How to install Python on Windows and set path variables?\n",
    "# Answer - Install python from this link https://www.python.org/downloads/\n",
    "#          After this, install it on your PC. Look for the location where PYTHON has been installed on your PC using tge following command on your command prompt: cmd python.\n",
    "#          Then go to advanced system settings and add new variable and name it as PYTHON_NAME and paste the copied path.\n",
    "#          Then look for the path variable, select it's value and select edit\n",
    "#          Add a semicolon towards the end of the value if it's not present and then type %PYTHON_HOME%"
   ]
  },
  {
   "cell_type": "code",
   "execution_count": 16,
   "id": "1d7f5511-b117-497d-bff0-c2edf0a65278",
   "metadata": {},
   "outputs": [],
   "source": [
    "# 16. Is indentation required in python?\n",
    "# Answer - Yes"
   ]
  },
  {
   "cell_type": "code",
   "execution_count": null,
   "id": "c15d8e66-b5cd-4e93-850e-297ef83107ba",
   "metadata": {},
   "outputs": [],
   "source": []
  }
 ],
 "metadata": {
  "kernelspec": {
   "display_name": "Python 3 (ipykernel)",
   "language": "python",
   "name": "python3"
  },
  "language_info": {
   "codemirror_mode": {
    "name": "ipython",
    "version": 3
   },
   "file_extension": ".py",
   "mimetype": "text/x-python",
   "name": "python",
   "nbconvert_exporter": "python",
   "pygments_lexer": "ipython3",
   "version": "3.10.8"
  }
 },
 "nbformat": 4,
 "nbformat_minor": 5
}
