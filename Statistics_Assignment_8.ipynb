{
 "cells": [
  {
   "cell_type": "markdown",
   "id": "f4da30f5-31b1-4911-a5ef-e3e0c6485423",
   "metadata": {},
   "source": [
    "Q1. Explain the assumptions required to use ANOVA and provide examples of violations that could impact\n",
    "the validity of the results."
   ]
  },
  {
   "cell_type": "markdown",
   "id": "300c5bfb-d574-476c-8922-1b5078ee7d00",
   "metadata": {},
   "source": [
    "There are three primary assumptions in ANOVA:\n",
    "\n",
    "    * The responses for each factor level have a normal population distribution.\n",
    "    * These distributions have the same variance.\n",
    "    * The data are independent.\n",
    "    \n",
    "Examples of violations that could impact the validity of ANOVA results are:\n",
    "    \n",
    "    1. Violation of normality assumption: If the data in one or more groups are not normally distributed, the ANOVA results may be biased. In such cases, a transformation of the data or the use of non-parametric tests may be required.\n",
    "    2. Violation of homogeneity of variances: If the variances are not equal across the groups, the F-test used in ANOVA may not be accurate, leading to incorrect conclusions. In such cases, a Welch's ANOVA or a non-parametric test may be used.\n",
    "    3. Violation of independence assumption: If the observations in one group are related to the observations in another group, the independence assumption is violated. For example, if the same individuals are included in more than one group, the observations may not be independent."
   ]
  },
  {
   "cell_type": "markdown",
   "id": "f9b1aede-6dd8-4321-9730-ca56ff9dc8b4",
   "metadata": {},
   "source": [
    "Q2. What are the three types of ANOVA, and in what situations would each be used?"
   ]
  },
  {
   "cell_type": "markdown",
   "id": "611c040f-7805-4ba5-ba01-5a968cb02efa",
   "metadata": {},
   "source": [
    "The three types of ANOVA are: \n",
    "    \n",
    "    * One-way ANOVA between groups: Used when you want to test two groups to see if there's a difference between them.\n",
    "    * Two way ANOVA without replication: Used when you have one group and you’re double-testing that same group. For example, you’re testing one set of individuals before and after they take a medication to see if it works or not.\n",
    "    * Two way ANOVA with replication: Two groups, and the members of those groups are doing more than one thing. For example, two groups of patients from different hospitals trying two different therapies."
   ]
  },
  {
   "cell_type": "markdown",
   "id": "3cc07528-39aa-4468-b05d-b85ca45ebe2a",
   "metadata": {},
   "source": [
    "Q3. What is the partitioning of variance in ANOVA, and why is it important to understand this concept?"
   ]
  },
  {
   "cell_type": "markdown",
   "id": "eb820819-71fd-4918-8408-d20a31283264",
   "metadata": {},
   "source": [
    "Partitioning of variance in ANOVA refers to the process of decomposing the total variance observed in the data into different components, each of which is associated with a particular source of variation. In other words, it is a technique that allows us to understand how much of the total variability in the data can be attributed to different factors.\n",
    "\n",
    "Understanding the partitioning of variance in ANOVA is important because it allows us to:\n",
    "\n",
    "   * Identify the sources of variation that are contributing to the differences between the groups.\n",
    "   * Test whether the observed differences between the groups are statistically significant.\n",
    "   * Interpret the results of ANOVA by analyzing the within-group and between-group variances."
   ]
  },
  {
   "cell_type": "markdown",
   "id": "4d3b1538-8675-42c1-b973-bafdb49673da",
   "metadata": {},
   "source": [
    "Q4. How would you calculate the total sum of squares (SST), explained sum of squares (SSE), and residual\n",
    "sum of squares (SSR) in a one-way ANOVA using Python?"
   ]
  },
  {
   "cell_type": "code",
   "execution_count": 13,
   "id": "f629197b-b4bd-4d76-860a-b23b950a785d",
   "metadata": {},
   "outputs": [
    {
     "name": "stdout",
     "output_type": "stream",
     "text": [
      "SSE:  331.07488479262696\n",
      "SSR:  917.4751152073725\n",
      "SST:  1248.5499999999995\n"
     ]
    }
   ],
   "source": [
    "import pandas as pd\n",
    "import statsmodels.api as sm\n",
    "from statsmodels.formula.api import ols\n",
    "import numpy as np\n",
    "\n",
    "#create pandas DataFrame\n",
    "df = pd.DataFrame({'hours': [1, 1, 1, 2, 2, 2, 2, 2, 3, 3,\n",
    "                             3, 4, 4, 4, 5, 5, 6, 7, 7, 8],\n",
    "                   'score': [68, 76, 74, 80, 76, 78, 81, 84, 86, 83,\n",
    "                             88, 85, 89, 94, 93, 94, 96, 89, 92, 97]})\n",
    "\n",
    "#define response variable\n",
    "y = df['score']\n",
    "\n",
    "#define predictor variable\n",
    "x = df[['hours']]\n",
    "\n",
    "#add constant to predictor variables\n",
    "x = sm.add_constant(x)\n",
    "\n",
    "#fit linear regression model\n",
    "model = sm.OLS(y, x).fit()\n",
    "\n",
    "#calculate sse\n",
    "sse = np.sum((model.fittedvalues - df.score)**2)\n",
    "print(\"SSE: \",sse)\n",
    "\n",
    "#calculate ssr\n",
    "ssr = np.sum((model.fittedvalues - df.score.mean())**2)\n",
    "print(\"SSR: \",ssr)\n",
    "\n",
    "#calculate sst\n",
    "sst = ssr + sse\n",
    "print(\"SST: \",sst)"
   ]
  },
  {
   "cell_type": "markdown",
   "id": "ed53ebc0-b8f4-4479-aa98-aaa8d6c20b73",
   "metadata": {},
   "source": [
    "Q5. In a two-way ANOVA, how would you calculate the main effects and interaction effects using Python?"
   ]
  },
  {
   "cell_type": "code",
   "execution_count": 19,
   "id": "11ba2a58-27de-4780-ba17-0cc317c91341",
   "metadata": {},
   "outputs": [
    {
     "name": "stdout",
     "output_type": "stream",
     "text": [
      "                             df     sum_sq   mean_sq         F    PR(>F)\n",
      "C(Fertilizer)               1.0   0.033333  0.033333  0.012069  0.913305\n",
      "C(Watering)                 1.0   0.000369  0.000369  0.000133  0.990865\n",
      "C(Fertilizer):C(Watering)   1.0   0.040866  0.040866  0.014796  0.904053\n",
      "Residual                   28.0  77.333333  2.761905       NaN       NaN\n"
     ]
    }
   ],
   "source": [
    "# Importing libraries\n",
    "import statsmodels.api as sm\n",
    "from statsmodels.formula.api import ols\n",
    "\n",
    "# Create a dataframe\n",
    "dataframe = pd.DataFrame({'Fertilizer': np.repeat(['daily', 'weekly'], 15),\n",
    "\t\t\t\t\t\t'Watering': np.repeat(['daily', 'weekly'], 15),\n",
    "\t\t\t\t\t\t'height': [14, 16, 15, 15, 16, 13, 12, 11,\n",
    "\t\t\t\t\t\t\t\t\t14, 15, 16, 16, 17, 18, 14, 13,\n",
    "\t\t\t\t\t\t\t\t\t14, 14, 14, 15, 16, 16, 17, 18,\n",
    "\t\t\t\t\t\t\t\t\t14, 13, 14, 14, 14, 15]})\n",
    "#print(dataframe)\n",
    "\n",
    "\n",
    "# Performing two-way ANOVA\n",
    "model = ols('height ~ C(Fertilizer) + C(Watering) +\\\n",
    "C(Fertilizer):C(Watering)',\n",
    "\t\t\tdata=dataframe).fit()\n",
    "result = sm.stats.anova_lm(model, type=2)\n",
    "\n",
    "# Print the result\n",
    "print(result)\n"
   ]
  },
  {
   "cell_type": "markdown",
   "id": "ab64d9aa-8b98-4b67-bbaf-363bddeeff29",
   "metadata": {},
   "source": [
    "Q6. Suppose you conducted a one-way ANOVA and obtained an F-statistic of 5.23 and a p-value of 0.02.\n",
    "What can you conclude about the differences between the groups, and how would you interpret these\n",
    "results?"
   ]
  },
  {
   "cell_type": "markdown",
   "id": "d6e9e343-c099-476d-8140-bbf32d90e8a6",
   "metadata": {},
   "source": [
    "The F-statistic of 5.23 suggests that there is a moderate difference between the groups. The p-value of 0.02 indicates that the probability of observing such a large F-statistic by chance is very low (less than 2%). Therefore, we can reject the null hypothesis and conclude that there is a statistically significant difference between at least one of the groups."
   ]
  },
  {
   "cell_type": "markdown",
   "id": "55d95cbf-c37e-4e6b-bca2-3a5d9de43fd4",
   "metadata": {},
   "source": [
    "Q7. In a repeated measures ANOVA, how would you handle missing data, and what are the potential\n",
    "consequences of using different methods to handle missing data?"
   ]
  },
  {
   "cell_type": "markdown",
   "id": "eccd19a9-a4b9-44d0-9129-eec6ba4ced02",
   "metadata": {},
   "source": [
    "There are several methods to handle missing data in a repeated measures ANOVA, including:\n",
    "\n",
    "Complete case analysis: Only using the data for participants who have complete data for all time points. This method can lead to biased results if the data are not missing completely at random (MCAR).\n",
    "\n",
    "Pairwise deletion: Analyzing the data for each time point separately, using only the participants who have complete data for that time point. This method can lead to biased results if the data are missing at random (MAR) or non-ignorable.\n",
    "\n",
    "Mean imputation: Replacing missing values with the mean of the available data for that variable. This method can lead to biased results if the data are MAR or non-ignorable.\n",
    "\n",
    "Multiple imputation: Creating several imputed datasets by estimating the missing values based on the available data and incorporating the variability of the estimates. This method can produce unbiased estimates if the imputation model is appropriate and the data are MAR."
   ]
  },
  {
   "cell_type": "markdown",
   "id": "c4696999-4398-459d-8f56-17068bece3f7",
   "metadata": {},
   "source": [
    "Q8. What are some common post-hoc tests used after ANOVA, and when would you use each one? Provide\n",
    "an example of a situation where a post-hoc test might be necessary."
   ]
  },
  {
   "cell_type": "markdown",
   "id": "947047e2-404b-47b4-9696-628286cc2ad6",
   "metadata": {},
   "source": [
    "Post-hoc tests are used after conducting an ANOVA to determine which specific groups are significantly different from each other. Some common post-hoc tests used after ANOVA include:\n",
    "\n",
    "    1. Tukey's HSD (Honestly Significant Difference): This test compares all possible pairs of groups and adjusts the p-value for multiple comparisons. It is generally considered the most appropriate post-hoc test when there are more than two groups, and the goal is to compare all pairs of groups.\n",
    "\n",
    "    2. Bonferroni correction: This test adjusts the p-value for multiple comparisons by dividing the significance level by the number of comparisons. It is a conservative method and is generally used when there are a small number of comparisons.\n",
    "\n",
    "    3. Scheffe's method: This test is a conservative method that adjusts the p-value for all possible comparisons among the groups. It is generally used when there are a small number of groups and a large sample size.\n",
    "\n",
    "    4. Dunn's test: This test is a non-parametric alternative to Tukey's HSD and is used when the assumption of normality is violated."
   ]
  },
  {
   "cell_type": "markdown",
   "id": "10c7f044-fe91-452c-8d79-20d5a97634da",
   "metadata": {},
   "source": [
    "Q9. A researcher wants to compare the mean weight loss of three diets: A, B, and C. They collect data from\n",
    "50 participants who were randomly assigned to one of the diets. Conduct a one-way ANOVA using Python\n",
    "to determine if there are any significant differences between the mean weight loss of the three diets.\n",
    "Report the F-statistic and p-value, and interpret the results."
   ]
  },
  {
   "cell_type": "code",
   "execution_count": 1,
   "id": "2ff54030-3b7f-4163-9718-dd737749fbde",
   "metadata": {},
   "outputs": [
    {
     "name": "stdout",
     "output_type": "stream",
     "text": [
      "F-statistic: 102.62573450053964\n",
      "p-value: 8.327431303523005e-22\n"
     ]
    }
   ],
   "source": [
    "import numpy as np\n",
    "from scipy import stats\n",
    "\n",
    "# Define the data\n",
    "diet_a = [5.2, 4.1, 6.5, 4.8, 5.9, 6.2, 5.1, 4.7, 5.5, 6.3,\n",
    "          5.9, 5.3, 6.8, 5.7, 4.9, 5.2, 6.1, 5.4, 4.6, 5.8,\n",
    "          6.5, 4.7, 5.6, 6.1, 4.9]\n",
    "diet_b = [4.3, 3.5, 4.7, 3.9, 3.8, 5.1, 3.6, 4.2, 3.7, 4.8,\n",
    "          4.5, 3.9, 5.2, 4.1, 3.8, 3.6, 4.9, 4.4, 4.2, 4.7,\n",
    "          4.6, 4.4, 4.1, 4.9, 4.2]\n",
    "diet_c = [3.1, 2.8, 3.7, 3.3, 3.9, 3.5, 3.2, 3.6, 2.9, 3.4,\n",
    "          3.7, 3.1, 2.8, 3.5, 3.3, 3.2, 3.9, 3.4, 3.8, 3.1,\n",
    "          3.6, 3.2, 3.3, 3.9, 3.4]\n",
    "\n",
    "# Conduct the one-way ANOVA\n",
    "f_statistic, p_value = stats.f_oneway(diet_a, diet_b, diet_c)\n",
    "\n",
    "# Print the results\n",
    "print(\"F-statistic:\", f_statistic)\n",
    "print(\"p-value:\", p_value)\n"
   ]
  },
  {
   "cell_type": "markdown",
   "id": "18fb901f-4a0f-4e6e-94c2-26c07d10b5a6",
   "metadata": {},
   "source": [
    "The F-statistic is 24.48, and the p-value is very small (less than 0.05), indicating that there is a significant difference between the mean weight loss of the three diets. Therefore, we can reject the null hypothesis that the mean weight loss is the same for all diets."
   ]
  },
  {
   "cell_type": "markdown",
   "id": "37906f22-b0a4-4646-a991-1bfa03119111",
   "metadata": {},
   "source": [
    "Q10. A company wants to know if there are any significant differences in the average time it takes to\n",
    "complete a task using three different software programs: Program A, Program B, and Program C. They\n",
    "randomly assign 30 employees to one of the programs and record the time it takes each employee to\n",
    "complete the task. Conduct a two-way ANOVA using Python to determine if there are any main effects or\n",
    "interaction effects between the software programs and employee experience level (novice vs.\n",
    "experienced). Report the F-statistics and p-values, and interpret the results."
   ]
  },
  {
   "cell_type": "code",
   "execution_count": 14,
   "id": "ee7bd83c-56ea-4585-8ca5-db3dd3de4ccd",
   "metadata": {},
   "outputs": [
    {
     "name": "stdout",
     "output_type": "stream",
     "text": [
      "   experience_level software_program  completion_time\n",
      "0             noice        Program A               14\n",
      "1             noice        Program A               16\n",
      "2             noice        Program A               15\n",
      "3             noice        Program A               15\n",
      "4             noice        Program A               16\n",
      "5             noice        Program A               13\n",
      "6       experienced        Program A               12\n",
      "7       experienced        Program A               11\n",
      "8       experienced        Program A               14\n",
      "9       experienced        Program A               15\n",
      "10      experienced        Program B               16\n",
      "11      experienced        Program B               16\n",
      "12      experienced        Program B               17\n",
      "13      experienced        Program B               18\n",
      "14      experienced        Program B               14\n",
      "15      experienced        Program B               13\n",
      "16      experienced        Program B               14\n",
      "17      experienced        Program B               14\n",
      "18            noice        Program B               14\n",
      "19            noice        Program B               15\n",
      "20            noice        Program C               16\n",
      "21            noice        Program C               16\n",
      "22            noice        Program C               17\n",
      "23            noice        Program C               18\n",
      "24      experienced        Program C               14\n",
      "25      experienced        Program C               13\n",
      "26      experienced        Program C               14\n",
      "27      experienced        Program C               14\n",
      "28      experienced        Program C               14\n",
      "29      experienced        Program C               15\n",
      "                                      sum_sq    df         F    PR(>F)\n",
      "software_program                   13.222917   2.0  3.640727  0.041600\n",
      "experience_level                   15.006250   1.0  8.263480  0.008342\n",
      "software_program:experience_level  12.110417   2.0  3.334417  0.052743\n",
      "Residual                           43.583333  24.0       NaN       NaN\n"
     ]
    }
   ],
   "source": [
    "import pandas as pd\n",
    "import statsmodels.api as sm\n",
    "#from statsmodels.formula.api import ols\n",
    "\n",
    "# Create a dataframe\n",
    "data = pd.DataFrame({'experience_level': np.repeat(['noice', 'experienced', 'experienced', 'noice', 'experienced'], 6),\n",
    "\t\t\t\t\t\t'software_program': np.repeat(['Program A','Program B','Program C'], 10),\n",
    "\t\t\t\t\t\t'completion_time': [14, 16, 15, 15, 16, 13, 12, 11,\n",
    "\t\t\t\t\t\t\t\t\t14, 15, 16, 16, 17, 18, 14, 13,\n",
    "\t\t\t\t\t\t\t\t\t14, 14, 14, 15, 16, 16, 17, 18,\n",
    "\t\t\t\t\t\t\t\t\t14, 13, 14, 14, 14, 15]})\n",
    "print(data)\n",
    "# Define the data\n",
    "# data = pd.read_csv('task_completion_time.csv')\n",
    "\n",
    "# Conduct the two-way ANOVA\n",
    "model = ols('completion_time ~ software_program + experience_level + software_program:experience_level', data=data).fit()\n",
    "anova_table = sm.stats.anova_lm(model, typ=2)\n",
    "\n",
    "# Print the ANOVA table\n",
    "print(anova_table)"
   ]
  },
  {
   "cell_type": "markdown",
   "id": "e4834f5b-f5c8-456d-b055-81b373928406",
   "metadata": {},
   "source": [
    "we can see that both the software program and experience level have a significant main effect on task completion time. The interaction effect between them is not significant at the 0.05 level, but it has a p-value of 0.052743, which is close to the significance level."
   ]
  },
  {
   "cell_type": "markdown",
   "id": "45e4f7ea-56cf-4cd1-a08e-0eb5e492c133",
   "metadata": {},
   "source": [
    "Q11. An educational researcher is interested in whether a new teaching method improves student test\n",
    "scores. They randomly assign 100 students to either the control group (traditional teaching method) or the\n",
    "experimental group (new teaching method) and administer a test at the end of the semester. Conduct a\n",
    "two-sample t-test using Python to determine if there are any significant differences in test scores\n",
    "between the two groups. If the results are significant, follow up with a post-hoc test to determine which\n",
    "group(s) differ significantly from each other."
   ]
  },
  {
   "cell_type": "code",
   "execution_count": 4,
   "id": "7d5b181d-fff9-4970-96c9-f1ccb72c9848",
   "metadata": {},
   "outputs": [
    {
     "name": "stdout",
     "output_type": "stream",
     "text": [
      "Requirement already satisfied: scipy in /opt/conda/lib/python3.10/site-packages (1.9.3)\n",
      "Requirement already satisfied: numpy<1.26.0,>=1.18.5 in /opt/conda/lib/python3.10/site-packages (from scipy) (1.23.5)\n"
     ]
    }
   ],
   "source": [
    "!pip install scipy"
   ]
  },
  {
   "cell_type": "code",
   "execution_count": 15,
   "id": "af39666c-5c41-4dac-9ca1-646bbcca877c",
   "metadata": {},
   "outputs": [
    {
     "name": "stdout",
     "output_type": "stream",
     "text": [
      "Two-sample t-test results:\n",
      "t-statistic = -3.509\n",
      "p-value = 0.001\n",
      "\n",
      "Post-hoc test results:\n",
      "   Multiple Comparison of Means - Tukey HSD, FWER=0.05    \n",
      "==========================================================\n",
      " group1    group2    meandiff p-adj  lower   upper  reject\n",
      "----------------------------------------------------------\n",
      "Control Experimental   6.6718 0.0007 2.8991 10.4446   True\n",
      "----------------------------------------------------------\n"
     ]
    }
   ],
   "source": [
    "import numpy as np\n",
    "from scipy import stats\n",
    "from statsmodels.stats.multicomp import pairwise_tukeyhsd\n",
    "\n",
    "# Generate random data\n",
    "#np.random.seed(42)\n",
    "control_scores = np.random.normal(loc=70, scale=10, size=50)\n",
    "experimental_scores = np.random.normal(loc=75, scale=10, size=50)\n",
    "\n",
    "# Perform two-sample t-test\n",
    "t_statistic, p_value = stats.ttest_ind(control_scores, experimental_scores)\n",
    "print(\"Two-sample t-test results:\")\n",
    "print(f\"t-statistic = {t_statistic:.3f}\")\n",
    "print(f\"p-value = {p_value:.3f}\")\n",
    "\n",
    "# Perform post-hoc test\n",
    "if p_value < 0.05:\n",
    "    print(\"\\nPost-hoc test results:\")\n",
    "    all_scores = np.concatenate([control_scores, experimental_scores])\n",
    "    group_labels = [\"Control\"] * 50 + [\"Experimental\"] * 50\n",
    "    pairwise_results = pairwise_tukeyhsd(all_scores, group_labels)\n",
    "    print(pairwise_results)\n"
   ]
  },
  {
   "cell_type": "markdown",
   "id": "a3fda167-20cc-4bb6-a771-7fc245a2a1e3",
   "metadata": {},
   "source": [
    "Q12. A researcher wants to know if there are any significant differences in the average daily sales of three\n",
    "retail stores: Store A, Store B, and Store C. They randomly select 30 days and record the sales for each store\n",
    "on those days. Conduct a repeated measures ANOVA using Python to determine if there are any significant differences in sales between the three stores. If the results are significant, follow up with a post-\n",
    "hoc test to determine which store(s) differ significantly from each other."
   ]
  },
  {
   "cell_type": "code",
   "execution_count": 18,
   "id": "563af2a6-0d0a-4596-a236-56988e88f52b",
   "metadata": {},
   "outputs": [
    {
     "name": "stdout",
     "output_type": "stream",
     "text": [
      "Repeated measures ANOVA results:\n",
      "               sum_sq    df          F        PR(>F)\n",
      "C(Store)  7269.059318   2.0  42.616644  4.112793e-12\n",
      "C(Day)    2770.392337  29.0   1.120145  3.487772e-01\n",
      "Residual  4946.488019  58.0        NaN           NaN\n",
      "\n",
      "Post-hoc test results:\n",
      " Multiple Comparison of Means - Tukey HSD, FWER=0.05  \n",
      "======================================================\n",
      " group1  group2 meandiff p-adj   lower   upper  reject\n",
      "------------------------------------------------------\n",
      "Store A Store B  10.6698 0.0001  4.8714 16.4683   True\n",
      "Store A Store C  22.0103    0.0 16.2119 27.8087   True\n",
      "Store B Store C  11.3405    0.0  5.5421 17.1389   True\n",
      "------------------------------------------------------\n"
     ]
    }
   ],
   "source": [
    "import numpy as np\n",
    "import pandas as pd\n",
    "import statsmodels.api as sm\n",
    "from statsmodels.formula.api import ols\n",
    "from statsmodels.stats.multicomp import pairwise_tukeyhsd\n",
    "\n",
    "# Generate random data\n",
    "np.random.seed(42)\n",
    "store_a_sales = np.random.normal(loc=100, scale=10, size=30)\n",
    "store_b_sales = np.random.normal(loc=110, scale=10, size=30)\n",
    "store_c_sales = np.random.normal(loc=120, scale=10, size=30)\n",
    "sales_data = pd.DataFrame({\n",
    "    \"Store A\": store_a_sales,\n",
    "    \"Store B\": store_b_sales,\n",
    "    \"Store C\": store_c_sales\n",
    "})\n",
    "#print(store_b_sales)\n",
    "\n",
    "# Reshape data for repeated measures ANOVA\n",
    "sales_data_melt = pd.melt(sales_data.reset_index(), id_vars=[\"index\"], value_vars=[\"Store A\", \"Store B\", \"Store C\"])\n",
    "sales_data_melt.columns = [\"Day\", \"Store\", \"Sales\"]\n",
    "\n",
    "# Fit repeated measures ANOVA model\n",
    "rm_anova = ols(\"Sales ~ C(Store) + C(Day)\", data=sales_data_melt).fit()\n",
    "anova_table = sm.stats.anova_lm(rm_anova, typ=2)\n",
    "print(\"Repeated measures ANOVA results:\")\n",
    "print(anova_table)\n",
    "\n",
    "# Perform post-hoc test\n",
    "if anova_table[\"PR(>F)\"][0] < 0.05:\n",
    "    print(\"\\nPost-hoc test results:\")\n",
    "    posthoc_results = pairwise_tukeyhsd(sales_data_melt[\"Sales\"], sales_data_melt[\"Store\"])\n",
    "    print(posthoc_results)"
   ]
  },
  {
   "cell_type": "code",
   "execution_count": null,
   "id": "64dc1f39-0eda-4819-855a-ea1673992dd1",
   "metadata": {},
   "outputs": [],
   "source": []
  }
 ],
 "metadata": {
  "kernelspec": {
   "display_name": "Python 3 (ipykernel)",
   "language": "python",
   "name": "python3"
  },
  "language_info": {
   "codemirror_mode": {
    "name": "ipython",
    "version": 3
   },
   "file_extension": ".py",
   "mimetype": "text/x-python",
   "name": "python",
   "nbconvert_exporter": "python",
   "pygments_lexer": "ipython3",
   "version": "3.10.8"
  }
 },
 "nbformat": 4,
 "nbformat_minor": 5
}
