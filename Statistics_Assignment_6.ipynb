{
 "cells": [
  {
   "cell_type": "markdown",
   "id": "e1f829d8-fd51-4788-8acd-315b5ad807df",
   "metadata": {},
   "source": [
    "Q1: What is the difference between a t-test and a z-test? Provide an example scenario where you would\n",
    "use each type of test."
   ]
  },
  {
   "cell_type": "markdown",
   "id": "b5b4094d-f36a-4839-9824-e934aa21af5d",
   "metadata": {},
   "source": [
    "T-test should apply in these conditions -\n",
    "\n",
    "    * T-test refers to a type of parametric test that is applied to identify, how the means of two sets of data differ from one another when variance is not given.\n",
    "    * When population variance is unknown.\n",
    "    * When sample size is small.\n",
    "    \n",
    "Example - A store wants to improve its sales. The previous sales data shows that the average sale of 30 salesmen was 40 USD per sale. After some training, the current data showed an average sale of 60 USD per transaction. If the standard deviation given is 20 USD. Did training improve the sales? - For this we'll use T-test.\n",
    "    \n",
    "Z-test should apply in these conditions -\n",
    "\n",
    "    * Z-test implies a hypothesis test which ascertains if the means of two datasets are different from each other when variance is given.\n",
    "    * When population variance is known.\n",
    "    * When sample size is large.\n",
    "    \n",
    "Example - The mean score of students in a class is greater than 70 with a standard deviation of 10. If a sample of 50 students was selected with a mean score of 80, calculate if there is enough evidence to support this claim at a 0.05 significance level.\n"
   ]
  },
  {
   "cell_type": "markdown",
   "id": "bb9dc1a1-1bc9-483d-bd73-99e06ad6cf16",
   "metadata": {},
   "source": [
    "Q2: Differentiate between one-tailed and two-tailed tests."
   ]
  },
  {
   "cell_type": "markdown",
   "id": "30472a86-1441-4230-9263-eada1b23d3af",
   "metadata": {},
   "source": [
    "The main difference between one-tailed and two-tailed tests is that one-tailed tests will only have one critical region whereas two-tailed tests will have two critical regions."
   ]
  },
  {
   "cell_type": "markdown",
   "id": "3675d6ed-43fa-44b0-8de6-bc36e9d9e1ef",
   "metadata": {},
   "source": [
    "Q3: Explain the concept of Type 1 and Type 2 errors in hypothesis testing. Provide an example scenario for\n",
    "each type of error."
   ]
  },
  {
   "cell_type": "markdown",
   "id": "1f929f7d-f213-4bd1-b4fb-31875d0924a3",
   "metadata": {},
   "source": [
    "When null hypothesis is right, but we reject the null hypothesis. Then this kind of error is called Type 1 error.\n",
    "\n",
    "When null hypothesis is wrong, but we accept the null hypothesis. Then this kind of error is called Type 2 error.\n",
    "\n",
    "Example - We decide to get tested for COVID-19 based on mild symptoms. There are two errors that could potentially occur:\n",
    "\n",
    "    Type I error (false positive): the test result says you have coronavirus, but you actually don’t.\n",
    "    Type II error (false negative): the test result says you don’t have coronavirus, but you actually do."
   ]
  },
  {
   "cell_type": "markdown",
   "id": "dba29d3c-f29d-47df-86a7-4c4ccd33d135",
   "metadata": {},
   "source": [
    "Q4: Explain Bayes's theorem with an example."
   ]
  },
  {
   "cell_type": "markdown",
   "id": "d1d4779d-5249-4249-9760-bf8e5afdcfea",
   "metadata": {},
   "source": [
    "Bayes theorem gives the probability of an “event” with the given information on “tests”. \n",
    "\n",
    "Example - \n",
    "\n",
    "A bag I contains 4 white and 6 black balls while another Bag II contains 4 white and 3 black balls. One ball is drawn at random from one of the bags, and it is found to be black. Find the probability that it was drawn from Bag I.\n",
    "\n",
    "Let E1 be the event of choosing bag I, E2 the event of choosing bag II, and A be the event of drawing a black ball.\n",
    "\n",
    "Then, P(E1) = P(E2) = 1/2\n",
    "Also, P(A|E1) = P(drawing a black ball from Bag I) = 6/10 = 3/5\n",
    "\n",
    "P(A|E2) = P(drawing a black ball from Bag II) = 3/7\n",
    "\n",
    "By using Bayes’ theorem, the probability of drawing a black ball from bag I out of two bags,\n",
    "P(E1|A) = (P(E1)*P(A|E1))/(P(A)) = (P(E1)*P(A|E1))/(P(E1)*P(A|E1)+P(E2)*P(A|E2)) = 7/12"
   ]
  },
  {
   "cell_type": "markdown",
   "id": "507026cb-13b8-4289-91bd-ab27727fb077",
   "metadata": {},
   "source": [
    "Q5: What is a confidence interval? How to calculate the confidence interval, explain with an example."
   ]
  },
  {
   "cell_type": "markdown",
   "id": "8748461f-0490-4f2d-9965-ee436122b700",
   "metadata": {},
   "source": [
    "The confidence interval is the range of values that you expect your estimate to fall between a certain percentage of the time if you run your experiment again or re-sample the population in the same way.\n",
    "\n",
    "Example - On the verbal section of CAT Exam, the standard deviation is known to be 100. A sample of test takers has a mean of 520. Construct a 95% C.I about the mean.\n",
    "\n",
    "x̄ = 520 , σ = 100 , n = 25 , C.I = 0.95\n",
    "\n",
    "CI = x̄ ± z * (σ/√n)\n",
    "\n",
    "where x̄ is the sample mean, σ is the sample standard deviation, n is the sample size, and z is the z-value for the desired level of confidence.\n",
    "\n",
    "Here z is 1.96\n",
    "\n",
    "C.I = 520 ± (1.96)*(100*sqrt(25))\n",
    "    = 520 ± 39.2\n",
    "    \n",
    "The mean CAT score lies between 480.8 and 559.2"
   ]
  },
  {
   "cell_type": "markdown",
   "id": "f8a5a73b-fe6e-4061-ab0a-03155f484764",
   "metadata": {},
   "source": [
    "Q6. Use Bayes' Theorem to calculate the probability of an event occurring given prior knowledge of the\n",
    "event's probability and new evidence. Provide a sample problem and solution."
   ]
  },
  {
   "cell_type": "markdown",
   "id": "567e88a9-1c19-4862-b50d-6dbf454820f7",
   "metadata": {},
   "source": [
    "A bag I contains 4 white and 6 black balls while another Bag II contains 4 white and 3 black balls. One ball is drawn at random from one of the bags, and it is found to be black. Find the probability that it was drawn from Bag I.\n",
    "\n",
    "Let E1 be the event of choosing bag I, E2 the event of choosing bag II, and A be the event of drawing a black ball.\n",
    "\n",
    "Then, P(E1) = P(E2) = 1/2\n",
    "Also, P(A|E1) = P(drawing a black ball from Bag I) = 6/10 = 3/5\n",
    "\n",
    "P(A|E2) = P(drawing a black ball from Bag II) = 3/7\n",
    "\n",
    "By using Bayes’ theorem, the probability of drawing a black ball from bag I out of two bags,\n",
    "P(E1|A) = (P(E1)*P(A|E1))/(P(A)) = (P(E1)*P(A|E1))/(P(E1)*P(A|E1)+P(E2)*P(A|E2)) = 7/12"
   ]
  },
  {
   "cell_type": "markdown",
   "id": "7849e6d1-0491-49ec-a4b7-728ff5e2ed51",
   "metadata": {},
   "source": [
    "Q7. Calculate the 95% confidence interval for a sample of data with a mean of 50 and a standard deviation\n",
    "of 5. Interpret the results."
   ]
  },
  {
   "cell_type": "markdown",
   "id": "d8ddce32-5762-44d4-a37f-2e2b87223be0",
   "metadata": {},
   "source": [
    "Confidence Interval = sample mean ± (critical value) x (standard error)\n",
    "\n",
    "the standard error is calculated as:\n",
    "\n",
    "Standard Error = standard deviation / √(sample size)\n",
    "\n",
    "Assuming a sample size of 30 (which is often considered the minimum sample size for using the t-distribution), and a level of confidence of 95%, we can find the critical value from the t-distribution table with 29 degrees of freedom (sample size - 1). The critical value is 2.045.\n",
    "\n",
    "The standard error can be calculated as:\n",
    "\n",
    "Standard Error = 5 / √30 ≈ 0.9129\n",
    "\n",
    "Therefore, the 95% confidence interval can be calculated as:\n",
    "\n",
    "Confidence Interval = 50 ± 2.045 x 0.9129 ≈ (48.24, 51.76)\n",
    "\n",
    "So we can say with 95% confidence that the population mean is between 48.24 and 51.76, based on the given sample data."
   ]
  },
  {
   "cell_type": "markdown",
   "id": "d8bcb081-770d-474a-832a-dce379455d03",
   "metadata": {},
   "source": [
    "Q8. What is the margin of error in a confidence interval? How does sample size affect the margin of error?\n",
    "Provide an example of a scenario where a larger sample size would result in a smaller margin of error."
   ]
  },
  {
   "cell_type": "markdown",
   "id": "d981af31-5100-4a87-8085-87dfa50fb24a",
   "metadata": {},
   "source": [
    "A margin of error tells you how many percentage points your results will differ from the real population value.\n",
    "\n",
    "Sample size has a direct impact on the margin of error. As the sample size increases, the margin of error decreases. This is because a larger sample size provides more information about the population and reduces the variability in the sample mean.\n",
    "\n",
    "For example, suppose we want to estimate the proportion of people who prefer coffee over tea in a city. We randomly select 100 people and find that 60 of them prefer coffee. Using this sample data, we can calculate a point estimate of the population proportion, which is 0.6 (60/100).\n",
    "\n",
    "If we want to calculate a 95% confidence interval for the population proportion, we can use the formula:\n",
    "\n",
    "Confidence Interval = point estimate ± (critical value) x (standard error)\n",
    "\n",
    "where the standard error is calculated as:\n",
    "\n",
    "Standard Error = √(p(1-p)/n)\n",
    "\n",
    "where p is the point estimate and n is the sample size.\n",
    "\n",
    "Suppose we use a critical value of 1.96 for a 95% confidence interval. If we plug in the values from our sample, we get:\n",
    "\n",
    "Standard Error = √(0.6(1-0.6)/100) ≈ 0.049\n",
    "\n",
    "Confidence Interval = 0.6 ± 1.96 x 0.049 ≈ (0.504, 0.696)\n",
    "\n",
    "This means that we can say with 95% confidence that the true proportion of people who prefer coffee over tea in the city is between 0.504 and 0.696.\n",
    "\n",
    "Now suppose we increase the sample size to 400. We repeat the survey and find that 240 people prefer coffee. Using the same formula, we can calculate the 95% confidence interval:\n",
    "\n",
    "Standard Error = √(0.6(1-0.6)/400) ≈ 0.0245\n",
    "\n",
    "Confidence Interval = 0.6 ± 1.96 x 0.0245 ≈ (0.552, 0.648)\n",
    "\n",
    "We can see that the margin of error has decreased from 0.096 in the first example to 0.048 in the second example. This is because the larger sample size provides more information about the population and reduces the variability in the sample mean.\n",
    "\n",
    "In conclusion, a larger sample size can result in a smaller margin of error, as it provides more information about the population and reduces the variability in the sample mean."
   ]
  },
  {
   "cell_type": "markdown",
   "id": "75d603ba-aac3-40b1-8a7c-09b9dfd75dd6",
   "metadata": {},
   "source": [
    "Q9. Calculate the z-score for a data point with a value of 75, a population mean of 70, and a population\n",
    "standard deviation of 5. Interpret the results."
   ]
  },
  {
   "cell_type": "markdown",
   "id": "53d6a809-4a69-4947-825c-2bb945f66fc2",
   "metadata": {},
   "source": [
    "calculate the z-score using the formula:\n",
    "\n",
    "z = (x - μ) / σ\n",
    "\n",
    "Where x is the data point, μ is the population mean, and σ is the population standard deviation.\n",
    "\n",
    "z = (75-70)/5 = 1"
   ]
  },
  {
   "cell_type": "markdown",
   "id": "96c325d6-276c-43a1-8507-95c4b24246fe",
   "metadata": {},
   "source": [
    "Q10. In a study of the effectiveness of a new weight loss drug, a sample of 50 participants lost an average\n",
    "of 6 pounds with a standard deviation of 2.5 pounds. Conduct a hypothesis test to determine if the drug is\n",
    "significantly effective at a 95% confidence level using a t-test."
   ]
  },
  {
   "cell_type": "markdown",
   "id": "64c3eb07-2fbf-48d3-94f3-97a6803caf21",
   "metadata": {},
   "source": [
    "Null hypothesis (H0): The mean weight loss in the population is less than or equal to 0 (µ ≤ 0).\n",
    "Alternative hypothesis (Ha): The mean weight loss in the population is greater than 0 (µ > 0).\n",
    "\n",
    "Level of significance: α = 0.05\n",
    "\n",
    "Sample size: n = 50\n",
    "Sample mean: x̄ = 6\n",
    "Sample standard deviation: s = 2.5\n",
    "\n",
    "Since the population standard deviation is unknown and the sample size is less than 30, we will use a t-test for a single sample mean.\n",
    "\n",
    "The test statistic for the t-test is calculated as:\n",
    "\n",
    "t = (x̄ - µ) / (s / √n)\n",
    "\n",
    "where x̄ is the sample mean, µ is the hypothesized population mean under the null hypothesis, s is the sample standard deviation, and n is the sample size.\n",
    "\n",
    "t = (6 - 0) / (2.5 / √50) ≈ 19.1\n",
    "\n",
    "Using a t-distribution table with degrees of freedom (df) = n - 1 = 49 and a level of significance of 0.05, we find the critical value to be 1.676.\n",
    "\n",
    "The p-value for this test can be calculated using a t-distribution table. Since the calculated t-value is much larger than the critical t-value, the p-value will be very small (less than 0.0001).\n",
    "\n",
    "Since the calculated t-value of 19.1 is greater than the critical value of 1.676, and the p-value is very small, we reject the null hypothesis and conclude that the weight loss drug is significantly effective at a 95% confidence level.\n",
    "\n",
    "In other words, we can say with 95% confidence that the true mean weight loss for the population is greater than 0 pounds, and the weight loss drug is effective."
   ]
  },
  {
   "cell_type": "markdown",
   "id": "fde16151-c428-4efd-b6e2-59f937e48149",
   "metadata": {},
   "source": [
    "Q11. In a survey of 500 people, 65% reported being satisfied with their current job. Calculate the 95%\n",
    "confidence interval for the true proportion of people who are satisfied with their job."
   ]
  },
  {
   "cell_type": "markdown",
   "id": "fe096dbc-7619-44fa-a605-7e1fa08c04b5",
   "metadata": {},
   "source": [
    "CI = p ± z*(√(p*(1-p)/n))\n",
    "\n",
    "where CI is the confidence interval, p is the sample proportion, z is the z-score corresponding to the desired confidence level, and n is the sample size.\n",
    "\n",
    "In this case, we have:\n",
    "\n",
    "p = 0.65 (sample proportion)\n",
    "n = 500 (sample size)\n",
    "z = 1.96 (z-score for a 95% confidence level)\n",
    "\n",
    "CI = 0.65 ± 1.96*(√(0.65*(1-0.65)/500))\n",
    "\n",
    "Simplifying the expression under the square root, we get:\n",
    "\n",
    "CI = 0.65 ± 1.96*(0.030)\n",
    "\n",
    "Calculating the values, we get:\n",
    "\n",
    "CI = (0.592, 0.708)\n",
    "\n",
    "Therefore, we can say with 95% confidence that the true proportion of people who are satisfied with their job is between 0.592 and 0.708."
   ]
  },
  {
   "cell_type": "markdown",
   "id": "cbb170a6-ed8c-4dc1-9a00-5a0a35f90126",
   "metadata": {},
   "source": [
    "Q12. A researcher is testing the effectiveness of two different teaching methods on student performance.\n",
    "Sample A has a mean score of 85 with a standard deviation of 6, while sample B has a mean score of 82\n",
    "with a standard deviation of 5. Conduct a hypothesis test to determine if the two teaching methods have a\n",
    "significant difference in student performance using a t-test with a significance level of 0.01."
   ]
  },
  {
   "cell_type": "markdown",
   "id": "1ef95c65-6296-4459-9037-174f6274d3de",
   "metadata": {},
   "source": [
    "The null hypothesis is that the mean score of the two teaching menthods are equal,\n",
    "\n",
    "The alternative hypothesis is that the mean score of the two teaching menthods are different.\n",
    "\n",
    "The test statistic for the two-sample t-test with equal variances is:\n",
    "\n",
    "t = (x̄1 - x̄2) / (sp * √[(1/n1) + (1/n2)])\n",
    "\n",
    "where x̄1 and x̄2 are the sample means, n1 and n2 are the sample sizes, and sp is the pooled standard deviation:\n",
    "\n",
    "sp = √[((n1-1)s1^2 + (n2-1)s2^2) / (n1+n2-2)]\n",
    "\n",
    "where s1 and s2 are the sample standard deviations for the two groups.\n",
    "\n",
    "Using the given values, we have:\n",
    "\n",
    "x̄1 = 85, s1 = 1\n",
    "\n",
    "x̄2 = 75, s2 = 8\n",
    "\n",
    "Since we don't have the sample sizes for each group, we cannot calculate the degrees of freedom for this t-test."
   ]
  },
  {
   "cell_type": "markdown",
   "id": "8a730afa-0c25-435a-9de8-7970f172d08a",
   "metadata": {},
   "source": [
    "Q13. A population has a mean of 60 and a standard deviation of 8. A sample of 50 observations has a mean\n",
    "of 65. Calculate the 90% confidence interval for the true population mean."
   ]
  },
  {
   "cell_type": "markdown",
   "id": "022c39e4-7788-4eb6-b01c-51e5ae4a5864",
   "metadata": {},
   "source": [
    "CI = x̄ ± z*(σ/√n)\n",
    "\n",
    "where x̄ is the sample mean, σ is the population standard deviation, n is the sample size, z is the z-score for the desired confidence level, and CI is the confidence interval.\n",
    "\n",
    "Population mean (µ) = 60\n",
    "Population standard deviation (σ) = 8\n",
    "Sample size (n) = 50\n",
    "Sample mean (x̄) = 65\n",
    "Confidence level = 90%\n",
    "\n",
    "The z-score for a 90% confidence level can be found using a standard normal distribution table and is approximately 1.645.\n",
    "\n",
    "we get:\n",
    "\n",
    "CI = 65 ± 1.645*(8/√50)\n",
    "CI = 65 ± 2.326\n",
    "CI = (62.674, 67.326)\n",
    "\n",
    "Therefore, we can say with 90% confidence that the true population mean falls between 62.674 and 67.326."
   ]
  },
  {
   "cell_type": "markdown",
   "id": "ff02c36f-e974-4499-a4f3-c6f01c40c529",
   "metadata": {},
   "source": [
    "Q14. In a study of the effects of caffeine on reaction time, a sample of 30 participants had an average\n",
    "reaction time of 0.25 seconds with a standard deviation of 0.05 seconds. Conduct a hypothesis test to\n",
    "determine if the caffeine has a significant effect on reaction time at a 90% confidence level using a t-test."
   ]
  },
  {
   "cell_type": "markdown",
   "id": "68de7c9b-2dcf-4e8b-87b1-d40aa0f4663e",
   "metadata": {},
   "source": [
    "Null hypothesis (H0): The caffeine has no significant effect on reaction time. The population mean reaction time is equal to 0.25 seconds.\n",
    "Alternative hypothesis (Ha): The caffeine has a significant effect on reaction time. The population mean reaction time is not equal to 0.25 seconds.\n",
    "\n",
    "Level of significance: α = 0.10\n",
    "\n",
    "Sample size: n = 30 Sample mean: x̄ = 0.25 Sample standard deviation: s = 0.05\n",
    "\n",
    "Since the population standard deviation is unknown and the sample size is less than 30, we will use a t-test for a single sample mean.\n",
    "\n",
    "The test statistic for the t-test is calculated as:\n",
    "\n",
    "t = (x̄ - µ) / (s / √n)\n",
    "\n",
    "where x̄ is the sample mean, µ is the hypothesized population mean under the null hypothesis, s is the sample standard deviation, and n is the sample size.\n",
    "\n",
    "t = (0.25 - 0) / (0.05 / √30) ≈ 27.38\n",
    "\n",
    "Using a t-distribution table with degrees of freedom (df) = n - 1 = 29 and a level of significance of 0.10, we find the critical value to be 1.699.\n",
    "\n",
    "The p-value for this test can be calculated using a t-distribution table. Since the calculated t-value is much larger than the critical t-value, the p-value will be very small.\n",
    "\n",
    "Since the calculated t-value of 27.38 is greater than the critical value of 1.699, and the p-value is very small, we reject the null hypothesis and conclude that the caffeine has a significant effect on reaction time.\n",
    "\n",
    "Therefore, we can conclude that with 90% confidence, the population mean reaction time is not equal to 0.25 seconds when caffeine is consumed."
   ]
  },
  {
   "cell_type": "code",
   "execution_count": null,
   "id": "38059d87-49f6-4695-8fcb-dcc11bfbc6b3",
   "metadata": {},
   "outputs": [],
   "source": []
  }
 ],
 "metadata": {
  "kernelspec": {
   "display_name": "Python 3 (ipykernel)",
   "language": "python",
   "name": "python3"
  },
  "language_info": {
   "codemirror_mode": {
    "name": "ipython",
    "version": 3
   },
   "file_extension": ".py",
   "mimetype": "text/x-python",
   "name": "python",
   "nbconvert_exporter": "python",
   "pygments_lexer": "ipython3",
   "version": "3.10.8"
  }
 },
 "nbformat": 4,
 "nbformat_minor": 5
}
