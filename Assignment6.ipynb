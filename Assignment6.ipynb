{
 "cells": [
  {
   "cell_type": "markdown",
   "id": "f3b8a6a4-9e16-4673-8786-2c7410c8ad00",
   "metadata": {},
   "source": [
    "Q1. Explain Class and Object with respect to Object-Oriented Programming. Give a suitable example."
   ]
  },
  {
   "cell_type": "markdown",
   "id": "62281888-56ee-4798-bb57-80110e0117c0",
   "metadata": {},
   "source": [
    "A Class in object oriented programming is a blueprint or prototype that defines the variables and the methods common to all Objects of a certain kind. \n",
    "An object in OOPS is a instance of a class.\n",
    "\n",
    "Example - If we define Car as a Class, then we create object of this car class like BMW is an object of Car class"
   ]
  },
  {
   "cell_type": "code",
   "execution_count": 3,
   "id": "d0190291-a154-44a9-818c-04a85c9d0d83",
   "metadata": {},
   "outputs": [
    {
     "name": "stdout",
     "output_type": "stream",
     "text": [
      "Minimum Speed:  0\n"
     ]
    }
   ],
   "source": [
    "#Create class\n",
    "class Car:\n",
    "    min_speed = 0\n",
    "    \n",
    "BMW = Car()\n",
    "print(\"Minimum Speed: \",BMW.min_speed)"
   ]
  },
  {
   "cell_type": "markdown",
   "id": "fec7fd0f-43d0-4c1e-86c4-c85d102881d8",
   "metadata": {},
   "source": [
    "Q2. Name the four pillars of OOPs.\n",
    "\n",
    "Answer - Inheritance, Polymorphism, Abstruction, Encapsulation"
   ]
  },
  {
   "cell_type": "markdown",
   "id": "6c3005fd-4b37-48da-941d-0de8640398ad",
   "metadata": {},
   "source": [
    "Q3. Explain why the __init__() function is used. Give a suitable example."
   ]
  },
  {
   "cell_type": "markdown",
   "id": "e446a45c-43cc-42bc-b5be-d19a7818ecee",
   "metadata": {},
   "source": [
    "Answer - In class we create contrustor. In python using init() we can create constructor."
   ]
  },
  {
   "cell_type": "code",
   "execution_count": 10,
   "id": "afb287fc-b3a5-439f-ab7d-d1863c65c400",
   "metadata": {},
   "outputs": [
    {
     "name": "stdout",
     "output_type": "stream",
     "text": [
      "Name: BMW :: Speed: 100\n"
     ]
    }
   ],
   "source": [
    "#Create Class\n",
    "class Car:\n",
    "    #Constructor\n",
    "    def __init__(self, name='',speed=0):\n",
    "        self.name = name\n",
    "        self.speed = speed\n",
    "\n",
    "#Create an object\n",
    "new_car = Car('BMW',100)\n",
    "print(\"Name: \"+new_car.name+\" :: Speed: \"+str(new_car.speed))"
   ]
  },
  {
   "cell_type": "markdown",
   "id": "40847c7b-2d92-4794-a9ae-92e2fe4311db",
   "metadata": {},
   "source": [
    "Q4. Why self is used in OOPs?"
   ]
  },
  {
   "cell_type": "markdown",
   "id": "baecd208-6724-4385-89fb-d02618343a9a",
   "metadata": {},
   "source": [
    "The self keyword is used to represent an instance (object) of the given class."
   ]
  },
  {
   "cell_type": "markdown",
   "id": "27d94cd0-571b-4f44-bade-75cc8c3c41e2",
   "metadata": {},
   "source": [
    "Q5. What is inheritance? Give an example for each type of inheritance."
   ]
  },
  {
   "cell_type": "markdown",
   "id": "6d05a727-235f-40e0-9c3d-2d8e77a0b677",
   "metadata": {},
   "source": [
    "Inheritance is a mechanism of acquiring the features and behaviors of a class by another class. The class whose members are inherited is called the base class, and the class that inherits those members is called the derived class. Inheritance implements the IS-A relationship."
   ]
  },
  {
   "cell_type": "markdown",
   "id": "56cdf0f4-1f19-4769-a26d-143edb01115f",
   "metadata": {},
   "source": [
    "Types of Inheritance -\n",
    "1)Single Inheritance : In this inheritance, a derived class is created from a single base class.\n",
    "                       \n",
    "                       In the  example, Class A is the parent class and Class B is the child class since Class B inherits the features and behavior of the parent class A.\n",
    "2)Multi-level inheritance : In this inheritance, a derived class is created from another derived class.\n",
    "\n",
    "                            In the example, class c inherits the properties and behavior of class B and class B inherits the properties and behavior of class B. So, here A is the parent class of B and class B is the parent class of C. So, here class C implicitly inherits the properties and behavior of class A along with Class B i.e there is a multilevel of inheritance.\n",
    "\n",
    "3)Multiple Inheritance: When a class can be derived from more than one base class this type of inheritance is called multiple inheritances. In multiple inheritances, all the features of the base classes are inherited into the derived class. \n",
    "\n",
    "                            In the example, class c inherits the properties of class a and class b.\n",
    "                            \n",
    "4)Hierarchical Inheritance: When more than one derived class are created from a single base this type of inheritance is called hierarchical inheritance. In this program, we have a parent (base) class and two child (derived) classes.\n",
    "\n",
    "                            In the example, class A is base class means parent class. Class B and Class C inherits Class A that means Class B and C are child class of class A. This type of inheritance is called hierarchical inheritance."
   ]
  },
  {
   "cell_type": "code",
   "execution_count": null,
   "id": "d696d681-67bd-4937-8e15-4562cae278f2",
   "metadata": {},
   "outputs": [],
   "source": []
  }
 ],
 "metadata": {
  "kernelspec": {
   "display_name": "Python 3 (ipykernel)",
   "language": "python",
   "name": "python3"
  },
  "language_info": {
   "codemirror_mode": {
    "name": "ipython",
    "version": 3
   },
   "file_extension": ".py",
   "mimetype": "text/x-python",
   "name": "python",
   "nbconvert_exporter": "python",
   "pygments_lexer": "ipython3",
   "version": "3.10.8"
  }
 },
 "nbformat": 4,
 "nbformat_minor": 5
}
