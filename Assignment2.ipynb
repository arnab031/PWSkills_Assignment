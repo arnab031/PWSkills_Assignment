{
 "cells": [
  {
   "cell_type": "code",
   "execution_count": 1,
   "id": "f111d066-895c-4137-bd77-3778a304d740",
   "metadata": {},
   "outputs": [],
   "source": [
    "# 1 Write a program to accept percentage from the user and display the grade according to the following criteria:\n",
    "    \n",
    "# Marks          Grade \n",
    "\n",
    "# >90              A\n",
    "# >80 and <=90     B\n",
    "# >=60 and <=80    C \n",
    "# below 60         D"
   ]
  },
  {
   "cell_type": "code",
   "execution_count": 3,
   "id": "94aaeca8-c571-4528-b588-abfd35faf38d",
   "metadata": {},
   "outputs": [
    {
     "name": "stdin",
     "output_type": "stream",
     "text": [
      "Enter your marks:  60\n"
     ]
    },
    {
     "name": "stdout",
     "output_type": "stream",
     "text": [
      "Your grade:  C\n"
     ]
    }
   ],
   "source": [
    "marks = int(input(\"Enter your marks: \"))\n",
    "\n",
    "if(marks>90):\n",
    "    grade = 'A'\n",
    "elif(marks>80 and marks<=90):\n",
    "    grade = 'B'\n",
    "elif(marks>=60 and marks<=80):\n",
    "    grade = 'C'\n",
    "else:\n",
    "    grade = 'D'\n",
    "\n",
    "print(\"Your grade: \",grade)\n",
    "    "
   ]
  },
  {
   "cell_type": "code",
   "execution_count": 4,
   "id": "acc40c4f-25a6-486b-9c52-8ad62a7c42b9",
   "metadata": {},
   "outputs": [],
   "source": [
    "# 2. Write a program to accept the cost price of a bike and display the road tax to be paid according to the following criteria:\n",
    "#    Tax    Cost Price(in Rs)\n",
    "#    15%       >100000\n",
    "#    10%    >50000 and <= 100000\n",
    "#    5%        <= 50000\n"
   ]
  },
  {
   "cell_type": "code",
   "execution_count": 5,
   "id": "da0e0e9f-d3a6-474a-9612-7dff0f0a5a41",
   "metadata": {},
   "outputs": [
    {
     "name": "stdin",
     "output_type": "stream",
     "text": [
      "Enter the cost price of a bike:  55000\n"
     ]
    },
    {
     "name": "stdout",
     "output_type": "stream",
     "text": [
      "Road Tax:  5500.0\n"
     ]
    }
   ],
   "source": [
    "cost_price = int(input(\"Enter the cost price of a bike: \"))\n",
    "\n",
    "if(cost_price>100000):\n",
    "    road_tax = cost_price*(15/100)\n",
    "elif(cost_price>50000 and cost_price<=100000):\n",
    "    road_tax = cost_price*(10/100)\n",
    "else:\n",
    "    road_tax = cost_price*(5/100)\n",
    "print(\"Road Tax: \",road_tax)"
   ]
  },
  {
   "cell_type": "code",
   "execution_count": 6,
   "id": "f09aa04a-b199-484d-81e8-fb8513f55bf5",
   "metadata": {},
   "outputs": [],
   "source": [
    "# 3. Accept any city from the user and display monuments of that city.\n",
    "  \n",
    "#     City       Monument\n",
    "#     Delhi       Red Fort\n",
    "#     Agra       Taj Mahal\n",
    "#     Jaipur     Jal Mahal"
   ]
  },
  {
   "cell_type": "code",
   "execution_count": 8,
   "id": "18df8e02-75e9-42af-85bc-c231465ee46b",
   "metadata": {},
   "outputs": [
    {
     "name": "stdin",
     "output_type": "stream",
     "text": [
      "Enter your city name:  agra\n"
     ]
    },
    {
     "name": "stdout",
     "output_type": "stream",
     "text": [
      "Monument of Agra is : Taj Mahal\n"
     ]
    }
   ],
   "source": [
    "city = input(\"Enter your city name: \")\n",
    "city = city.capitalize()\n",
    "\n",
    "if(city=='Delhi'):\n",
    "    monument = 'Red Fort'\n",
    "elif(city=='Agra'):\n",
    "    monument = 'Taj Mahal'\n",
    "elif(city=='Jaipur'):\n",
    "    monument = 'Jal Mahal'\n",
    "print('Monument of '+city+' is : '+monument);"
   ]
  },
  {
   "cell_type": "code",
   "execution_count": 11,
   "id": "32502afc-aa5a-40e0-aae7-1050a367b0ec",
   "metadata": {},
   "outputs": [
    {
     "name": "stdin",
     "output_type": "stream",
     "text": [
      "Enter number:  14\n"
     ]
    },
    {
     "name": "stdout",
     "output_type": "stream",
     "text": [
      "Count : 1\n"
     ]
    }
   ],
   "source": [
    "#4.Check how many times a given number can be divided by 3 before it is lesst h a nor equal to 10.\n",
    "\n",
    "number = int(input(\"Enter number: \"))\n",
    "count = 0\n",
    "while(number>10):\n",
    "    number=number//3\n",
    "    count+=1\n",
    "print(\"Count :\",count)\n",
    "             "
   ]
  },
  {
   "cell_type": "code",
   "execution_count": 12,
   "id": "f73a8422-29c6-4d2d-9e02-4deccf546723",
   "metadata": {},
   "outputs": [
    {
     "name": "stdin",
     "output_type": "stream",
     "text": [
      "Enter number:  12\n"
     ]
    },
    {
     "name": "stdout",
     "output_type": "stream",
     "text": [
      "Count : 1\n"
     ]
    }
   ],
   "source": [
    "#5. Why and When to Use while Loop in Python give a detailed description with example\n",
    "\n",
    "# Answer - When we don't know how many times this loop will iterate, then we use while loop.\n",
    "\n",
    "# Example - How many times a given number can be divided by 3 before it is lesst h a nor equal to 10? \n",
    "#           For this question we don't know the exact number of iteration for that reason we will use while loop here.\n",
    "\n",
    "number = int(input(\"Enter number: \"))\n",
    "count = 0\n",
    "while(number>10):\n",
    "    number=number//3\n",
    "    count+=1\n",
    "print(\"Count :\",count)"
   ]
  },
  {
   "cell_type": "code",
   "execution_count": 17,
   "id": "61d9bc2f-3ea3-47ba-88c3-be06ff273daa",
   "metadata": {},
   "outputs": [
    {
     "name": "stdout",
     "output_type": "stream",
     "text": [
      "\n",
      "*\n",
      "**\n",
      "***\n",
      "****\n",
      "***\n",
      "**\n",
      "*\n",
      "\n",
      "  *\n",
      " **\n",
      "***\n"
     ]
    }
   ],
   "source": [
    "#6. Use nested while loop to print 3 different pattern.\n",
    "i = 0\n",
    "while(i<=3):\n",
    "    print('*'*i)\n",
    "    i+=1\n",
    "    \n",
    "while(i>=0):\n",
    "    print('*'*i)\n",
    "    i-=1\n",
    "    \n",
    "i = 3\n",
    "j = 1\n",
    "while(i>0):\n",
    "    print(' '*(i-1),end='')\n",
    "    print('*'*j)\n",
    "    i-=1\n",
    "    j+=1\n"
   ]
  },
  {
   "cell_type": "code",
   "execution_count": 19,
   "id": "6dca1480-2c01-43de-a318-1a115b8ede8e",
   "metadata": {},
   "outputs": [
    {
     "name": "stdout",
     "output_type": "stream",
     "text": [
      "10 9 8 7 6 5 4 3 2 1 "
     ]
    }
   ],
   "source": [
    "#7. Reverse a while loop to display numbers from 10 to 1.\n",
    "n = 10\n",
    "while(n!=0):\n",
    "    print(n,end=' ')\n",
    "    n-=1"
   ]
  },
  {
   "cell_type": "code",
   "execution_count": 20,
   "id": "196e5c4a-b609-4f55-9c3e-fea80b2302d8",
   "metadata": {},
   "outputs": [
    {
     "name": "stdout",
     "output_type": "stream",
     "text": [
      "10 9 8 7 6 5 4 3 2 1 "
     ]
    }
   ],
   "source": [
    "#8. Reverse a while loop todisplay numbers from 10 to 1\n",
    "n = 10\n",
    "while(n!=0):\n",
    "    print(n,end=' ')\n",
    "    n-=1"
   ]
  },
  {
   "cell_type": "code",
   "execution_count": null,
   "id": "df21dc21-6724-4d56-86a9-2e376cd59011",
   "metadata": {},
   "outputs": [],
   "source": []
  }
 ],
 "metadata": {
  "kernelspec": {
   "display_name": "Python 3 (ipykernel)",
   "language": "python",
   "name": "python3"
  },
  "language_info": {
   "codemirror_mode": {
    "name": "ipython",
    "version": 3
   },
   "file_extension": ".py",
   "mimetype": "text/x-python",
   "name": "python",
   "nbconvert_exporter": "python",
   "pygments_lexer": "ipython3",
   "version": "3.10.8"
  }
 },
 "nbformat": 4,
 "nbformat_minor": 5
}
