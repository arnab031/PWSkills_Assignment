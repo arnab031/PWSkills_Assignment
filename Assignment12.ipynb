{
 "cells": [
  {
   "cell_type": "markdown",
   "id": "840607ef-3154-46e5-8b8d-2c46efff3f3c",
   "metadata": {},
   "source": [
    "Q1. What is an Exception in python? Write the difference between Exceptions and Syntax errors."
   ]
  },
  {
   "cell_type": "markdown",
   "id": "9df9ffe3-a92f-4f84-9f8a-808c322281e3",
   "metadata": {},
   "source": [
    "An exception is an event, which occurs during the execution of a program that disrupts the normal flow of the program's instructions.\n",
    "\n",
    "Syntax Errors cannot be handled, while Python exceptions can be handled at the run time."
   ]
  },
  {
   "cell_type": "markdown",
   "id": "152850fe-b594-426b-ace1-8a70af69f588",
   "metadata": {},
   "source": [
    "Q2. What happens when an exception is not handled? Explain with an example."
   ]
  },
  {
   "cell_type": "markdown",
   "id": "c9341513-d133-4c31-a7b4-779882c25d30",
   "metadata": {},
   "source": [
    "When an exception is not handled, then the program terminates abruptly and the code past the line that caused the exception will not get executed."
   ]
  },
  {
   "cell_type": "code",
   "execution_count": 2,
   "id": "1c9eb2d4-a8a0-4952-ac1b-5b9e29ed7658",
   "metadata": {},
   "outputs": [
    {
     "name": "stdout",
     "output_type": "stream",
     "text": [
      "Exception:  division by zero\n"
     ]
    }
   ],
   "source": [
    "try:\n",
    "    ans = 5/0\n",
    "    print(ans)\n",
    "except Exception as e:\n",
    "    print(\"Exception: \",e)"
   ]
  },
  {
   "cell_type": "markdown",
   "id": "ff160a69-4f46-48b2-bdef-c4f554fb7b99",
   "metadata": {},
   "source": [
    "Q3. Which Python statements are used to catch and handle exceptions? Explain with an example."
   ]
  },
  {
   "cell_type": "markdown",
   "id": "e2e2ce75-b809-4b1e-9cc8-ff8d4b37acf4",
   "metadata": {},
   "source": [
    "try and except are used to catch and handle exceptions."
   ]
  },
  {
   "cell_type": "code",
   "execution_count": 3,
   "id": "0e1c34a4-b606-407b-a9ea-ba7e32e0c79d",
   "metadata": {},
   "outputs": [
    {
     "name": "stdout",
     "output_type": "stream",
     "text": [
      "Exception:  can only concatenate str (not \"int\") to str\n"
     ]
    }
   ],
   "source": [
    "try:\n",
    "    ans = \"Hello\"+1\n",
    "    print(ans)\n",
    "except Exception as e:\n",
    "    print(\"Exception: \",e)"
   ]
  },
  {
   "cell_type": "markdown",
   "id": "906dfeac-3b04-4dd1-a021-a51a17f6bf79",
   "metadata": {},
   "source": [
    "Q4. Explain with an example:\n",
    " a. try and else\n",
    " b. finally\n",
    " c. raise"
   ]
  },
  {
   "cell_type": "code",
   "execution_count": 6,
   "id": "a7111a79-fbd1-4a31-b76d-74c938529c6c",
   "metadata": {},
   "outputs": [
    {
     "name": "stdin",
     "output_type": "stream",
     "text": [
      "Enter String:  12\n"
     ]
    },
    {
     "name": "stdout",
     "output_type": "stream",
     "text": [
      "Exception:  Input type is string\n"
     ]
    }
   ],
   "source": [
    "class ValidateString(Exception):\n",
    "    def __init__(self, msg):\n",
    "        self.msg = msg\n",
    "        \n",
    "def validationFunction(msg):\n",
    "    if(type(msg)==str):\n",
    "        raise ValidateString(\"Input type is string\")\n",
    "        \n",
    "try:\n",
    "    file1 = open(\"file.txt\",\"w\")\n",
    "    temp = input(\"Enter String: \")\n",
    "    validationFunction(temp)\n",
    "    file1.write(temp)\n",
    "except ValidateString as e:\n",
    "    print(\"Exception: \",e)\n",
    "else:\n",
    "    print(\"This is else block\")\n",
    "finally:\n",
    "    file1.close()"
   ]
  },
  {
   "cell_type": "markdown",
   "id": "cf642445-75dc-4581-9d8b-1b950fb9385f",
   "metadata": {},
   "source": [
    "Q5. What are Custom Exceptions in python? Why do we need Custom Exceptions? Explain with an example."
   ]
  },
  {
   "cell_type": "markdown",
   "id": "3c7e97ec-aa30-41bc-bb80-1334e1a0454c",
   "metadata": {},
   "source": [
    "In Python, we can define custom exceptions by creating a new class that is derived from the built-in Exception class.\n",
    "\n",
    "Built-in exceptions offer information about Python-related problems, and custom exceptions will add information about project-related problems. That way, we can design your code (and traceback."
   ]
  },
  {
   "cell_type": "code",
   "execution_count": 7,
   "id": "369e2ef5-b138-4d95-b1d9-bc98b8d492cf",
   "metadata": {},
   "outputs": [
    {
     "name": "stdin",
     "output_type": "stream",
     "text": [
      "Enter message:  1234\n"
     ]
    },
    {
     "name": "stdout",
     "output_type": "stream",
     "text": [
      "Exception:  Input type is number\n"
     ]
    }
   ],
   "source": [
    "class ValidateString(Exception):\n",
    "    def __init__(self, msg):\n",
    "        self.msg = msg\n",
    "        \n",
    "def validationFunction(msg):\n",
    "    if(msg.isnumeric()):\n",
    "        raise ValidateString(\"Input type is number\")\n",
    "        \n",
    "try:\n",
    "    temp = input(\"Enter message: \")\n",
    "    validationFunction(temp)\n",
    "    print(temp)\n",
    "except ValidateString as e:\n",
    "    print(\"Exception: \",e)"
   ]
  },
  {
   "cell_type": "markdown",
   "id": "46491bd9-1e90-40c3-a302-cea4dc15271d",
   "metadata": {},
   "source": [
    "Q6. Create a custom exception class. Use this class to handle an exception."
   ]
  },
  {
   "cell_type": "code",
   "execution_count": 10,
   "id": "61387779-92b7-42d8-adcc-22740f00fefe",
   "metadata": {},
   "outputs": [
    {
     "name": "stdin",
     "output_type": "stream",
     "text": [
      "Enter message:  hello1234\n"
     ]
    },
    {
     "name": "stdout",
     "output_type": "stream",
     "text": [
      "Exception:  Input contains number\n"
     ]
    }
   ],
   "source": [
    "class ValidateString(Exception):\n",
    "    def __init__(self, msg):\n",
    "        self.msg = msg\n",
    "        \n",
    "def validationFunction(msg):\n",
    "    if(msg.isalnum()):\n",
    "        raise ValidateString(\"Input contains number\")\n",
    "        \n",
    "try:\n",
    "    temp = input(\"Enter message: \")\n",
    "    validationFunction(temp)\n",
    "    print(temp)\n",
    "except ValidateString as e:\n",
    "    print(\"Exception: \",e)"
   ]
  },
  {
   "cell_type": "code",
   "execution_count": null,
   "id": "43a2b4f2-6242-4d70-81c7-40e7d2898480",
   "metadata": {},
   "outputs": [],
   "source": []
  }
 ],
 "metadata": {
  "kernelspec": {
   "display_name": "Python 3 (ipykernel)",
   "language": "python",
   "name": "python3"
  },
  "language_info": {
   "codemirror_mode": {
    "name": "ipython",
    "version": 3
   },
   "file_extension": ".py",
   "mimetype": "text/x-python",
   "name": "python",
   "nbconvert_exporter": "python",
   "pygments_lexer": "ipython3",
   "version": "3.10.8"
  }
 },
 "nbformat": 4,
 "nbformat_minor": 5
}
