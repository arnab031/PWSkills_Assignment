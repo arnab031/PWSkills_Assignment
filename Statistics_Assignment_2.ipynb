{
 "cells": [
  {
   "cell_type": "markdown",
   "id": "ca49e553-f776-4ae4-a852-49f02428b7dd",
   "metadata": {},
   "source": [
    "Q1. What are the three measures of central tendency?"
   ]
  },
  {
   "cell_type": "markdown",
   "id": "f2beb160-42bf-4ba8-94ef-827950d23a13",
   "metadata": {},
   "source": [
    "Mean, Median, Mode are the three measures of central tendency."
   ]
  },
  {
   "cell_type": "markdown",
   "id": "35330d2a-8cba-4d59-8d43-170a0dd7b8f5",
   "metadata": {},
   "source": [
    "Q2. What is the difference between the mean, median, and mode? How are they used to measure the\n",
    "central tendency of a dataset?"
   ]
  },
  {
   "cell_type": "markdown",
   "id": "fc96e8b2-0dd6-4530-bea9-e67f60dbf615",
   "metadata": {},
   "source": [
    "Mean - The mean is the sum of the value of each observation in a dataset divided by the number of observations. This is also known as the arithmetic average. \n",
    "\n",
    "Median - The median is the middle value in distribution when the values are arranged in ascending or descending order.\n",
    "\n",
    "Mode - The mode is the most commonly occurring value in a distribution.\n",
    "\n",
    "Mean is used to know the middle value of the dataset. But when outliers are present in the database, then we median is used to find the central tendency. Mode is used to find the maximum frequency of the dataset."
   ]
  },
  {
   "cell_type": "markdown",
   "id": "73b889b1-cc45-4284-aa0e-2d0a78743f99",
   "metadata": {},
   "source": [
    "Q3. Measure the three measures of central tendency for the given height data:\n",
    "[178,177,176,177,178.2,178,175,179,180,175,178.9,176.2,177,172.5,178,176.5]"
   ]
  },
  {
   "cell_type": "code",
   "execution_count": 4,
   "id": "6543d825-be32-4785-8fbb-1c7235abb4fa",
   "metadata": {},
   "outputs": [
    {
     "name": "stdout",
     "output_type": "stream",
     "text": [
      "Mean:  177.01875\n",
      "Median:  177.0\n",
      "Mode:  ModeResult(mode=array([177.]), count=array([3]))\n"
     ]
    },
    {
     "name": "stderr",
     "output_type": "stream",
     "text": [
      "/tmp/ipykernel_70/2491601974.py:6: FutureWarning: Unlike other reduction functions (e.g. `skew`, `kurtosis`), the default behavior of `mode` typically preserves the axis it acts along. In SciPy 1.11.0, this behavior will change: the default value of `keepdims` will become False, the `axis` over which the statistic is taken will be eliminated, and the value None will no longer be accepted. Set `keepdims` to True or False to avoid this warning.\n",
      "  print(\"Mode: \",stats.mode(data))\n"
     ]
    }
   ],
   "source": [
    "import numpy as np\n",
    "from scipy import stats\n",
    "data = [178,177,176,177,178.2,178,175,179,180,175,178.9,176.2,177,172.5,178,176.5]\n",
    "print(\"Mean: \",np.mean(data))\n",
    "print(\"Median: \",np.median(data))\n",
    "print(\"Mode: \",stats.mode(data))"
   ]
  },
  {
   "cell_type": "markdown",
   "id": "43d2030f-c447-47a1-bd96-8a6dca2967f8",
   "metadata": {},
   "source": [
    "Q4. Find the standard deviation for the given data:\n",
    "[178,177,176,177,178.2,178,175,179,180,175,178.9,176.2,177,172.5,178,176.5]"
   ]
  },
  {
   "cell_type": "code",
   "execution_count": 9,
   "id": "112aabdf-8388-4f31-bf51-0a574f3b2c37",
   "metadata": {},
   "outputs": [
    {
     "name": "stdout",
     "output_type": "stream",
     "text": [
      "Standard Deviation:  1.7885814036548633\n",
      "Variance:  3.199023437500001\n",
      "Range:  7.5\n"
     ]
    }
   ],
   "source": [
    "import numpy as np\n",
    "data = [178,177,176,177,178.2,178,175,179,180,175,178.9,176.2,177,172.5,178,176.5]\n",
    "print(\"Standard Deviation: \",np.std(data))\n",
    "print(\"Variance: \",np.var(data))\n",
    "print(\"Range: \",max(data)-min(data))"
   ]
  },
  {
   "cell_type": "markdown",
   "id": "80403aad-e802-46f6-95f8-7888671b27bd",
   "metadata": {},
   "source": [
    "Q5. How are measures of dispersion such as range, variance, and standard deviation used to describe\n",
    "the spread of a dataset? Provide an example."
   ]
  },
  {
   "cell_type": "markdown",
   "id": "deb4fd2b-e523-4437-a087-78974cea9b49",
   "metadata": {},
   "source": [
    "Range - The range is the easiest dispersion of data or measure of variability. The range can measure by subtracting the lowest value from the massive Number. The wide range indicates high variability, and the small range specifies low variability in the distribution.\n",
    "\n",
    "Variance - Variance measures how far each number in the dataset from the mean. To compute variance first, calculate the mean and squared deviations from a mean.\n",
    "\n",
    "Standard deviation - It is a squared root of the variance to get original values. Low standard deviation indicates data points close to mean.\n",
    "\n",
    "Example - Let assume the list of height is [178,177,176,177,178.2,178,175,179,180,175,178.9,176.2,177,172.5,178,176.5]. Standard Deviation:  1.7885814036548633, Variance:  3.199023437500001, Range:  7.5\n",
    "\n",
    "From the range of the dataset, we came to know the difference between highest and lowest value of the dataset.\n",
    "From variance of the dataset, we came to know how far each number in the dataset from the mean.\n",
    "From standard deviation, we came to know the skewness of the data."
   ]
  },
  {
   "cell_type": "markdown",
   "id": "cefb7bd7-ca79-48fb-b9e7-6b2ebb224fe3",
   "metadata": {},
   "source": [
    "Q6. What is a Venn diagram?"
   ]
  },
  {
   "cell_type": "markdown",
   "id": "74179cfb-d056-4e2b-b76a-c9015cc835a0",
   "metadata": {},
   "source": [
    "A Venn diagram illustrates the relationships between two or more data sets. Venn diagrams are especially useful for highlighting similarities and differences and are commonly used to compare and contrast the characteristics of different data sets."
   ]
  },
  {
   "cell_type": "markdown",
   "id": "8c747e03-2b76-47be-944e-6cf3a145a5b0",
   "metadata": {},
   "source": [
    "Q7. For the two given sets A = (2,3,4,5,6,7) & B = (0,2,6,8,10). Find:\n",
    "(i) A ⋂ B\n",
    "(ii) A ⋃ B"
   ]
  },
  {
   "cell_type": "markdown",
   "id": "17e76b2f-9be8-4a53-871b-92424d7c4eae",
   "metadata": {},
   "source": [
    "(i) A ⋂ B - (2,6)\n",
    "(ii) A ⋃ B - (0,2,3,4,5,6,7,8,10)"
   ]
  },
  {
   "cell_type": "markdown",
   "id": "23fb8252-7958-4524-bfe7-a6b1bc90e609",
   "metadata": {},
   "source": [
    "Q8. What do you understand about skewness in data?"
   ]
  },
  {
   "cell_type": "markdown",
   "id": "7053a636-1c1c-4517-956e-15ee3137cc92",
   "metadata": {},
   "source": [
    "Skewness is a measurement of the distortion of symmetrical distribution or asymmetry in a data set. Skewness is demonstrated on a bell curve when data points are not distributed symmetrically to the left and right sides of the median on a bell curve."
   ]
  },
  {
   "cell_type": "markdown",
   "id": "40da92d5-f707-4e2b-8928-23fe1a30ba65",
   "metadata": {},
   "source": [
    "Q9. If a data is right skewed then what will be the position of median with respect to mean?"
   ]
  },
  {
   "cell_type": "markdown",
   "id": "8eb44b23-1451-490a-9c77-508008ebed6d",
   "metadata": {},
   "source": [
    "Mean is greater than equal to median for right skewed data. "
   ]
  },
  {
   "cell_type": "markdown",
   "id": "910b51d9-eabb-4091-8649-78a902f486c7",
   "metadata": {},
   "source": [
    "Q10. Explain the difference between covariance and correlation. How are these measures used in\n",
    "statistical analysis?"
   ]
  },
  {
   "cell_type": "markdown",
   "id": "e858d7d6-be46-4219-9a93-500010fec54c",
   "metadata": {},
   "source": [
    "Covariance shows you how the two variables differ, whereas correlation shows you how the two variables are related.\n",
    "\n",
    "Covariance tells us the direction of the relationship between two variables, while correlation provides an indication as to how strong the relationship between the two variables is, in addition to the direction of correlated variables."
   ]
  },
  {
   "cell_type": "markdown",
   "id": "ca7ab5c1-e02f-4561-bc9c-08b7688ca115",
   "metadata": {},
   "source": [
    "Q11. What is the formula for calculating the sample mean? Provide an example calculation for a\n",
    "dataset."
   ]
  },
  {
   "cell_type": "markdown",
   "id": "5dcd9819-a774-48f2-b869-f9070c147fca",
   "metadata": {},
   "source": [
    "Formula for calculating the sample mean is -> x̄ = ( Σ xi ) / n . Here, x̄ represents the sample mean, xi refers all X sample values and n stands for the number of sample terms in the data set.\n",
    "\n",
    "Example: Dataset=[3,4,5,6,7]\n",
    "         Sample Mean = (3+4+5+6+7)/5 = 25/5 = 5"
   ]
  },
  {
   "cell_type": "markdown",
   "id": "b523fdc9-471b-4468-bbe0-4644377898a5",
   "metadata": {},
   "source": [
    "Q12. For a normal distribution data what is the relationship between its measure of central tendency?"
   ]
  },
  {
   "cell_type": "markdown",
   "id": "219ebf4b-8325-4b60-b08b-4c26b3a53088",
   "metadata": {},
   "source": [
    "Mean, Median, Mode are the three measures of central tendency.\n",
    "Mean – Mode = 3 (Mean – Median)"
   ]
  },
  {
   "cell_type": "markdown",
   "id": "02c9156a-a7fc-4f16-92a5-a3ed219f58c7",
   "metadata": {},
   "source": [
    "Q13. How is covariance different from correlation?"
   ]
  },
  {
   "cell_type": "markdown",
   "id": "3f0d201d-52c5-45a5-9174-8cbf15384776",
   "metadata": {},
   "source": [
    "Covariance tells us the direction of the relationship between two variables, while correlation provides an indication as to how strong the relationship between the two variables is, in addition to the direction of correlated variables.\""
   ]
  },
  {
   "cell_type": "markdown",
   "id": "4e69fe7f-2f44-4a4f-aac3-aff5281295a3",
   "metadata": {},
   "source": [
    "Q14. How do outliers affect measures of central tendency and dispersion? Provide an example."
   ]
  },
  {
   "cell_type": "markdown",
   "id": "fa4bfb77-5eb4-4558-84cf-71662b246e8f",
   "metadata": {},
   "source": [
    "Outliers are numbers in a data set that are vastly larger or smaller than the other values in the set. Mean, median and mode are measures of central tendency. Mean is the only measure of central tendency that is always affected by an outlier.\n",
    "\n",
    "Example - Let's assume [2,4,5,6,1,100] is the dataset.\n",
    "100 is the outlier of the dataset. Mean of the dataset is - 19.67. If we remove the outlier from the dataset, then mean will be 3. So, we can see that Mean is majorly affected by an outlier."
   ]
  },
  {
   "cell_type": "code",
   "execution_count": null,
   "id": "f71f4694-ab62-438c-a607-2ea4dead7546",
   "metadata": {},
   "outputs": [],
   "source": []
  }
 ],
 "metadata": {
  "kernelspec": {
   "display_name": "Python 3 (ipykernel)",
   "language": "python",
   "name": "python3"
  },
  "language_info": {
   "codemirror_mode": {
    "name": "ipython",
    "version": 3
   },
   "file_extension": ".py",
   "mimetype": "text/x-python",
   "name": "python",
   "nbconvert_exporter": "python",
   "pygments_lexer": "ipython3",
   "version": "3.10.8"
  }
 },
 "nbformat": 4,
 "nbformat_minor": 5
}
