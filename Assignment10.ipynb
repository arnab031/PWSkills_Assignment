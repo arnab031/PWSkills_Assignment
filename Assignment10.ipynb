{
 "cells": [
  {
   "cell_type": "markdown",
   "id": "c39256c3-a77d-4481-9ebd-3eb9832363c3",
   "metadata": {},
   "source": [
    "Q1. Create a vehicle class with an init method having instance variables as name_of_vehicle, max_speed and average_of_vehicle."
   ]
  },
  {
   "cell_type": "code",
   "execution_count": 2,
   "id": "baa73d4c-9e80-4bb0-8d62-b382960ba54f",
   "metadata": {},
   "outputs": [
    {
     "name": "stdout",
     "output_type": "stream",
     "text": [
      "Name:  Toyota\n",
      "Max Speed:  200\n",
      "Average Speed:  100\n"
     ]
    }
   ],
   "source": [
    "class Vehicle:\n",
    "    def __init__(self, name_of_vehicle, max_speed, average_of_vehicle):\n",
    "        self.name_of_vehicle = name_of_vehicle\n",
    "        self.max_speed = max_speed\n",
    "        self.average_of_vehicle = average_of_vehicle\n",
    "        \n",
    "vehicle1 = Vehicle(\"Toyota\",\"200\",\"100\")\n",
    "print(\"Name: \",vehicle1.name_of_vehicle)\n",
    "print(\"Max Speed: \",vehicle1.max_speed)\n",
    "print(\"Average Speed: \",vehicle1.average_of_vehicle)"
   ]
  },
  {
   "cell_type": "markdown",
   "id": "e3bbe615-5c05-4b33-9255-3964b5c180a8",
   "metadata": {},
   "source": [
    "Q2. Create a child class car from the vehicle class created in Que 1, which will inherit the vehicle class.\n",
    "Create a method named seating_capacity which takes capacity as an argument and returns the name of\n",
    "the vehicle and its seating capacity."
   ]
  },
  {
   "cell_type": "code",
   "execution_count": 4,
   "id": "6bbe6d4a-ac75-410e-b38f-e7fdbefaf7b7",
   "metadata": {},
   "outputs": [
    {
     "data": {
      "text/plain": [
       "'Name of the Vehicle: BMW, Seating Capacity: 2'"
      ]
     },
     "execution_count": 4,
     "metadata": {},
     "output_type": "execute_result"
    }
   ],
   "source": [
    "class Car(Vehicle):\n",
    "    def seating_capacity(self, capacity):\n",
    "        self.capacity = capacity\n",
    "        return \"Name of the Vehicle: \"+self.name_of_vehicle+\", Seating Capacity: \"+str(capacity)\n",
    "\n",
    "car1 = Car(\"BMW\",200,150)\n",
    "car1.seating_capacity(2)"
   ]
  },
  {
   "cell_type": "markdown",
   "id": "01852c9a-d84b-40a7-95ea-a884e2e33b98",
   "metadata": {},
   "source": [
    "Q3. What is multiple inheritance? Write a python code to demonstrate multiple inheritance."
   ]
  },
  {
   "cell_type": "markdown",
   "id": "f4a0f5f7-e22b-48dc-9e10-4ccf647dea98",
   "metadata": {},
   "source": [
    "When a class can be derived from more than one base class this type of inheritance is called multiple inheritances. In multiple inheritances, all the features of the base classes are inherited into the derived class."
   ]
  },
  {
   "cell_type": "code",
   "execution_count": 6,
   "id": "57f0bb26-0cc7-46fd-8cc0-bbf962ae4b56",
   "metadata": {},
   "outputs": [
    {
     "name": "stdout",
     "output_type": "stream",
     "text": [
      "Method of class A\n",
      "Method of class B\n"
     ]
    }
   ],
   "source": [
    "class A:\n",
    "    def methodA(self):\n",
    "        print(\"Method of class A\")\n",
    "class B:\n",
    "    def methodB(self):\n",
    "        print(\"Method of class B\")\n",
    "class C(A,B):\n",
    "    pass\n",
    "\n",
    "c1 = C()\n",
    "c1.methodA()\n",
    "c1.methodB()"
   ]
  },
  {
   "cell_type": "markdown",
   "id": "2f7f1d7a-67f0-4826-9726-e3d7c2cafe2d",
   "metadata": {},
   "source": [
    "Q4. What are getter and setter in python? Create a class and create a getter and a setter method in this\n",
    "class."
   ]
  },
  {
   "cell_type": "markdown",
   "id": "0a33e388-94e4-4594-8efe-cd97f42c2766",
   "metadata": {},
   "source": [
    "When we implement encapsulation, we make all variables private only, so that we cannot change the value of that variable directly and cannot access the variable also. Then we make setter method to set value of that variable and for accessing that variable we make getter method. "
   ]
  },
  {
   "cell_type": "code",
   "execution_count": 9,
   "id": "ba7f84ab-642a-4144-b1fb-c0c113318dec",
   "metadata": {},
   "outputs": [
    {
     "name": "stdout",
     "output_type": "stream",
     "text": [
      "Before setting name:  Circle\n",
      "After setting name:  Circle2\n"
     ]
    }
   ],
   "source": [
    "class Shape():\n",
    "    def __init__(self, name):\n",
    "        self.__name = name\n",
    "    def getName(self):\n",
    "        return self.__name\n",
    "    def setName(self, new_name):\n",
    "        self.__name = new_name\n",
    "        \n",
    "Circle = Shape(\"Circle\")\n",
    "print(\"Before setting name: \",Circle.getName())\n",
    "Circle.setName(\"Circle2\")\n",
    "print(\"After setting name: \",Circle.getName())"
   ]
  },
  {
   "cell_type": "markdown",
   "id": "006df6f7-d0aa-45a4-9ee7-b30275cdbaed",
   "metadata": {},
   "source": [
    "Q5. What is method overriding in python? Write a python code to demonstrate method overriding."
   ]
  },
  {
   "cell_type": "markdown",
   "id": "e61bc83e-0c9b-4624-b1e7-48b6582b2a39",
   "metadata": {},
   "source": [
    "Method overriding is an ability of any object-oriented programming language that allows a subclass or child class to provide a specific implementation of a method that is already provided by one of its super-classes or parent classes. "
   ]
  },
  {
   "cell_type": "code",
   "execution_count": 10,
   "id": "74366447-86a4-4b16-9f0b-c1e3b4a64cda",
   "metadata": {},
   "outputs": [
    {
     "name": "stdout",
     "output_type": "stream",
     "text": [
      "This test method belongs to B\n"
     ]
    }
   ],
   "source": [
    "class A:\n",
    "    def test(self):\n",
    "        print(\"This test method belongs to A\")\n",
    "        \n",
    "class B(A):\n",
    "    def test(self):\n",
    "        print(\"This test method belongs to B\")\n",
    "        \n",
    "obj = B()\n",
    "obj.test()"
   ]
  },
  {
   "cell_type": "code",
   "execution_count": null,
   "id": "7bc30482-e400-4aa0-8933-767027eb99f5",
   "metadata": {},
   "outputs": [],
   "source": []
  }
 ],
 "metadata": {
  "kernelspec": {
   "display_name": "Python 3 (ipykernel)",
   "language": "python",
   "name": "python3"
  },
  "language_info": {
   "codemirror_mode": {
    "name": "ipython",
    "version": 3
   },
   "file_extension": ".py",
   "mimetype": "text/x-python",
   "name": "python",
   "nbconvert_exporter": "python",
   "pygments_lexer": "ipython3",
   "version": "3.10.8"
  }
 },
 "nbformat": 4,
 "nbformat_minor": 5
}
