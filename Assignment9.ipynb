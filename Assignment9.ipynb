{
 "cells": [
  {
   "cell_type": "markdown",
   "id": "772e6e90-bf56-47f8-9067-f0deaf91de67",
   "metadata": {},
   "source": [
    "Q1. What is Abstraction in OOps? Explain with an example."
   ]
  },
  {
   "cell_type": "markdown",
   "id": "c15b685f-c39e-4ba7-9332-1e4c6a18e4ec",
   "metadata": {},
   "source": [
    "Abstraction is defined as a process of handling complexity by hiding unnecessary information from the user. This is one of the core concepts of object-oriented programming (OOP) languages."
   ]
  },
  {
   "cell_type": "code",
   "execution_count": 6,
   "id": "b15f768a-2e89-478b-9671-3f6e6ecd90ca",
   "metadata": {},
   "outputs": [
    {
     "name": "stdout",
     "output_type": "stream",
     "text": [
      "Area:  300\n",
      "Perimeter:  70\n",
      "Area:  78.5\n",
      "Perimeter:  31.400000000000002\n"
     ]
    }
   ],
   "source": [
    "from abc import ABC, abstractmethod\n",
    "class Shape():\n",
    "    def __init__(self,shapeType):\n",
    "        self.shapeType = shapeType\n",
    "        \n",
    "    @abstractmethod\n",
    "    def area(self):\n",
    "        pass\n",
    "    @abstractmethod\n",
    "    def perimeter(self):\n",
    "        pass\n",
    "    \n",
    "class Rectangle(Shape):\n",
    "    def __init__(self, length, breadth):\n",
    "        Shape.__init__(self, \"Rectangle\")\n",
    "        self.length = length\n",
    "        self.breadth = breadth\n",
    "    def area(self):\n",
    "        return self.length*self.breadth\n",
    "    def perimeter(self):\n",
    "        return 2*(self.length+self.breadth)\n",
    "    \n",
    "class Circle(Shape):\n",
    "    pi=3.14\n",
    "    def __init__(self,radius):\n",
    "        Shape.__init__(self, \"Circle\")\n",
    "        self.radius = radius\n",
    "    def area(self):\n",
    "        return Circle.pi*self.radius**2\n",
    "    def perimeter(self):\n",
    "        return 2*Circle.pi*self.radius\n",
    "\n",
    "rectangle = Rectangle(20,15)\n",
    "print(\"Area: \",rectangle.area())\n",
    "print(\"Perimeter: \",rectangle.perimeter())\n",
    "\n",
    "circle = Circle(5)\n",
    "print(\"Area: \",circle.area())\n",
    "print(\"Perimeter: \",circle.perimeter())"
   ]
  },
  {
   "cell_type": "markdown",
   "id": "79272f57-614f-499c-8cc6-9926332935a0",
   "metadata": {},
   "source": [
    "Q2. Differentiate between Abstraction and Encapsulation. Explain with an example."
   ]
  },
  {
   "cell_type": "markdown",
   "id": "2b50ca7b-cd8c-41c6-a53a-b572aa3477b8",
   "metadata": {},
   "source": [
    "Abstraction is a process of hiding unnecessary data and showing only relevant data. Out of an ocean of data, we are only maintaining the transparency of some data to the user. This important concept in object-oriented programming will reduce the complexity of the code and increases the readability.\n",
    "\n",
    "Encapsulation is binding the data members with member variables. This will avoid the direct access of variables, because direct access of variables may violate privacy, and hiding of the implementation will not be possible."
   ]
  },
  {
   "cell_type": "code",
   "execution_count": 7,
   "id": "0fbeddbd-89c8-40d1-981d-9b741ebcf44a",
   "metadata": {},
   "outputs": [
    {
     "name": "stdout",
     "output_type": "stream",
     "text": [
      "Area:  300\n",
      "Perimeter:  70\n"
     ]
    }
   ],
   "source": [
    "from abc import ABC, abstractmethod\n",
    "class Shape():\n",
    "    def __init__(self,shapeType):\n",
    "        self.shapeType = shapeType\n",
    "        \n",
    "    @abstractmethod\n",
    "    def area(self):\n",
    "        pass\n",
    "    @abstractmethod\n",
    "    def perimeter(self):\n",
    "        pass\n",
    "    \n",
    "class Rectangle(Shape):\n",
    "    def __init__(self, length, breadth):\n",
    "        Shape.__init__(self, \"Rectangle\")\n",
    "        self.length = length\n",
    "        self.breadth = breadth\n",
    "    def area(self):\n",
    "        return self.length*self.breadth\n",
    "    def perimeter(self):\n",
    "        return 2*(self.length+self.breadth)\n",
    "\n",
    "rectangle = Rectangle(20,15)\n",
    "print(\"Area: \",rectangle.area())\n",
    "print(\"Perimeter: \",rectangle.perimeter())"
   ]
  },
  {
   "cell_type": "code",
   "execution_count": 10,
   "id": "28073687-dc93-482c-91c3-64b7c320580a",
   "metadata": {},
   "outputs": [
    {
     "name": "stdout",
     "output_type": "stream",
     "text": [
      "Speed:  150\n"
     ]
    }
   ],
   "source": [
    "class Car():\n",
    "    def __init__(self,speed):\n",
    "        self.__speed = speed\n",
    "    def setSpeed(self,speed):\n",
    "        self.__speed = speed\n",
    "    def getSpeed(self):\n",
    "        return self.__speed\n",
    "    \n",
    "BMW = Car(0)\n",
    "BMW.setSpeed(150)\n",
    "print(\"Speed: \",BMW.getSpeed())\n",
    "    "
   ]
  },
  {
   "cell_type": "markdown",
   "id": "6a5f64cf-6eb2-4be8-a61c-4c5ed05950b0",
   "metadata": {},
   "source": [
    "Q3. What is abc module in python? Why is it used?"
   ]
  },
  {
   "cell_type": "markdown",
   "id": "f7500868-4550-4d23-8420-85377de20407",
   "metadata": {},
   "source": [
    "ABCs introduce virtual subclasses, which are classes that don’t inherit from a class but are still recognized by isinstance() and issubclass() functions.\n",
    "\n",
    "'abc' works by marking methods of the base class as abstract. This is done by @absttractmethod decorator. A concrete class which is a sub class of such abstract base class then implements the abstract base by overriding its abstract methods."
   ]
  },
  {
   "cell_type": "markdown",
   "id": "705e1b53-5218-45b1-bd59-4e4ccaa5b7af",
   "metadata": {},
   "source": [
    "Q4. How can we achieve data abstraction?"
   ]
  },
  {
   "cell_type": "markdown",
   "id": "c05de5f2-4ff3-408e-9839-df3e37dc0e79",
   "metadata": {},
   "source": [
    "In Python, abstraction can be achieved by having/using abstract classes and methods in our programs.\n",
    "Example - "
   ]
  },
  {
   "cell_type": "code",
   "execution_count": 11,
   "id": "862d26e3-5f34-442e-9618-7de5fd47dcc6",
   "metadata": {},
   "outputs": [
    {
     "name": "stdout",
     "output_type": "stream",
     "text": [
      "Area:  153.86\n",
      "Perimeter:  43.96\n"
     ]
    }
   ],
   "source": [
    "from abc import ABC, abstractmethod\n",
    "class Shape():\n",
    "    def __init__(self,shapeType):\n",
    "        self.shapeType = shapeType\n",
    "        \n",
    "    @abstractmethod\n",
    "    def area(self):\n",
    "        pass\n",
    "    @abstractmethod\n",
    "    def perimeter(self):\n",
    "        pass\n",
    "    \n",
    "class Circle(Shape):\n",
    "    pi=3.14\n",
    "    def __init__(self,radius):\n",
    "        Shape.__init__(self, \"Circle\")\n",
    "        self.radius = radius\n",
    "    def area(self):\n",
    "        return Circle.pi*self.radius**2\n",
    "    def perimeter(self):\n",
    "        return 2*Circle.pi*self.radius\n",
    "\n",
    "circle = Circle(7)\n",
    "print(\"Area: \",circle.area())\n",
    "print(\"Perimeter: \",circle.perimeter())"
   ]
  },
  {
   "cell_type": "markdown",
   "id": "20a8755f-ed90-4410-8313-0d1af7c413a9",
   "metadata": {},
   "source": [
    "Q5. Can we create an instance of an abstract class? Explain your answer."
   ]
  },
  {
   "cell_type": "markdown",
   "id": "3f62d2c2-a9cb-457a-87d1-15b51efa0e94",
   "metadata": {},
   "source": [
    "We cann't create an instance of an abstract class.\n",
    "\n",
    "Abstract classes that cannot be instantiated. This means that we cannot create objects of an abstract class and these are only meant to be inherited. Then an object of the derived class is used to access the features of the base class. These are specifically defined to lay a foundation of other classes that exhibit common behavior or characteristics."
   ]
  },
  {
   "cell_type": "code",
   "execution_count": null,
   "id": "4796baae-d75f-4996-849e-0a50ca339b51",
   "metadata": {},
   "outputs": [],
   "source": []
  }
 ],
 "metadata": {
  "kernelspec": {
   "display_name": "Python 3 (ipykernel)",
   "language": "python",
   "name": "python3"
  },
  "language_info": {
   "codemirror_mode": {
    "name": "ipython",
    "version": 3
   },
   "file_extension": ".py",
   "mimetype": "text/x-python",
   "name": "python",
   "nbconvert_exporter": "python",
   "pygments_lexer": "ipython3",
   "version": "3.10.8"
  }
 },
 "nbformat": 4,
 "nbformat_minor": 5
}
