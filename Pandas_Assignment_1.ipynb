{
 "cells": [
  {
   "cell_type": "code",
   "execution_count": 2,
   "id": "5a469e0c-47de-4d7f-98b2-376691331608",
   "metadata": {},
   "outputs": [],
   "source": [
    "import pandas as pd"
   ]
  },
  {
   "cell_type": "markdown",
   "id": "b55b4df2-7833-402d-a850-8f128e10e7ca",
   "metadata": {},
   "source": [
    "Q1. Create a Pandas Series that contains the following data: 4, 8, 15, 16, 23, and 42. Then, print the series."
   ]
  },
  {
   "cell_type": "code",
   "execution_count": 4,
   "id": "35ac2fde-4ec1-49ec-ae28-ffe62c486ba9",
   "metadata": {},
   "outputs": [
    {
     "name": "stdout",
     "output_type": "stream",
     "text": [
      "0     4\n",
      "1     8\n",
      "2    15\n",
      "3    16\n",
      "4    23\n",
      "5    42\n",
      "dtype: int64\n"
     ]
    }
   ],
   "source": [
    "array = [4,8,15,16,23,42]\n",
    "series = pd.Series(array)\n",
    "print(series)"
   ]
  },
  {
   "cell_type": "markdown",
   "id": "04e9aa87-dfc3-42e1-9442-05d3bcd14cac",
   "metadata": {},
   "source": [
    "Q2. Create a variable of list type containing 10 elements in it, and apply pandas.Series function on the\n",
    "variable print it."
   ]
  },
  {
   "cell_type": "code",
   "execution_count": 5,
   "id": "88c69db8-ab09-42f7-b888-dbf35973e29e",
   "metadata": {},
   "outputs": [
    {
     "name": "stdout",
     "output_type": "stream",
     "text": [
      "0     1\n",
      "1     2\n",
      "2     3\n",
      "3     4\n",
      "4     5\n",
      "5     6\n",
      "6     7\n",
      "7     8\n",
      "8     9\n",
      "9    10\n",
      "dtype: int64\n"
     ]
    }
   ],
   "source": [
    "arr = [i for i in range(1,11)]\n",
    "series = pd.Series(arr)\n",
    "print(series)"
   ]
  },
  {
   "attachments": {
    "13afa118-7334-4e5c-9f40-aa2ff1e78a7c.png": {
     "image/png": "[encoded data removed]"
    }
   },
   "cell_type": "markdown",
   "id": "129f8b53-4eb9-4a76-8922-737bac7ee5e1",
   "metadata": {},
   "source": [
    "Q3. Create a Pandas DataFrame that contains the following data:\n",
    "\n",
    "![image.png](attachment:13afa118-7334-4e5c-9f40-aa2ff1e78a7c.png)\n",
    "\n",
    "Then, print the DataFrame."
   ]
  },
  {
   "cell_type": "code",
   "execution_count": 6,
   "id": "17955540-4598-4a6e-958d-ffb247476e66",
   "metadata": {},
   "outputs": [
    {
     "name": "stdout",
     "output_type": "stream",
     "text": [
      "     Name  Age  Gender\n",
      "0   Alice   25  Female\n",
      "1     Bob   30    Male\n",
      "2  Claire   27  Female\n"
     ]
    }
   ],
   "source": [
    "data = {\n",
    "    \"Name\":[\"Alice\",\"Bob\",\"Claire\"],\n",
    "    \"Age\":[25,30,27],\n",
    "    \"Gender\":[\"Female\",\"Male\",\"Female\"]\n",
    "}\n",
    "dataframe = pd.DataFrame(data)\n",
    "print(dataframe)"
   ]
  },
  {
   "cell_type": "markdown",
   "id": "9bc6a6df-0845-4559-9b70-e7aa37552a2a",
   "metadata": {},
   "source": [
    "Q4. What is ‘DataFrame’ in pandas and how is it different from pandas.series? Explain with an example."
   ]
  },
  {
   "cell_type": "markdown",
   "id": "d11bc66e-c412-4639-9daf-1ad64eaf0900",
   "metadata": {},
   "source": [
    "A pandas DataFrame is a two-dimensional data structure that can be thought of as a spreadsheet. It can also be thought of as a collection of two or more series with common indices.\n",
    "\n",
    "On the other hand a pandas series is a one-dimensional data structure that comprises of key-value pair, where keys/labels are the indices and values are the values stored on that index. It is similar to a python dictionary."
   ]
  },
  {
   "cell_type": "code",
   "execution_count": 10,
   "id": "b94eff8e-af79-45b3-ac0c-aca321ce798b",
   "metadata": {},
   "outputs": [
    {
     "name": "stdout",
     "output_type": "stream",
     "text": [
      "Series:\n",
      "a          [1, 2, 3, 4, 5, 6]\n",
      "b       [7, 8, 9, 10, 11, 12]\n",
      "c    [13, 14, 15, 16, 17, 18]\n",
      "dtype: object\n",
      "DataFrame:\n",
      "   a   b   c\n",
      "0  1   7  13\n",
      "1  2   8  14\n",
      "2  3   9  15\n",
      "3  4  10  16\n",
      "4  5  11  17\n",
      "5  6  12  18\n"
     ]
    }
   ],
   "source": [
    "data = {\"a\":[1,2,3,4,5,6],\"b\":[7,8,9,10,11,12],\"c\":[13,14,15,16,17,18]}\n",
    "series = pd.Series(data)\n",
    "dataframe = pd.DataFrame(data)\n",
    "print(\"Series:\")\n",
    "print(series)\n",
    "print(\"DataFrame:\")\n",
    "print(dataframe)"
   ]
  },
  {
   "cell_type": "markdown",
   "id": "5bea091c-8574-43a2-affb-dd8ec5839665",
   "metadata": {},
   "source": [
    "Q5. What are some common functions you can use to manipulate data in a Pandas DataFrame? Can\n",
    "you give an example of when you might use one of these functions?"
   ]
  },
  {
   "cell_type": "markdown",
   "id": "f800ae5d-45f3-401a-8848-da5fa81942ac",
   "metadata": {},
   "source": [
    "apply() - The Pandas apply() function can be used to apply a function on every value in a column or row of a DataFrame, and transform that column or row to the resulting values.\n",
    "\n",
    "drop() - The pandas drop() function can be used to delete a single row or multiple rows.\n",
    "\n",
    "head() - The pandas head() is used to get first 5 rows from dataframe. If we pass paramter like 3 in the function, then it will print first 3 rows only.\n",
    "\n",
    "tail() - The pandas head() is used to get last 5 rows from dataframe. If we pass paramter like 3 in the function, then it will print last 3 rows only."
   ]
  },
  {
   "cell_type": "code",
   "execution_count": 13,
   "id": "307a9ed3-aa34-4742-8e35-f776a90b7ac7",
   "metadata": {},
   "outputs": [
    {
     "name": "stdout",
     "output_type": "stream",
     "text": [
      "Example - head()\n",
      "   a   b   c\n",
      "0  1   7  13\n",
      "1  2   8  14\n",
      "2  3   9  15\n",
      "3  4  10  16\n",
      "4  5  11  17\n",
      "Example - tail()\n",
      "   a   b   c\n",
      "1  2   8  14\n",
      "2  3   9  15\n",
      "3  4  10  16\n",
      "4  5  11  17\n",
      "5  6  12  18\n"
     ]
    }
   ],
   "source": [
    "print(\"Example - head()\")\n",
    "print(dataframe.head())\n",
    "\n",
    "print(\"Example - tail()\")\n",
    "print(dataframe.tail())"
   ]
  },
  {
   "cell_type": "markdown",
   "id": "a83416a4-f535-4200-b4c5-8d8dc7ef1f4f",
   "metadata": {},
   "source": [
    "Q6. Which of the following is mutable in nature Series, DataFrame, Panel?"
   ]
  },
  {
   "cell_type": "markdown",
   "id": "6ccfb082-65aa-4aea-a684-c054fc4e8edd",
   "metadata": {},
   "source": [
    "Series, DataFrame, Panel are value mutable. Among them DataFrame and Panel are size mutable but Series is size immutable."
   ]
  },
  {
   "cell_type": "markdown",
   "id": "96a51782-0ce7-47b7-95b9-2dde63e5b28f",
   "metadata": {},
   "source": [
    "Q7. Create a DataFrame using multiple Series. Explain with an example."
   ]
  },
  {
   "cell_type": "markdown",
   "id": "01cf7005-f8c6-4105-9f85-33a41a479f89",
   "metadata": {},
   "source": [
    "We can create a DataFrame from multiple Series objects by adding each series as a columns.\n",
    "By using concat() method we can merge multiple series together into DataFrame. This takes several params, for our scenario we use list that takes series to combine and axis=1 to specify merge series as columns instead of rows. Note that using axis=0 appends series to rows instead of columns."
   ]
  },
  {
   "cell_type": "code",
   "execution_count": 3,
   "id": "cc4d73a1-84e7-4a32-8076-f0850d76845a",
   "metadata": {},
   "outputs": [
    {
     "name": "stdout",
     "output_type": "stream",
     "text": [
      "   courses   fees  discount\n",
      "0    Spark  22000      1000\n",
      "1  PySpark  25000      2300\n",
      "2   Hadoop  23000      1000\n"
     ]
    }
   ],
   "source": [
    "# Create Series by assigning names\n",
    "courses = pd.Series([\"Spark\",\"PySpark\",\"Hadoop\"], name='courses')\n",
    "fees = pd.Series([22000,25000,23000], name='fees')\n",
    "discount  = pd.Series([1000,2300,1000],name='discount')\n",
    "\n",
    "df=pd.concat([courses,fees,discount],axis=1)\n",
    "print(df)"
   ]
  },
  {
   "cell_type": "code",
   "execution_count": null,
   "id": "aa540563-dfdf-40e5-8383-12954ba7db71",
   "metadata": {},
   "outputs": [],
   "source": []
  }
 ],
 "metadata": {
  "kernelspec": {
   "display_name": "Python 3 (ipykernel)",
   "language": "python",
   "name": "python3"
  },
  "language_info": {
   "codemirror_mode": {
    "name": "ipython",
    "version": 3
   },
   "file_extension": ".py",
   "mimetype": "text/x-python",
   "name": "python",
   "nbconvert_exporter": "python",
   "pygments_lexer": "ipython3",
   "version": "3.10.8"
  }
 },
 "nbformat": 4,
 "nbformat_minor": 5
}
