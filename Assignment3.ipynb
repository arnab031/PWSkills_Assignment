{
 "cells": [
  {
   "cell_type": "code",
   "execution_count": 6,
   "id": "9de041f6-9352-4f12-aab2-95e3a3e616b1",
   "metadata": {},
   "outputs": [],
   "source": [
    "# Q1. Explain with an example each when to use a for loop and a while loop.\n",
    "# Answer - When we don't know the number of iteration then we use while loop.\n",
    "#          When we know the number of iteration then we use for loop.\n",
    "#          Example - If we want check that how many times a number is divisble by 3.\n",
    "#                    Code - number = 90\n",
    "                            # count = 0\n",
    "                            # while(number>=3):\n",
    "                            #     if(number%3==0):\n",
    "                            #         count+=1\n",
    "                            #         number//=3\n",
    "                            #     number-=1\n",
    "                            # print(count) #Output - 3\n",
    "    # n -> number of iteration\n",
    "    # we want to divide a number n times then we use for loop.\n",
    "    # number = 90\n",
    "    # n = 3\n",
    "    # for i in range(n):\n",
    "    #     number = number//3;\n",
    "    # print(number) #Output - 3\n",
    "    \n",
    "                   "
   ]
  },
  {
   "cell_type": "code",
   "execution_count": 9,
   "id": "5b34bed3-ceb5-4c0b-b5eb-f381d3117c19",
   "metadata": {},
   "outputs": [
    {
     "name": "stdout",
     "output_type": "stream",
     "text": [
      "sum:  55\n",
      "sum:  55\n"
     ]
    }
   ],
   "source": [
    "#Q2. Write a python program to print the sum and product of the first 10 natural numbers using for and while loop.\n",
    "sum_for = 0\n",
    "for i in range(11):\n",
    "    sum_for+=i\n",
    "print(\"sum: \",sum_for)\n",
    "\n",
    "sum_while = 0\n",
    "i=0\n",
    "while(i<=10):\n",
    "    sum_while+=i\n",
    "    i+=1\n",
    "print(\"sum: \",sum_while)"
   ]
  },
  {
   "cell_type": "code",
   "execution_count": 18,
   "id": "0cd7a106-5568-4986-876a-ef3195b5bb6d",
   "metadata": {},
   "outputs": [
    {
     "name": "stdin",
     "output_type": "stream",
     "text": [
      "Enter the unit of electricity consumed by the user in a month:  310\n"
     ]
    },
    {
     "name": "stdout",
     "output_type": "stream",
     "text": [
      "Bill:  2250.0\n"
     ]
    }
   ],
   "source": [
    "# Q3. Create a python program to compute the electricity bill for a household.\n",
    "# The per-unit charges in rupees are as follows: For the first 100 units, the user will be charged Rs. 4.5 per unit, for the next 100 units, the user will be charged Rs. 6 per unit, \n",
    "# and for the next 100 units, the user will be charged Rs. 10 per unit, After 300 units and above the user will be charged Rs. 20 per unit.\n",
    "\n",
    "# You are required to take the units of electricity consumed in a month from the user as input.\n",
    "\n",
    "# Your program must pass this test case: when the unit of electricity consumed by the user in a month is 310, the total electricity bill should be 2250.\n",
    "\n",
    "electricity_consumed = int(input(\"Enter the unit of electricity consumed by the user in a month: \"))\n",
    "bill = 0\n",
    "while(electricity_consumed>0):\n",
    "    if(electricity_consumed>300):\n",
    "        temp = electricity_consumed-300\n",
    "        bill+=(temp)*20\n",
    "        electricity_consumed-=temp\n",
    "        #print(str(temp)+\" 1 \"+str(electricity_consumed)+\" \"+str(bill))\n",
    "    elif(electricity_consumed>200 and electricity_consumed<=300):\n",
    "        temp = electricity_consumed-200\n",
    "        bill+=temp*10\n",
    "        electricity_consumed-=temp\n",
    "        #print(str(temp)+\" 2 \"+str(electricity_consumed)+\" \"+str(bill))\n",
    "    elif(electricity_consumed>100 and electricity_consumed<=200):\n",
    "        temp = electricity_consumed-100\n",
    "        bill+=temp*6\n",
    "        electricity_consumed-=temp\n",
    "        #print(str(temp)+\" 3 \"+str(electricity_consumed)+\" \"+str(bill))\n",
    "    elif(electricity_consumed<=100):\n",
    "        temp = electricity_consumed\n",
    "        bill+=temp*4.5\n",
    "        electricity_consumed-=temp\n",
    "        #print(str(temp)+\" 4 \"+str(electricity_consumed)+\" \"+str(bill))\n",
    "\n",
    "print(\"Bill: \",bill)\n",
    "        # if(temp>0):\n",
    "        #     bill+=(temp)*4.5\n",
    "        # else:\n",
    "        #     bill+=electricity_consumed*4.5\n",
    "        #     break\n",
    "    "
   ]
  },
  {
   "cell_type": "code",
   "execution_count": 19,
   "id": "300afb71-034a-4646-aee3-52a5ca2c38e9",
   "metadata": {},
   "outputs": [
    {
     "name": "stdout",
     "output_type": "stream",
     "text": [
      "[8, 64, 125, 216, 512, 1000, 1728, 2744, 3375, 4096, 5832, 8000, 10648, 13824, 15625, 17576, 21952, 27000, 32768, 39304, 42875, 46656, 54872, 64000, 74088, 85184, 91125, 97336, 110592, 125000, 140608, 157464, 166375, 175616, 195112, 216000, 238328, 262144, 274625, 287496, 314432, 343000, 373248, 405224, 421875, 438976, 474552, 512000, 551368, 592704, 614125, 636056, 681472, 729000, 778688, 830584, 857375, 884736, 941192, 1000000]\n"
     ]
    }
   ],
   "source": [
    "# Q4. Create a list of numbers from 1 to 100. Use for loop and while loop to calculate the cube of each number and if the cube of that number is divisible by 4 or 5 then \n",
    "#     append that number in a list and print that list.\n",
    "\n",
    "l1 = []\n",
    "for i in range(1,101):\n",
    "    temp = i**3\n",
    "    if(temp%4==0 or temp%5==0):\n",
    "        l1.append(temp)\n",
    "print(l1)"
   ]
  },
  {
   "cell_type": "code",
   "execution_count": 21,
   "id": "97181c8c-c3c0-47a4-9fa2-2891912c7fdd",
   "metadata": {},
   "outputs": [
    {
     "name": "stdout",
     "output_type": "stream",
     "text": [
      "{'a': 4, 'e': 3, 'i': 2, 'o': 2, 'u': 0}\n",
      "Number of vowels:  11\n"
     ]
    }
   ],
   "source": [
    "# Q5. Write a program to filter count vowels in the below-given string.\n",
    "#  string = \"I want to become a data scientist\"\n",
    "string = \"I want to become a data scientist\"\n",
    "d = {}\n",
    "for item in ['a','e','i','o','u']:\n",
    "    d[item]=string.count(item)\n",
    "\n",
    "print(d)\n",
    "count = 0\n",
    "for item in d.values():\n",
    "    count+=item\n",
    "    \n",
    "print(\"Number of vowels: \",count)\n"
   ]
  },
  {
   "cell_type": "code",
   "execution_count": null,
   "id": "805a897e-da5a-4f8c-b75e-71a96e69086f",
   "metadata": {},
   "outputs": [],
   "source": []
  }
 ],
 "metadata": {
  "kernelspec": {
   "display_name": "Python 3 (ipykernel)",
   "language": "python",
   "name": "python3"
  },
  "language_info": {
   "codemirror_mode": {
    "name": "ipython",
    "version": 3
   },
   "file_extension": ".py",
   "mimetype": "text/x-python",
   "name": "python",
   "nbconvert_exporter": "python",
   "pygments_lexer": "ipython3",
   "version": "3.10.8"
  }
 },
 "nbformat": 4,
 "nbformat_minor": 5
}
