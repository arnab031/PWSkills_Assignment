{
 "cells": [
  {
   "cell_type": "markdown",
   "id": "38a1f412-00b2-4559-bd28-1e031ac4d521",
   "metadata": {},
   "source": [
    "Q1. What is Statistics?"
   ]
  },
  {
   "cell_type": "markdown",
   "id": "0e6ecc2c-8a33-41cd-95f2-7716c1b528fe",
   "metadata": {},
   "source": [
    "Statistics is the science of collecting, organizing and analyzing data."
   ]
  },
  {
   "cell_type": "markdown",
   "id": "384c242b-57d4-4b8e-82f6-b12db95f2566",
   "metadata": {},
   "source": [
    "Q2. Define the different types of statistics and give an example of when each type might be used."
   ]
  },
  {
   "cell_type": "markdown",
   "id": "c297dc54-fed4-4c2b-90a7-d8d88651d656",
   "metadata": {},
   "source": [
    "There are two types of statistics.\n",
    "\n",
    "    1. Descriptive Statistics - It consists of organizing and summarizing data.\n",
    "    2. Inferential Statistics - It consists of using data that you have measured from conclusion.\n",
    "    \n",
    "    \n",
    "    \n"
   ]
  },
  {
   "cell_type": "markdown",
   "id": "c5c7d07f-34e4-4a6c-b8fc-4361c5eabb91",
   "metadata": {},
   "source": [
    "Example of Descriptive Statistics - Average height of the entire classroom.\n",
    "Example of Inferential Statistics - Predict the expect height of entire college from the height of students of a classroom."
   ]
  },
  {
   "cell_type": "markdown",
   "id": "7fec8190-2eac-4bd1-aaef-c0aed7fd2613",
   "metadata": {},
   "source": [
    "Q3. What are the different types of data and how do they differ from each other? Provide an example of\n",
    "each type of data."
   ]
  },
  {
   "cell_type": "markdown",
   "id": "21fcc30d-b0e4-46df-b774-3d7b00776e67",
   "metadata": {},
   "source": [
    "There are four types of data.\n",
    "\n",
    "    1. Discrete Data - For Discrete Data value should be whole number.\n",
    "                       Example - No of bank accounts in a bank.\n",
    "    2. Continuous Data - Any value comes under Continuous Data.\n",
    "                       Example - Height, weight of students of a classroom. \n",
    "    3. Nominal Data - It is a one type of categorical data without any order.\n",
    "                       Example - Different kind blood groups of a blood donation camp.\n",
    "    4. Ordinal Data - It is also a type of categorical data with some order.\n",
    "                       Example - Customer feedback of a product like Good, Better, Best.\n",
    "    \n"
   ]
  },
  {
   "cell_type": "markdown",
   "id": "104aba80-b286-4e79-8663-b01ed15b7375",
   "metadata": {},
   "source": [
    "Q4. Categorise the following datasets with respect to quantitative and qualitative data types:\n",
    "\n",
    "    (i) Grading in exam: A+, A, B+, B, C+, C, D, E\n",
    "    (ii) Colour of mangoes: yellow, green, orange, red\n",
    "    (iii) Height data of a class: [178.9, 179, 179.5, 176, 177.2, 178.3, 175.8,...]\n",
    "    (iv) Number of mangoes exported by a farm: [500, 600, 478, 672, ...]"
   ]
  },
  {
   "cell_type": "markdown",
   "id": "67fa04ad-6ca6-445e-9424-25f2d71d78c1",
   "metadata": {},
   "source": [
    "Answer - \n",
    "\n",
    "    (i) Grading in exam: A+, A, B+, B, C+, C, D, E - Qualitative Data.\n",
    "    (ii) Colour of mangoes: yellow, green, orange, red - Qualitative Data.\n",
    "    (iii) Height data of a class: [178.9, 179, 179.5, 176, 177.2, 178.3, 175.8,...] - Quantitative Data.\n",
    "    (iv) Number of mangoes exported by a farm: [500, 600, 478, 672, ...] - Quantitative Data."
   ]
  },
  {
   "cell_type": "markdown",
   "id": "5a5ca574-8d4c-4cec-9ec9-92eacc4d548b",
   "metadata": {},
   "source": [
    "Q5. Explain the concept of levels of measurement and give an example of a variable for each level."
   ]
  },
  {
   "cell_type": "markdown",
   "id": "d1224299-9921-4984-bfa5-54c655a45020",
   "metadata": {},
   "source": [
    "There are 4 levels of measurement.\n",
    "\n",
    "    1. Nominal - The data can only be categorized.\n",
    "                Example - Gender, Car brands, Marital Status.\n",
    "    2. Ordinal - The data can be categorized and ranked.\n",
    "                Example - Product Review, Language ability(e.g. Begineer, Intermediate, Fluent)\n",
    "    3. Interval - The data can be categorized, ranked and evenly spaced.\n",
    "                Example - Test Scores (e.g IQ or exams)\n",
    "    4. Ratio - The data can be categorized, ranked, evenly spaced and has a natural zero.\n",
    "                Example - Age, Height, Weight."
   ]
  },
  {
   "cell_type": "markdown",
   "id": "c4232487-bd06-477a-b72d-c3522a8e4f32",
   "metadata": {},
   "source": [
    "Q6. Why is it important to understand the level of measurement when analyzing data? Provide an\n",
    "example to illustrate your answer."
   ]
  },
  {
   "attachments": {
    "8222b17d-6573-4318-bfda-721d91a84607.png": {
     "image/png": "[encoded data removed]"
    }
   },
   "cell_type": "markdown",
   "id": "adc4067b-2933-4c57-9d89-399be00e5d10",
   "metadata": {},
   "source": [
    "Levels of measurement, also called scales of measurement, tell you how precisely variables are recorded. \n",
    "The different levels limit which descriptive statistics we can use to get an overall summary of our data and which type of inferential statistics we can perform on our data to support or refute our hypothesis.\n",
    "\n",
    "Example - We can measure the variable of income at an ordinal level or ratio level.\n",
    "\n",
    "    a) Ordinal Level: We can brackets of monthly income ranges: Rs. 0 - Rs. 24,999, Rs. 25,000 - Rs.49,999, Rs. 50,000 - Rs. 1,00,000. Anyone can select their income bracket level. Th brackets are coded with numbers from 1-3.\n",
    "    \n",
    "    b) Ratio Level: We can collect data on the exact annual incomes of a person.\n",
    "    \n",
    "![image.png](attachment:8222b17d-6573-4318-bfda-721d91a84607.png)\n",
    "\n",
    "At an ordinal level, we only come to know the income slab of a person, not their exact income. Since we cannot say exactly how much income differs from the others in the data set.\n",
    "\n",
    "At a ratio level, we see that the difference between A and B's incomes is far greater than the difference between B and C's incomes."
   ]
  },
  {
   "cell_type": "markdown",
   "id": "3930a5c4-ccb8-4609-b809-75542cc5be42",
   "metadata": {},
   "source": [
    "Q7. How nominal data type is different from ordinal data type."
   ]
  },
  {
   "cell_type": "markdown",
   "id": "a2fcf81b-edcc-44a4-897f-736b97535715",
   "metadata": {},
   "source": [
    "Nominal and Ordinal both are categorized but for ordinal data ranking is important."
   ]
  },
  {
   "cell_type": "markdown",
   "id": "67b912e8-53d7-4806-a1c6-1c0835440e11",
   "metadata": {},
   "source": [
    "Q8. Which type of plot can be used to display data in terms of range?"
   ]
  },
  {
   "cell_type": "markdown",
   "id": "380fa325-62a2-467d-b85c-22159ab612aa",
   "metadata": {},
   "source": [
    "Histogram can be used to display data in terms of range."
   ]
  },
  {
   "cell_type": "markdown",
   "id": "21b872c6-5137-4b1f-99df-44d08b9e204d",
   "metadata": {},
   "source": [
    "Q9. Describe the difference between descriptive and inferential statistics. Give an example of each\n",
    "type of statistics and explain how they are used."
   ]
  },
  {
   "cell_type": "markdown",
   "id": "5aac8752-ea05-407d-b124-d1b9e222b9b0",
   "metadata": {},
   "source": [
    "Descriptive statistics summarize the characteristics of a data set. Inferential statistics allow you to test a hypothesis or assess whether your data is generalizable to the broader population.\n",
    "\n",
    "Example - If we want to calculate the average height of students of a class, then we take heights of all the students and find average. It is an example of descriptive statistics.\n",
    "\n",
    "If we want to find the average height of students of a college from the average height of classroom, then it is an example of Inferential Statistics."
   ]
  },
  {
   "cell_type": "markdown",
   "id": "3b5a8c4e-6b2c-4cb8-82ce-1392f0066f47",
   "metadata": {},
   "source": [
    "Q10. What are some common measures of central tendency and variability used in statistics? Explain\n",
    "how each measure can be used to describe a dataset."
   ]
  },
  {
   "cell_type": "markdown",
   "id": "79f47281-b164-4f1b-bdcf-c617de3b7baf",
   "metadata": {},
   "source": [
    "The central tendency measure is defined as the number used to represent the center or middle of a set of data values. The three commonly used measures of central tendency are the mean, median, and mode.\n",
    "\n",
    "The mode is the most commonly occurring value in a distribution.\n",
    "\n",
    "The median is the middle value in distribution when the values are arranged in ascending or descending order.\n",
    "\n",
    "The mean is the sum of the value of each observation in a dataset divided by the number of observations. This is also known as the arithmetic average.\n",
    "\n",
    "Using these we can conclude that which value is repeating at most, which one is middle value in our dataset. We also come to know average value of the dataset."
   ]
  },
  {
   "cell_type": "code",
   "execution_count": null,
   "id": "e4483ae8-d2bf-4540-932a-84d62644dc24",
   "metadata": {},
   "outputs": [],
   "source": []
  }
 ],
 "metadata": {
  "kernelspec": {
   "display_name": "Python 3 (ipykernel)",
   "language": "python",
   "name": "python3"
  },
  "language_info": {
   "codemirror_mode": {
    "name": "ipython",
    "version": 3
   },
   "file_extension": ".py",
   "mimetype": "text/x-python",
   "name": "python",
   "nbconvert_exporter": "python",
   "pygments_lexer": "ipython3",
   "version": "3.10.8"
  }
 },
 "nbformat": 4,
 "nbformat_minor": 5
}
